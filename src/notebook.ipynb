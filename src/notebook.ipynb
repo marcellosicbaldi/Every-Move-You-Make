{
 "cells": [
  {
   "cell_type": "code",
   "execution_count": 1,
   "metadata": {},
   "outputs": [],
   "source": [
    "import numpy as np\n",
    "import pandas as pd\n",
    "import matplotlib as mpl\n",
    "import matplotlib.pyplot as plt\n",
    "\n",
    "import pickle\n",
    "\n",
    "import seaborn as sns\n",
    "\n",
    "%matplotlib qt\n",
    "mpl.rcParams['lines.linewidth'] = 0.91\n",
    "plt.style.use('seaborn-v0_8-whitegrid')"
   ]
  },
  {
   "cell_type": "markdown",
   "metadata": {},
   "source": [
    "## Load GGIR output \n",
    "(From script: `/Volumes/Untitled/rehab/GGIR/GGIR_LG-miar.Rmd`)"
   ]
  },
  {
   "cell_type": "code",
   "execution_count": 2,
   "metadata": {},
   "outputs": [],
   "source": [
    "import pyreadr"
   ]
  },
  {
   "cell_type": "code",
   "execution_count": 3,
   "metadata": {},
   "outputs": [],
   "source": [
    "diary_SPT = {    \n",
    "    \"158\": [pd.Timestamp('2024-02-28 23:00:00'), pd.Timestamp('2024-02-29 07:15:00')], # 158 OK\n",
    "    \"633\": [pd.Timestamp('2024-03-07 00:05:00'), pd.Timestamp('2024-03-07 06:36:00')], # 633 OK\n",
    "    \"906\": [pd.Timestamp('2024-03-07 00:30:00'), pd.Timestamp('2024-03-07 07:30:00')], # 906 OK\n",
    "    \"958\": [pd.Timestamp('2024-03-13 22:00:00'), pd.Timestamp('2024-03-14 06:00:00')], # 958 OK\n",
    "    \"127\": [pd.Timestamp('2024-03-13 23:15:00'), pd.Timestamp('2024-03-14 06:50:00')], # 127 OK\n",
    "    \"098\": [pd.Timestamp('2024-03-16 02:01:00'), pd.Timestamp('2024-03-16 09:50:00')], # 098 OK\n",
    "    \"547\": [pd.Timestamp('2024-03-16 01:04:00'), pd.Timestamp('2024-03-16 07:40:00')], # 547 OK\n",
    "    \"815\": [pd.Timestamp('2024-03-20 23:00:00'), pd.Timestamp('2024-03-21 07:30:00')], # 815 OK\n",
    "    \"914\": [pd.Timestamp('2024-03-20 21:50:00'), pd.Timestamp('2024-03-21 05:50:00')], # 914 OK\n",
    "    \"971\": [pd.Timestamp('2024-03-20 23:50:00'), pd.Timestamp('2024-03-21 07:50:00')], # 971 OK\n",
    "    \"279\": [pd.Timestamp('2024-03-28 00:10:00'), pd.Timestamp('2024-03-28 07:27:00')], # 279 OK\n",
    "    \"965\": [pd.Timestamp('2024-03-28 01:25:00'), pd.Timestamp('2024-03-28 09:20:00')], # 965 OK\n",
    "}\n",
    "\n",
    "diary_TIB = {\n",
    "    \"158\": [pd.Timestamp('2024-02-28 22:15:00'), pd.Timestamp('2024-02-29 07:45:00')], # 158 OK\n",
    "    \"633\": [pd.Timestamp('2024-03-06 23:39:00'), pd.Timestamp('2024-03-07 08:00:00')], # 633 OK \n",
    "    \"906\": [pd.Timestamp('2024-03-07 00:15:00'), pd.Timestamp('2024-03-07 07:35:00')], # 906 OK\n",
    "    \"958\": [pd.Timestamp('2024-03-13 21:30:00'), pd.Timestamp('2024-03-14 06:30:00')], # 958 OK\n",
    "    \"127\": [pd.Timestamp('2024-03-13 22:00:00'), pd.Timestamp('2024-03-14 07:10:00')], # 127 OK \n",
    "    \"098\": [pd.Timestamp('2024-03-16 01:49:00'), pd.Timestamp('2024-03-16 09:52:00')], # 098 OK \n",
    "    \"547\": [pd.Timestamp('2024-03-16 00:26:00'), pd.Timestamp('2024-03-16 08:20:00')], # 547 OK \n",
    "    \"815\": [pd.Timestamp('2024-03-20 22:00:00'), pd.Timestamp('2024-03-21 07:30:00')], # 815 OK \n",
    "    \"914\": [pd.Timestamp('2024-03-20 21:30:00'), pd.Timestamp('2024-03-21 06:20:00')], # 914 OK \n",
    "    \"971\": [pd.Timestamp('2024-03-20 23:30:00'), pd.Timestamp('2024-03-21 08:08:00')], # 971 OK \n",
    "    \"279\": [pd.Timestamp('2024-03-28 00:04:00'), pd.Timestamp('2024-03-28 07:41:00')], # 279 OK\n",
    "    \"965\": [pd.Timestamp('2024-03-28 01:22:00'), pd.Timestamp('2024-03-28 09:22:00')], # 965 OK\n",
    "}"
   ]
  },
  {
   "cell_type": "code",
   "execution_count": 4,
   "metadata": {},
   "outputs": [],
   "source": [
    "part2_outputFolder = \"/Volumes/Untitled/rehab/GGIR/GGIR_output_TIB/output_lw_data/meta/ms2.out/\"\n",
    "part3_outputFolder = \"/Volumes/Untitled/rehab/GGIR/GGIR_output_TIB/output_lw_data/meta/ms3.out/\"\n",
    "subjects = [\"158\", \"098\", \"633\", \"279\", \"906\", \"547\", \"971\", \"958\", \"815\"]\n",
    "\n",
    "SIB_GGIR = {sub: pyreadr.read_r(part3_outputFolder + \"LW_\" + sub + \".CWA.RData\")['sib.cla.sum'][[\"sib.onset.time\", \"sib.end.time\"]] for sub in subjects}\n",
    "\n",
    "bursts_lw = {sub: 0 for sub in subjects}\n",
    "bursts_rw = {sub: 0 for sub in subjects}\n",
    "bursts_ll = {sub: 0 for sub in subjects}\n",
    "bursts_rl = {sub: 0 for sub in subjects}\n",
    "bursts_trunk = {sub: 0 for sub in subjects}\n",
    "bursts_all_limbs = {sub: 0 for sub in subjects}\n",
    "SIB = {sub: 0 for sub in subjects}\n",
    "for i, sub in enumerate(subjects):\n",
    "    SIB_GGIR[sub][\"sib.onset.time\"] = pd.to_datetime(SIB_GGIR[sub][\"sib.onset.time\"].values).tz_localize(None)\n",
    "    SIB_GGIR[sub][\"sib.end.time\"] = pd.to_datetime(SIB_GGIR[sub][\"sib.end.time\"].values).tz_localize(None)\n",
    "    # end time - onset time\n",
    "    SIB_GGIR[sub][\"sib.duration\"] = SIB_GGIR[sub][\"sib.end.time\"] - SIB_GGIR[sub][\"sib.onset.time\"]\n",
    "    # onset time - previous end time\n",
    "    # print(min(SIB_all[sub].dropna()[\"awake.duration\"]))\n",
    "    # SIB[sub]['sib.onset.time'] += pd.Timedelta('5s')\n",
    "    # SIB[sub]['sib.end.time'] += pd.Timedelta('5s')\n",
    "    with open(f'/Volumes/Untitled/rehab/data/{sub}/bursts_TIB.pkl', 'rb') as f:\n",
    "        bursts = pickle.load(f)\n",
    "    bursts_lw[sub] = bursts[\"lw\"]\n",
    "    bursts_rw[sub] = bursts[\"rw\"]\n",
    "    bursts_ll[sub] = bursts[\"ll\"]\n",
    "    bursts_rl[sub] = bursts[\"rl\"]\n",
    "    bursts_trunk[sub] = bursts[\"trunk\"]\n",
    "    bursts_all_limbs[sub] = bursts[\"all_limbs\"]\n",
    "\n",
    "    spt_start = diary_TIB[sub][0]\n",
    "    spt_end = diary_TIB[sub][1] + pd.Timedelta('5 min')\n",
    "\n",
    "    SIB[sub] = SIB_GGIR[sub][(SIB_GGIR[sub][\"sib.onset.time\"] >= spt_start) & (SIB_GGIR[sub][\"sib.end.time\"] <= spt_end)].reset_index(drop=True)\n",
    "    SIB[sub] = SIB_GGIR[sub][(SIB_GGIR[sub][\"sib.onset.time\"] >= spt_start) & (SIB_GGIR[sub][\"sib.end.time\"] <= spt_end)].reset_index(drop=True)\n",
    "\n",
    "    SIB[sub][\"awake.duration\"] = SIB[sub][\"sib.onset.time\"].shift(-1) - SIB[sub][\"sib.end.time\"]\n",
    "\n",
    "    # Angle-z\n",
    "    metashort = pd.read_csv(part2_outputFolder + \"/metashortLW_\" + sub + \".CWA.RData.csv\", index_col=1)\n",
    "    metashort.index = pd.to_datetime(metashort.index).tz_localize(None)\n",
    "    anglez = metashort.drop(columns=[\"Unnamed: 0\", \"ENMO\"])\n",
    "\n",
    "    SIB[sub][\"sub_ID\"] = sub\n",
    "    bursts_lw[sub][\"sub_ID\"] = sub\n",
    "    bursts_rw[sub][\"sub_ID\"] = sub\n",
    "    bursts_ll[sub][\"sub_ID\"] = sub\n",
    "    bursts_rl[sub][\"sub_ID\"] = sub\n",
    "    bursts_trunk[sub][\"sub_ID\"] = sub\n",
    "    bursts_all_limbs[sub][\"sub_ID\"] = sub\n",
    "\n",
    "    # Find bursts that overlap with SIB\n",
    "    bursts_lw[sub][\"sib\"] = 0\n",
    "    for i, sib in SIB[sub].iterrows():\n",
    "        for j, burst in bursts_lw[sub].iterrows():\n",
    "            if burst[\"start\"] > sib[\"sib.onset.time\"] + pd.Timedelta('5s')  and burst[\"end\"] < sib[\"sib.end.time\"] - pd.Timedelta('5s'):\n",
    "                bursts_lw[sub].at[j, \"sib\"] = 1\n",
    "    bursts_rw[sub][\"sib\"] = 0\n",
    "    for i, sib in SIB[sub].iterrows():\n",
    "        for j, burst in bursts_rw[sub].iterrows():\n",
    "            if burst[\"start\"] > sib[\"sib.onset.time\"] + pd.Timedelta('5s')  and burst[\"end\"] < sib[\"sib.end.time\"] - pd.Timedelta('5s'):\n",
    "                bursts_rw[sub].at[j, \"sib\"] = 1\n",
    "    bursts_ll[sub][\"sib\"] = 0\n",
    "    for i, sib in SIB[sub].iterrows():\n",
    "        for j, burst in bursts_ll[sub].iterrows():\n",
    "            if burst[\"start\"] > sib[\"sib.onset.time\"] + pd.Timedelta('5s')  and burst[\"end\"] < sib[\"sib.end.time\"] - pd.Timedelta('5s'):\n",
    "                bursts_ll[sub].at[j, \"sib\"] = 1\n",
    "    bursts_rl[sub][\"sib\"] = 0\n",
    "    for i, sib in SIB[sub].iterrows():\n",
    "        for j, burst in bursts_rl[sub].iterrows():\n",
    "            if burst[\"start\"] > sib[\"sib.onset.time\"] + pd.Timedelta('5s')  and burst[\"end\"] < sib[\"sib.end.time\"] - pd.Timedelta('5s'):\n",
    "                bursts_rl[sub].at[j, \"sib\"] = 1\n",
    "    bursts_trunk[sub][\"sib\"] = 0\n",
    "    for i, sib in SIB[sub].iterrows():\n",
    "        for j, burst in bursts_trunk[sub].iterrows():\n",
    "            if burst[\"start\"] > sib[\"sib.onset.time\"] + pd.Timedelta('5s')  and burst[\"end\"] < sib[\"sib.end.time\"] - pd.Timedelta('5s'):\n",
    "                bursts_trunk[sub].at[j, \"sib\"] = 1\n",
    "    bursts_all_limbs[sub][\"sib\"] = 0\n",
    "    for i, sib in SIB[sub].iterrows():\n",
    "        for j, burst in bursts_all_limbs[sub].iterrows():\n",
    "            if burst[\"start\"] > sib[\"sib.onset.time\"] + pd.Timedelta('5s')  and burst[\"end\"] < sib[\"sib.end.time\"] - pd.Timedelta('5s'):\n",
    "                bursts_all_limbs[sub].at[j, \"sib\"] = 1"
   ]
  },
  {
   "cell_type": "markdown",
   "metadata": {},
   "source": [
    "## EDA - Single limbs but burst may happen together"
   ]
  },
  {
   "cell_type": "markdown",
   "metadata": {},
   "source": [
    "SIB contains the SIB for all subjects (start time, end time and duration). Obviously, it contains also the AWAKE periods (total of n-1 events). "
   ]
  },
  {
   "cell_type": "code",
   "execution_count": 5,
   "metadata": {},
   "outputs": [],
   "source": [
    "# One DataFrame for all subjects\n",
    "SIB_all = pd.concat(SIB.values(), ignore_index=True)\n",
    "SIB_all[\"awake.duration.seconds\"] = SIB_all[\"awake.duration\"].dt.total_seconds()\n",
    "SIB_all[\"sib.duration.seconds\"] = SIB_all[\"sib.duration\"].dt.total_seconds()\n",
    "SIB_all[\"sib.duration.minutes\"] = SIB_all[\"sib.duration\"].dt.total_seconds() / 60\n",
    "SIB_all[\"awake.duration.minutes\"] = SIB_all[\"awake.duration\"].dt.total_seconds() / 60"
   ]
  },
  {
   "cell_type": "markdown",
   "metadata": {},
   "source": [
    "Duration of awake periods between SIB"
   ]
  },
  {
   "cell_type": "code",
   "execution_count": 7,
   "metadata": {},
   "outputs": [
    {
     "data": {
      "text/plain": [
       "Text(0.5, 1.0, 'Awake periods between SIB during Time In Bed')"
      ]
     },
     "execution_count": 7,
     "metadata": {},
     "output_type": "execute_result"
    }
   ],
   "source": [
    "# Plot the number of awake periods between SIB\n",
    "sns.set_context(\"talk\")\n",
    "\n",
    "plt.figure()\n",
    "sns.stripplot(data=SIB_all, x=\"sub_ID\", y=\"awake.duration.minutes\", jitter=0.2, alpha = 0.5, color = \"blue\")\n",
    "sns.boxplot(data=SIB_all, x=\"sub_ID\", y=\"awake.duration.minutes\", showfliers=False, color = \"y\")\n",
    "plt.ylabel(\"Awake duration (minutes)\")\n",
    "\n",
    "plt.title(\"Awake periods between SIB during Time In Bed\")"
   ]
  },
  {
   "cell_type": "markdown",
   "metadata": {},
   "source": [
    "Duration of SIB"
   ]
  },
  {
   "cell_type": "code",
   "execution_count": 8,
   "metadata": {},
   "outputs": [
    {
     "data": {
      "text/plain": [
       "Text(0.5, 1.0, 'SIB during Time In Bed')"
      ]
     },
     "execution_count": 8,
     "metadata": {},
     "output_type": "execute_result"
    }
   ],
   "source": [
    "# Plot the number of SIB\n",
    "sns.set_context(\"talk\")\n",
    "\n",
    "plt.figure()\n",
    "sns.stripplot(data=SIB_all, x=\"sub_ID\", y=\"sib.duration.minutes\", jitter=0.2, alpha = 0.5, color = \"blue\")\n",
    "sns.boxplot(data=SIB_all, x=\"sub_ID\", y=\"sib.duration.minutes\", showfliers=False, color = \"pink\")\n",
    "plt.ylabel(\"SIB duration (minutes)\")\n",
    "\n",
    "plt.title(\"SIB during Time In Bed\")"
   ]
  },
  {
   "cell_type": "markdown",
   "metadata": {},
   "source": [
    "Get a burst DataFrame for all subjects for each limb"
   ]
  },
  {
   "cell_type": "code",
   "execution_count": 9,
   "metadata": {},
   "outputs": [],
   "source": [
    "bursts_lw_allSub = pd.concat(bursts_lw.values(), ignore_index=True)\n",
    "bursts_lw_allSub[\"duration_seconds\"] = bursts_lw_allSub[\"duration\"].dt.total_seconds()\n",
    "bursts_rw_allSub = pd.concat(bursts_rw.values(), ignore_index=True)\n",
    "bursts_rw_allSub[\"duration_seconds\"] = bursts_rw_allSub[\"duration\"].dt.total_seconds()\n",
    "bursts_ll_allSub = pd.concat(bursts_ll.values(), ignore_index=True)\n",
    "bursts_ll_allSub[\"duration_seconds\"] = bursts_ll_allSub[\"duration\"].dt.total_seconds()\n",
    "bursts_rl_allSub = pd.concat(bursts_rl.values(), ignore_index=True)\n",
    "bursts_rl_allSub[\"duration_seconds\"] = bursts_rl_allSub[\"duration\"].dt.total_seconds()\n",
    "bursts_trunk_allSub = pd.concat(bursts_trunk.values(), ignore_index=True)\n",
    "bursts_trunk_allSub[\"duration_seconds\"] = bursts_trunk_allSub[\"duration\"].dt.total_seconds()"
   ]
  },
  {
   "cell_type": "markdown",
   "metadata": {},
   "source": [
    "Number of bursts happening during sleep (SIB) and during wake"
   ]
  },
  {
   "cell_type": "code",
   "execution_count": 10,
   "metadata": {},
   "outputs": [],
   "source": [
    "burst_count_lw = bursts_lw_allSub[\"sib\"].groupby(bursts_lw_allSub[\"sub_ID\"]).value_counts().unstack()\n",
    "burst_count_rw = bursts_rw_allSub[\"sib\"].groupby(bursts_rw_allSub[\"sub_ID\"]).value_counts().unstack()\n",
    "burst_count_ll = bursts_ll_allSub[\"sib\"].groupby(bursts_ll_allSub[\"sub_ID\"]).value_counts().unstack()\n",
    "burst_count_rl = bursts_rl_allSub[\"sib\"].groupby(bursts_rl_allSub[\"sub_ID\"]).value_counts().unstack()\n",
    "burst_count_trunk = bursts_trunk_allSub[\"sib\"].groupby(bursts_trunk_allSub[\"sub_ID\"]).value_counts().unstack()\n",
    "\n",
    "sns.set_context(\"talk\")\n",
    "\n",
    "# Bar plot\n",
    "plt.figure(figsize = (15, 12))\n",
    "plt.subplot(3, 2, 1)\n",
    "burst_count_lw.plot(kind='bar', color = ['blue', 'red'], ax = plt.gca())\n",
    "plt.legend([])\n",
    "plt.ylabel(\"N of bursts\")\n",
    "plt.xticks(rotation = 19)\n",
    "plt.subplot(3, 2, 2)\n",
    "burst_count_rw.plot(kind='bar', color = ['blue', 'red'], ax = plt.gca())\n",
    "plt.legend([])\n",
    "plt.ylabel(\"N of bursts\")\n",
    "plt.xticks(rotation = 19)\n",
    "plt.subplot(3, 2, 3)\n",
    "burst_count_ll.plot(kind='bar', color = ['blue', 'red'], ax = plt.gca())\n",
    "plt.legend([])\n",
    "plt.ylabel(\"N of bursts\")\n",
    "plt.xticks(rotation = 19)\n",
    "plt.subplot(3, 2, 4)\n",
    "burst_count_rl.plot(kind='bar', color = ['blue', 'red'], ax = plt.gca())\n",
    "plt.legend([])\n",
    "plt.ylabel(\"N of bursts\")\n",
    "plt.xticks(rotation = 19)\n",
    "plt.subplot(3, 2, 5)\n",
    "burst_count_trunk.plot(kind='bar', color = ['blue', 'red'], ax = plt.gca())\n",
    "plt.ylabel(\"N of bursts\")\n",
    "plt.xticks(rotation = 19)\n",
    "\n",
    "from matplotlib.patches import Patch\n",
    "\n",
    "custom_patches = [Patch(facecolor=\"b\"),\n",
    "                Patch(facecolor=\"r\")]\n",
    "\n",
    "plt.legend(custom_patches, [\"Awake\", \"Asleep\"], loc = 'best', fontsize = 19, frameon = True, fancybox = True, shadow = True)\n",
    "plt.ylabel(\"Number of bursts\")\n",
    "plt.xticks(rotation = 19)\n",
    "plt.suptitle(\"Number of bursts during SIB and Awake Periods\")\n",
    "plt.tight_layout()\n"
   ]
  },
  {
   "cell_type": "markdown",
   "metadata": {},
   "source": [
    "Posture changes (at least 30°) happening during sleep and during wake"
   ]
  },
  {
   "cell_type": "code",
   "execution_count": 13,
   "metadata": {},
   "outputs": [
    {
     "data": {
      "text/plain": [
       "Text(0.5, 1.0, 'Posture changes during SIB and Awake Periods')"
      ]
     },
     "execution_count": 13,
     "metadata": {},
     "output_type": "execute_result"
    }
   ],
   "source": [
    "# Posture changes\n",
    "\n",
    "bursts_lw_posture_changes = bursts_lw_allSub[bursts_lw_allSub[\"posture_change\"] > 30]\n",
    "\n",
    "bursts_posture_changes_counts = bursts_lw_posture_changes[\"sib\"].groupby(bursts_lw_allSub[\"sub_ID\"]).value_counts().unstack()\n",
    "\n",
    "plt.figure()\n",
    "bursts_posture_changes_counts.plot(kind='bar', color = ['blue', 'red'])\n",
    "from matplotlib.patches import Patch\n",
    "\n",
    "custom_patches = [Patch(facecolor=\"b\"),\n",
    "                Patch(facecolor=\"r\")]\n",
    "\n",
    "plt.legend(custom_patches, [\"Awake\", \"Asleep\"], loc = 'best', fontsize = 19, frameon = True, fancybox = True, shadow = True)\n",
    "plt.ylabel(\"Number of posture changes\")\n",
    "plt.xticks(rotation = 19)\n",
    "plt.title(\"Posture changes during SIB and Awake Periods\")"
   ]
  },
  {
   "cell_type": "markdown",
   "metadata": {},
   "source": [
    "Burst entity (AUC) during sleep and during wake "
   ]
  },
  {
   "cell_type": "code",
   "execution_count": 11,
   "metadata": {},
   "outputs": [],
   "source": [
    "import seaborn as sns\n",
    "sns.set_context('talk')\n",
    "\n",
    "# Set up the matplotlib figure\n",
    "plt.figure(figsize=(19, 12))\n",
    "\n",
    "# Boxplot for AUC\n",
    "plt.subplot(3, 2, 1)\n",
    "ax1 = sns.boxplot(x='sib', y='AUC', data=bursts_lw_allSub, hue = \"sub_ID\", showfliers=False)\n",
    "plt.title('LW')\n",
    "plt.ylabel('Movement Intensity (AUC)')\n",
    "plt.xlabel(None)\n",
    "ax1.legend_.remove()\n",
    "plt.xticks([0, 1], ['Awake', 'Asleep'])\n",
    "\n",
    "plt.subplot(3, 2, 2)\n",
    "ax2 = sns.boxplot(x='sib', y='AUC', data=bursts_rw_allSub, hue = \"sub_ID\", showfliers=False)\n",
    "plt.title('RW')\n",
    "plt.ylabel(None)\n",
    "plt.xlabel(None)\n",
    "ax2.legend_.remove()\n",
    "plt.xticks([0, 1], ['Awake', 'Asleep'])\n",
    "\n",
    "plt.subplot(3, 2, 3)\n",
    "ax3 = sns.boxplot(x='sib', y='AUC', data=bursts_ll_allSub, hue = \"sub_ID\", showfliers=False)\n",
    "plt.title('LL')\n",
    "plt.ylabel(None)\n",
    "plt.xlabel(None)\n",
    "ax3.legend_.remove()\n",
    "plt.xticks([0, 1], ['Awake', 'Asleep'])\n",
    "\n",
    "plt.subplot(3, 2, 4)\n",
    "ax4 = sns.boxplot(x='sib', y='AUC', data=bursts_rl_allSub, hue = \"sub_ID\", showfliers=False)\n",
    "plt.title('RL')\n",
    "plt.ylabel(None)\n",
    "plt.xlabel(None)\n",
    "ax4.legend_.remove()\n",
    "plt.xticks([0, 1], ['Awake', 'Asleep'])\n",
    "handles, labels = [], []\n",
    "\n",
    "for handle, label in zip(*ax4.get_legend_handles_labels()):\n",
    "    if label not in labels:\n",
    "        handles.append(handle)\n",
    "        labels.append(label)\n",
    "\n",
    "plt.legend(handles, labels, loc='lower right', frameon=True, fancybox=True, shadow=True, bbox_to_anchor=(0.8, -1.1), ncol=3, fontsize = 18)\n",
    "\n",
    "plt.subplot(3, 2, 5)\n",
    "ax5 = sns.boxplot(x='sib', y='AUC', data=bursts_trunk_allSub, hue = \"sub_ID\", showfliers=False)\n",
    "plt.title('Trunk')\n",
    "plt.ylabel(None)\n",
    "plt.xlabel(None)\n",
    "ax5.legend_.remove()\n",
    "plt.xticks([0, 1], ['Awake', 'Asleep'])\n",
    "\n",
    "plt.show()"
   ]
  },
  {
   "cell_type": "markdown",
   "metadata": {},
   "source": [
    "## EDA - Bursts happening in all limbs together"
   ]
  },
  {
   "cell_type": "markdown",
   "metadata": {},
   "source": [
    "Merge the bursts of all subjects into one DataFrame"
   ]
  },
  {
   "cell_type": "code",
   "execution_count": 5,
   "metadata": {},
   "outputs": [],
   "source": [
    "bursts_all_limbs_allSub = pd.concat(bursts_all_limbs.values(), ignore_index=True)"
   ]
  },
  {
   "cell_type": "markdown",
   "metadata": {},
   "source": [
    "Number of bursts happening during sleep (SIB) and during wake"
   ]
  },
  {
   "cell_type": "code",
   "execution_count": 54,
   "metadata": {},
   "outputs": [],
   "source": [
    "burst_count = bursts_all_limbs_allSub[\"sib\"].groupby(bursts_all_limbs_allSub[\"sub_ID\"]).value_counts().unstack()\n",
    "sns.set_context(\"talk\")\n",
    "\n",
    "# Bar plot\n",
    "plt.figure(figsize = (15, 12))\n",
    "burst_count.plot(kind='bar', color = ['blue', 'red'], ax = plt.gca())\n",
    "plt.legend([])\n",
    "plt.ylabel(\"N of bursts\")\n",
    "plt.xticks(rotation = 19)\n",
    "\n",
    "from matplotlib.patches import Patch\n",
    "\n",
    "custom_patches = [Patch(facecolor=\"b\"),\n",
    "                Patch(facecolor=\"r\")]\n",
    "\n",
    "plt.legend(custom_patches, [\"Awake\", \"Asleep\"], loc = 'best', fontsize = 24, frameon = True, fancybox = True, shadow = True)\n",
    "plt.ylabel(\"Number of bursts\")\n",
    "plt.xticks(rotation = 19)\n",
    "plt.suptitle(\"Number of bursts during SIB and Awake Periods\")\n",
    "plt.tight_layout()"
   ]
  },
  {
   "cell_type": "markdown",
   "metadata": {},
   "source": [
    "Burst entity (AUC) during sleep and during wake "
   ]
  },
  {
   "cell_type": "code",
   "execution_count": 40,
   "metadata": {},
   "outputs": [
    {
     "data": {
      "text/plain": [
       "<matplotlib.legend.Legend at 0x7fdf981bbe50>"
      ]
     },
     "execution_count": 40,
     "metadata": {},
     "output_type": "execute_result"
    }
   ],
   "source": [
    "import seaborn as sns\n",
    "sns.set_context('talk')\n",
    "\n",
    "# Set up the matplotlib figure\n",
    "plt.figure(figsize=(19, 12))\n",
    "\n",
    "# Boxplot for AUC\n",
    "ax1 = sns.boxplot(x='sib', y='AUC', data=bursts_all_limbs_allSub, hue = \"sub_ID\", showfliers=False)\n",
    "plt.title('Movement Entity during sleep and wake')\n",
    "plt.ylabel('Burst Entity (AUC)')\n",
    "plt.xlabel(None)\n",
    "ax1.legend_.remove()\n",
    "plt.xticks([0, 1], ['Awake', 'Asleep'])\n",
    "\n",
    "handles, labels = [], []\n",
    "\n",
    "for handle, label in zip(*ax4.get_legend_handles_labels()):\n",
    "    if label not in labels:\n",
    "        handles.append(handle)\n",
    "        labels.append(label)\n",
    "\n",
    "plt.legend(handles, labels, loc='upper right', frameon=True, fancybox=True, shadow=True, ncol=3, fontsize = 21)"
   ]
  },
  {
   "cell_type": "markdown",
   "metadata": {},
   "source": [
    "Percentiles of AUC"
   ]
  },
  {
   "cell_type": "code",
   "execution_count": 113,
   "metadata": {},
   "outputs": [
    {
     "data": {
      "text/html": [
       "<div>\n",
       "<style scoped>\n",
       "    .dataframe tbody tr th:only-of-type {\n",
       "        vertical-align: middle;\n",
       "    }\n",
       "\n",
       "    .dataframe tbody tr th {\n",
       "        vertical-align: top;\n",
       "    }\n",
       "\n",
       "    .dataframe thead tr th {\n",
       "        text-align: left;\n",
       "    }\n",
       "\n",
       "    .dataframe thead tr:last-of-type th {\n",
       "        text-align: right;\n",
       "    }\n",
       "</style>\n",
       "<table border=\"1\" class=\"dataframe\">\n",
       "  <thead>\n",
       "    <tr>\n",
       "      <th></th>\n",
       "      <th colspan=\"2\" halign=\"left\">count</th>\n",
       "      <th colspan=\"2\" halign=\"left\">mean</th>\n",
       "      <th colspan=\"2\" halign=\"left\">std</th>\n",
       "      <th colspan=\"2\" halign=\"left\">min</th>\n",
       "      <th colspan=\"2\" halign=\"left\">50%</th>\n",
       "      <th colspan=\"2\" halign=\"left\">90%</th>\n",
       "      <th colspan=\"2\" halign=\"left\">max</th>\n",
       "    </tr>\n",
       "    <tr>\n",
       "      <th>sib</th>\n",
       "      <th>0</th>\n",
       "      <th>1</th>\n",
       "      <th>0</th>\n",
       "      <th>1</th>\n",
       "      <th>0</th>\n",
       "      <th>1</th>\n",
       "      <th>0</th>\n",
       "      <th>1</th>\n",
       "      <th>0</th>\n",
       "      <th>1</th>\n",
       "      <th>0</th>\n",
       "      <th>1</th>\n",
       "      <th>0</th>\n",
       "      <th>1</th>\n",
       "    </tr>\n",
       "    <tr>\n",
       "      <th>sub_ID</th>\n",
       "      <th></th>\n",
       "      <th></th>\n",
       "      <th></th>\n",
       "      <th></th>\n",
       "      <th></th>\n",
       "      <th></th>\n",
       "      <th></th>\n",
       "      <th></th>\n",
       "      <th></th>\n",
       "      <th></th>\n",
       "      <th></th>\n",
       "      <th></th>\n",
       "      <th></th>\n",
       "      <th></th>\n",
       "    </tr>\n",
       "  </thead>\n",
       "  <tbody>\n",
       "    <tr>\n",
       "      <th>098</th>\n",
       "      <td>44.0</td>\n",
       "      <td>20.0</td>\n",
       "      <td>6.653740</td>\n",
       "      <td>0.554661</td>\n",
       "      <td>7.152739</td>\n",
       "      <td>0.848130</td>\n",
       "      <td>0.087940</td>\n",
       "      <td>0.036440</td>\n",
       "      <td>4.312882</td>\n",
       "      <td>0.219282</td>\n",
       "      <td>15.466636</td>\n",
       "      <td>1.699520</td>\n",
       "      <td>32.016583</td>\n",
       "      <td>3.147857</td>\n",
       "    </tr>\n",
       "    <tr>\n",
       "      <th>158</th>\n",
       "      <td>63.0</td>\n",
       "      <td>44.0</td>\n",
       "      <td>5.404391</td>\n",
       "      <td>0.821867</td>\n",
       "      <td>8.144159</td>\n",
       "      <td>1.343849</td>\n",
       "      <td>0.072168</td>\n",
       "      <td>0.020699</td>\n",
       "      <td>2.458432</td>\n",
       "      <td>0.337410</td>\n",
       "      <td>12.912712</td>\n",
       "      <td>2.124245</td>\n",
       "      <td>41.595520</td>\n",
       "      <td>7.972749</td>\n",
       "    </tr>\n",
       "    <tr>\n",
       "      <th>279</th>\n",
       "      <td>18.0</td>\n",
       "      <td>19.0</td>\n",
       "      <td>7.570457</td>\n",
       "      <td>0.521787</td>\n",
       "      <td>9.849087</td>\n",
       "      <td>0.470343</td>\n",
       "      <td>0.196278</td>\n",
       "      <td>0.022541</td>\n",
       "      <td>3.636635</td>\n",
       "      <td>0.410731</td>\n",
       "      <td>19.048691</td>\n",
       "      <td>1.270420</td>\n",
       "      <td>36.922621</td>\n",
       "      <td>1.393919</td>\n",
       "    </tr>\n",
       "    <tr>\n",
       "      <th>547</th>\n",
       "      <td>58.0</td>\n",
       "      <td>27.0</td>\n",
       "      <td>6.906781</td>\n",
       "      <td>0.394636</td>\n",
       "      <td>7.425048</td>\n",
       "      <td>0.554090</td>\n",
       "      <td>0.066033</td>\n",
       "      <td>0.016537</td>\n",
       "      <td>4.881188</td>\n",
       "      <td>0.143086</td>\n",
       "      <td>17.244877</td>\n",
       "      <td>1.287616</td>\n",
       "      <td>35.248337</td>\n",
       "      <td>1.977761</td>\n",
       "    </tr>\n",
       "    <tr>\n",
       "      <th>633</th>\n",
       "      <td>138.0</td>\n",
       "      <td>67.0</td>\n",
       "      <td>3.676741</td>\n",
       "      <td>0.538104</td>\n",
       "      <td>4.664902</td>\n",
       "      <td>1.051418</td>\n",
       "      <td>0.033980</td>\n",
       "      <td>0.016485</td>\n",
       "      <td>1.679356</td>\n",
       "      <td>0.142984</td>\n",
       "      <td>10.269015</td>\n",
       "      <td>1.647083</td>\n",
       "      <td>23.853609</td>\n",
       "      <td>5.364481</td>\n",
       "    </tr>\n",
       "    <tr>\n",
       "      <th>815</th>\n",
       "      <td>143.0</td>\n",
       "      <td>110.0</td>\n",
       "      <td>4.272575</td>\n",
       "      <td>0.653986</td>\n",
       "      <td>9.421159</td>\n",
       "      <td>1.212396</td>\n",
       "      <td>0.028514</td>\n",
       "      <td>0.022363</td>\n",
       "      <td>2.218856</td>\n",
       "      <td>0.207835</td>\n",
       "      <td>8.016730</td>\n",
       "      <td>1.829797</td>\n",
       "      <td>90.555946</td>\n",
       "      <td>8.442378</td>\n",
       "    </tr>\n",
       "    <tr>\n",
       "      <th>906</th>\n",
       "      <td>39.0</td>\n",
       "      <td>46.0</td>\n",
       "      <td>3.971676</td>\n",
       "      <td>0.928337</td>\n",
       "      <td>5.091755</td>\n",
       "      <td>1.849077</td>\n",
       "      <td>0.049147</td>\n",
       "      <td>0.020909</td>\n",
       "      <td>2.010235</td>\n",
       "      <td>0.154564</td>\n",
       "      <td>9.270132</td>\n",
       "      <td>2.312497</td>\n",
       "      <td>26.160641</td>\n",
       "      <td>8.204787</td>\n",
       "    </tr>\n",
       "    <tr>\n",
       "      <th>958</th>\n",
       "      <td>53.0</td>\n",
       "      <td>32.0</td>\n",
       "      <td>4.028301</td>\n",
       "      <td>0.853181</td>\n",
       "      <td>3.692125</td>\n",
       "      <td>1.447341</td>\n",
       "      <td>0.189213</td>\n",
       "      <td>0.024885</td>\n",
       "      <td>2.471979</td>\n",
       "      <td>0.153863</td>\n",
       "      <td>8.968217</td>\n",
       "      <td>2.740480</td>\n",
       "      <td>16.743444</td>\n",
       "      <td>6.185938</td>\n",
       "    </tr>\n",
       "    <tr>\n",
       "      <th>971</th>\n",
       "      <td>47.0</td>\n",
       "      <td>30.0</td>\n",
       "      <td>3.183710</td>\n",
       "      <td>0.342831</td>\n",
       "      <td>3.814307</td>\n",
       "      <td>0.479453</td>\n",
       "      <td>0.050280</td>\n",
       "      <td>0.024210</td>\n",
       "      <td>1.755934</td>\n",
       "      <td>0.160333</td>\n",
       "      <td>8.352138</td>\n",
       "      <td>0.633358</td>\n",
       "      <td>14.629342</td>\n",
       "      <td>2.113501</td>\n",
       "    </tr>\n",
       "  </tbody>\n",
       "</table>\n",
       "</div>"
      ],
      "text/plain": [
       "        count             mean                 std                 min  \\\n",
       "sib         0      1         0         1         0         1         0   \n",
       "sub_ID                                                                   \n",
       "098      44.0   20.0  6.653740  0.554661  7.152739  0.848130  0.087940   \n",
       "158      63.0   44.0  5.404391  0.821867  8.144159  1.343849  0.072168   \n",
       "279      18.0   19.0  7.570457  0.521787  9.849087  0.470343  0.196278   \n",
       "547      58.0   27.0  6.906781  0.394636  7.425048  0.554090  0.066033   \n",
       "633     138.0   67.0  3.676741  0.538104  4.664902  1.051418  0.033980   \n",
       "815     143.0  110.0  4.272575  0.653986  9.421159  1.212396  0.028514   \n",
       "906      39.0   46.0  3.971676  0.928337  5.091755  1.849077  0.049147   \n",
       "958      53.0   32.0  4.028301  0.853181  3.692125  1.447341  0.189213   \n",
       "971      47.0   30.0  3.183710  0.342831  3.814307  0.479453  0.050280   \n",
       "\n",
       "                       50%                  90%                  max            \n",
       "sib            1         0         1          0         1          0         1  \n",
       "sub_ID                                                                          \n",
       "098     0.036440  4.312882  0.219282  15.466636  1.699520  32.016583  3.147857  \n",
       "158     0.020699  2.458432  0.337410  12.912712  2.124245  41.595520  7.972749  \n",
       "279     0.022541  3.636635  0.410731  19.048691  1.270420  36.922621  1.393919  \n",
       "547     0.016537  4.881188  0.143086  17.244877  1.287616  35.248337  1.977761  \n",
       "633     0.016485  1.679356  0.142984  10.269015  1.647083  23.853609  5.364481  \n",
       "815     0.022363  2.218856  0.207835   8.016730  1.829797  90.555946  8.442378  \n",
       "906     0.020909  2.010235  0.154564   9.270132  2.312497  26.160641  8.204787  \n",
       "958     0.024885  2.471979  0.153863   8.968217  2.740480  16.743444  6.185938  \n",
       "971     0.024210  1.755934  0.160333   8.352138  0.633358  14.629342  2.113501  "
      ]
     },
     "execution_count": 113,
     "metadata": {},
     "output_type": "execute_result"
    }
   ],
   "source": [
    "burst_describe = bursts_all_limbs_allSub.groupby([\"sub_ID\", \"sib\"])[\"AUC\"].describe(percentiles = [0.9]).unstack()\n",
    "burst_describe"
   ]
  },
  {
   "cell_type": "code",
   "execution_count": 115,
   "metadata": {},
   "outputs": [],
   "source": [
    "# Are there awake burts with less or equal entity than the maximum asleep burst?\n",
    "\n",
    "AUC_sleep90 = burst_describe[\"90%\"][1]"
   ]
  },
  {
   "cell_type": "code",
   "execution_count": 129,
   "metadata": {},
   "outputs": [],
   "source": [
    "burst_awake_low_AUC = {sub: 0 for sub in subjects}\n",
    "burst_sleep_low_AUC = {sub: 0 for sub in subjects}\n",
    "for i, sub in enumerate(subjects):\n",
    "    bursts_awake = bursts_all_limbs[sub][bursts_all_limbs[sub][\"sib\"] == 0]\n",
    "    bursts_sleep = bursts_all_limbs[sub][bursts_all_limbs[sub][\"sib\"] == 1]\n",
    "\n",
    "    # Find bursts with less or equal entity than the maximum asleep burst\n",
    "    burst_awake_low_AUC[sub] = bursts_awake[bursts_awake[\"AUC\"] <= AUC_sleep90[sub]]\n",
    "    burst_sleep_low_AUC[sub] = bursts_sleep#bursts_sleep[bursts_sleep[\"AUC\"] <= AUC_sleep90[sub]]\n",
    "\n",
    "# One DataFrame for all subjects\n",
    "bursts_awake_low_AUC_all = pd.concat(burst_awake_low_AUC.values(), ignore_index=True)\n",
    "bursts_sleep_low_AUC_all = pd.concat(burst_sleep_low_AUC.values(), ignore_index=True)"
   ]
  },
  {
   "cell_type": "code",
   "execution_count": 130,
   "metadata": {},
   "outputs": [
    {
     "data": {
      "text/html": [
       "<div>\n",
       "<style scoped>\n",
       "    .dataframe tbody tr th:only-of-type {\n",
       "        vertical-align: middle;\n",
       "    }\n",
       "\n",
       "    .dataframe tbody tr th {\n",
       "        vertical-align: top;\n",
       "    }\n",
       "\n",
       "    .dataframe thead th {\n",
       "        text-align: right;\n",
       "    }\n",
       "</style>\n",
       "<table border=\"1\" class=\"dataframe\">\n",
       "  <thead>\n",
       "    <tr style=\"text-align: right;\">\n",
       "      <th></th>\n",
       "      <th>start</th>\n",
       "      <th>end</th>\n",
       "      <th>limbs_involved</th>\n",
       "      <th>AUC</th>\n",
       "      <th>posture_change</th>\n",
       "      <th>sub_ID</th>\n",
       "      <th>sib</th>\n",
       "    </tr>\n",
       "  </thead>\n",
       "  <tbody>\n",
       "    <tr>\n",
       "      <th>0</th>\n",
       "      <td>2024-02-28 22:19:07.308890104</td>\n",
       "      <td>2024-02-28 22:19:15.331500053</td>\n",
       "      <td>{ll, rw, rl, lw, trunk}</td>\n",
       "      <td>0.249701</td>\n",
       "      <td>NaN</td>\n",
       "      <td>158</td>\n",
       "      <td>Awake</td>\n",
       "    </tr>\n",
       "    <tr>\n",
       "      <th>1</th>\n",
       "      <td>2024-02-28 22:19:43.688889980</td>\n",
       "      <td>2024-02-28 22:20:18.178889990</td>\n",
       "      <td>{ll, rw, rl, lw, trunk}</td>\n",
       "      <td>0.588274</td>\n",
       "      <td>NaN</td>\n",
       "      <td>158</td>\n",
       "      <td>Awake</td>\n",
       "    </tr>\n",
       "    <tr>\n",
       "      <th>2</th>\n",
       "      <td>2024-02-28 22:20:39.318890095</td>\n",
       "      <td>2024-02-28 22:21:01.828890085</td>\n",
       "      <td>{ll, rw, rl, lw, trunk}</td>\n",
       "      <td>0.429421</td>\n",
       "      <td>NaN</td>\n",
       "      <td>158</td>\n",
       "      <td>Awake</td>\n",
       "    </tr>\n",
       "    <tr>\n",
       "      <th>3</th>\n",
       "      <td>2024-02-28 22:36:40.808890104</td>\n",
       "      <td>2024-02-28 22:36:53.901499987</td>\n",
       "      <td>{ll, rw, rl, lw, trunk}</td>\n",
       "      <td>0.211791</td>\n",
       "      <td>NaN</td>\n",
       "      <td>158</td>\n",
       "      <td>Awake</td>\n",
       "    </tr>\n",
       "    <tr>\n",
       "      <th>4</th>\n",
       "      <td>2024-02-28 22:36:57.844870090</td>\n",
       "      <td>2024-02-28 22:37:23.088890076</td>\n",
       "      <td>{ll, rw, rl, lw, trunk}</td>\n",
       "      <td>1.566868</td>\n",
       "      <td>NaN</td>\n",
       "      <td>158</td>\n",
       "      <td>Awake</td>\n",
       "    </tr>\n",
       "    <tr>\n",
       "      <th>...</th>\n",
       "      <td>...</td>\n",
       "      <td>...</td>\n",
       "      <td>...</td>\n",
       "      <td>...</td>\n",
       "      <td>...</td>\n",
       "      <td>...</td>\n",
       "      <td>...</td>\n",
       "    </tr>\n",
       "    <tr>\n",
       "      <th>649</th>\n",
       "      <td>2024-03-21 07:17:09.782916069</td>\n",
       "      <td>2024-03-21 07:17:13.544266224</td>\n",
       "      <td>{ll, rw, rl, lw, trunk}</td>\n",
       "      <td>0.068493</td>\n",
       "      <td>NaN</td>\n",
       "      <td>815</td>\n",
       "      <td>Asleep</td>\n",
       "    </tr>\n",
       "    <tr>\n",
       "      <th>650</th>\n",
       "      <td>2024-03-21 07:19:17.504266499</td>\n",
       "      <td>2024-03-21 07:19:23.362916231</td>\n",
       "      <td>{ll, rw, rl, lw, trunk}</td>\n",
       "      <td>0.064362</td>\n",
       "      <td>NaN</td>\n",
       "      <td>815</td>\n",
       "      <td>Asleep</td>\n",
       "    </tr>\n",
       "    <tr>\n",
       "      <th>651</th>\n",
       "      <td>2024-03-21 07:19:45.114266157</td>\n",
       "      <td>2024-03-21 07:19:51.562916517</td>\n",
       "      <td>{ll, rw, rl, lw, trunk}</td>\n",
       "      <td>0.187400</td>\n",
       "      <td>NaN</td>\n",
       "      <td>815</td>\n",
       "      <td>Asleep</td>\n",
       "    </tr>\n",
       "    <tr>\n",
       "      <th>652</th>\n",
       "      <td>2024-03-21 07:20:13.392916203</td>\n",
       "      <td>2024-03-21 07:20:20.444266319</td>\n",
       "      <td>{ll, rw, rl, lw, trunk}</td>\n",
       "      <td>0.203871</td>\n",
       "      <td>NaN</td>\n",
       "      <td>815</td>\n",
       "      <td>Asleep</td>\n",
       "    </tr>\n",
       "    <tr>\n",
       "      <th>653</th>\n",
       "      <td>2024-03-21 07:23:02.204266310</td>\n",
       "      <td>2024-03-21 07:23:06.224266291</td>\n",
       "      <td>{ll, rw, rl, lw, trunk}</td>\n",
       "      <td>0.060381</td>\n",
       "      <td>NaN</td>\n",
       "      <td>815</td>\n",
       "      <td>Asleep</td>\n",
       "    </tr>\n",
       "  </tbody>\n",
       "</table>\n",
       "<p>654 rows × 7 columns</p>\n",
       "</div>"
      ],
      "text/plain": [
       "                            start                           end  \\\n",
       "0   2024-02-28 22:19:07.308890104 2024-02-28 22:19:15.331500053   \n",
       "1   2024-02-28 22:19:43.688889980 2024-02-28 22:20:18.178889990   \n",
       "2   2024-02-28 22:20:39.318890095 2024-02-28 22:21:01.828890085   \n",
       "3   2024-02-28 22:36:40.808890104 2024-02-28 22:36:53.901499987   \n",
       "4   2024-02-28 22:36:57.844870090 2024-02-28 22:37:23.088890076   \n",
       "..                            ...                           ...   \n",
       "649 2024-03-21 07:17:09.782916069 2024-03-21 07:17:13.544266224   \n",
       "650 2024-03-21 07:19:17.504266499 2024-03-21 07:19:23.362916231   \n",
       "651 2024-03-21 07:19:45.114266157 2024-03-21 07:19:51.562916517   \n",
       "652 2024-03-21 07:20:13.392916203 2024-03-21 07:20:20.444266319   \n",
       "653 2024-03-21 07:23:02.204266310 2024-03-21 07:23:06.224266291   \n",
       "\n",
       "              limbs_involved       AUC  posture_change sub_ID     sib  \n",
       "0    {ll, rw, rl, lw, trunk}  0.249701             NaN    158   Awake  \n",
       "1    {ll, rw, rl, lw, trunk}  0.588274             NaN    158   Awake  \n",
       "2    {ll, rw, rl, lw, trunk}  0.429421             NaN    158   Awake  \n",
       "3    {ll, rw, rl, lw, trunk}  0.211791             NaN    158   Awake  \n",
       "4    {ll, rw, rl, lw, trunk}  1.566868             NaN    158   Awake  \n",
       "..                       ...       ...             ...    ...     ...  \n",
       "649  {ll, rw, rl, lw, trunk}  0.068493             NaN    815  Asleep  \n",
       "650  {ll, rw, rl, lw, trunk}  0.064362             NaN    815  Asleep  \n",
       "651  {ll, rw, rl, lw, trunk}  0.187400             NaN    815  Asleep  \n",
       "652  {ll, rw, rl, lw, trunk}  0.203871             NaN    815  Asleep  \n",
       "653  {ll, rw, rl, lw, trunk}  0.060381             NaN    815  Asleep  \n",
       "\n",
       "[654 rows x 7 columns]"
      ]
     },
     "execution_count": 130,
     "metadata": {},
     "output_type": "execute_result"
    }
   ],
   "source": [
    "# merge the two DataFrames\n",
    "bursts_low_AUC_all = pd.concat([bursts_awake_low_AUC_all, bursts_sleep_low_AUC_all], ignore_index=True)\n",
    "bursts_low_AUC_all[\"sib\"] = bursts_low_AUC_all[\"sib\"].replace({0: \"Awake\", 1: \"Asleep\"})\n",
    "bursts_low_AUC_all"
   ]
  },
  {
   "cell_type": "code",
   "execution_count": 122,
   "metadata": {},
   "outputs": [
    {
     "data": {
      "text/plain": [
       "<Axes: xlabel='sub_ID', ylabel='AUC'>"
      ]
     },
     "execution_count": 122,
     "metadata": {},
     "output_type": "execute_result"
    }
   ],
   "source": [
    "plt.figure(figsize=(15, 6))\n",
    "plt.subplot(1, 2, 1)\n",
    "sns.boxplot(x='sub_ID', y='AUC', data=bursts_awake_low_AUC_all, showfliers=False)\n",
    "sns.stripplot(x='sub_ID', y='AUC', data=bursts_awake_low_AUC_all, jitter=0.2, alpha = 0.5, color = \"red\")\n",
    "plt.subplot(1, 2, 1)\n",
    "sns.boxplot(x='sub_ID', y='AUC', data=bursts_sleep_low_AUC_all, showfliers=False,  whis=[5, 90])\n",
    "sns.stripplot(x='sub_ID', y='AUC', data=bursts_sleep_low_AUC_all, jitter=0.2, alpha = 0.5, color = \"red\")\n"
   ]
  },
  {
   "cell_type": "code",
   "execution_count": 135,
   "metadata": {},
   "outputs": [
    {
     "data": {
      "text/plain": [
       "Text(0, 0.5, 'Movement intensity (AUC)')"
      ]
     },
     "execution_count": 135,
     "metadata": {},
     "output_type": "execute_result"
    }
   ],
   "source": [
    "plt.figure(figsize=(15, 6))\n",
    "sns.boxplot(x='sub_ID', y='AUC', data=bursts_low_AUC_all, hue = \"sib\")\n",
    "plt.ylabel(\"Movement intensity (AUC)\")"
   ]
  },
  {
   "cell_type": "code",
   "execution_count": 141,
   "metadata": {},
   "outputs": [
    {
     "data": {
      "text/plain": [
       "sub_ID\n",
       "098    12\n",
       "158    30\n",
       "279     7\n",
       "547    13\n",
       "633    69\n",
       "815    67\n",
       "906    21\n",
       "958    28\n",
       "971    12\n",
       "Name: count, dtype: int64"
      ]
     },
     "execution_count": 141,
     "metadata": {},
     "output_type": "execute_result"
    }
   ],
   "source": [
    "bursts_awake_low_AUC_all.value_counts(\"sub_ID\").sort_index()"
   ]
  },
  {
   "cell_type": "code",
   "execution_count": 142,
   "metadata": {},
   "outputs": [
    {
     "data": {
      "text/plain": [
       "sub_ID\n",
       "098     20\n",
       "158     44\n",
       "279     19\n",
       "547     27\n",
       "633     67\n",
       "815    110\n",
       "906     46\n",
       "958     32\n",
       "971     30\n",
       "Name: count, dtype: int64"
      ]
     },
     "execution_count": 142,
     "metadata": {},
     "output_type": "execute_result"
    }
   ],
   "source": [
    "bursts_sleep_low_AUC_all.value_counts(\"sub_ID\").sort_index()\n"
   ]
  },
  {
   "cell_type": "markdown",
   "metadata": {},
   "source": [
    "## HR response during wakefullness\n",
    "\n",
    "Is there a dose-response relationship? (based on the three percentiles)"
   ]
  },
  {
   "cell_type": "code",
   "execution_count": 5,
   "metadata": {},
   "outputs": [],
   "source": [
    "bursts_all_limbs_allSub = pd.concat(bursts_all_limbs.values(), ignore_index=True)"
   ]
  },
  {
   "cell_type": "code",
   "execution_count": 6,
   "metadata": {},
   "outputs": [],
   "source": [
    "import neurokit2 as nk\n",
    "\n",
    "from functions.HR_response import detect_HR_change_from_RR, coherent_avg\n",
    "from functions.bursts import filter_bursts"
   ]
  },
  {
   "cell_type": "code",
   "execution_count": 18,
   "metadata": {},
   "outputs": [],
   "source": [
    "offsets = {\"158\": 2, \"098\": 2, \"633\": 2, \"279\": 3, \"906\": 2, \"547\": 2, \"971\": 2, \"958\": 2, \"815\": 2}\n",
    "\n",
    "hr_responses_awake = {}\n",
    "hr_responses_awake_high = {}\n",
    "hr_responses_awake_med = {}\n",
    "hr_responses_awake_low = {}\n",
    "hr_response_sleep = {}\n",
    "hr_response_sleep_high = {}\n",
    "hr_response_sleep_med = {}\n",
    "hr_response_sleep_low = {}\n",
    "\n",
    "for i, sub in enumerate(subjects):\n",
    "    off = offsets[sub]\n",
    "\n",
    "    ecg_df = pd.read_pickle(f'/Volumes/Untitled/rehab/data/{sub}/polar_processed/ecg.pkl')\n",
    "    start_sleep, end_sleep = diary_SPT[sub]\n",
    "\n",
    "\n",
    "    ecg_df = ecg_df.loc[start_sleep:end_sleep]\n",
    "    ecg_filtered = nk.ecg_clean(ecg_df.values, sampling_rate=130)\n",
    "\n",
    "    # Extract peaks\n",
    "    _, results = nk.ecg_peaks(ecg_filtered, sampling_rate=130, method = 'neurokit')\n",
    "    rpeaks = results[\"ECG_R_Peaks\"]\n",
    "    _, rpeaks_corrected = nk.signal_fixpeaks(rpeaks, sampling_rate=130, iterative=True, method=\"Kubios\")\n",
    "\n",
    "    t_rpeaks = ecg_df.index.to_series().values[rpeaks]\n",
    "    t_rpeaks_corrected = ecg_df.index.to_series().values[rpeaks_corrected]\n",
    "    rr = np.diff(t_rpeaks).astype('timedelta64[ns]').astype('float64') / 1000000000\n",
    "    rr_corrected = np.diff(t_rpeaks_corrected).astype('timedelta64[ns]').astype('float64') / 1000000000\n",
    "    hr_ecg = 60/rr\n",
    "    hr_ecg_corrected = 60/rr_corrected\n",
    "    hr_df = pd.Series(hr_ecg_corrected, index = t_rpeaks_corrected[1:]).resample(\"1 s\").mean()#.rolling('10s', min_periods=1, center=True).mean()\n",
    "    hr_df = hr_df.interpolate(method = 'cubic')\n",
    "    hr_df_noncorrected = pd.Series(hr_ecg, index = t_rpeaks[1:]).resample(\"1 s\").mean()\n",
    "    hr_df_noncorrected = hr_df_noncorrected.interpolate(method = 'linear')\n",
    "\n",
    "    artifacts_ecg = pd.read_csv(f'/Volumes/Untitled/rehab/data/{sub}/polar_processed/artifacts_ecg.csv')\n",
    "    artifacts_ecg['Start'] = pd.to_datetime(artifacts_ecg['Start']).apply(lambda x: x.replace(tzinfo=None))\n",
    "    artifacts_ecg['End'] = pd.to_datetime(artifacts_ecg['End']).apply(lambda x: x.replace(tzinfo=None))\n",
    "\n",
    "    for i in range(len(artifacts_ecg)):\n",
    "        hr_df.loc[artifacts_ecg[\"Start\"].iloc[i]:artifacts_ecg[\"End\"].iloc[i]] = np.nan\n",
    "\n",
    "    hr_df.interpolate(method = 'cubic', inplace = True)\n",
    "\n",
    "    for i in range(len(artifacts_ecg)):\n",
    "        if artifacts_ecg[\"End\"].iloc[i] - artifacts_ecg[\"Start\"].iloc[i] > pd.Timedelta(\"20 s\"):\n",
    "            hr_df.loc[artifacts_ecg[\"Start\"].iloc[i]:artifacts_ecg[\"End\"].iloc[i]] = np.nan\n",
    "\n",
    "    #### PLOT #### \n",
    "    # plt.figure(figsize=(15, 9))\n",
    "    # plt.plot(hr_df, label = \"HR corrected\")\n",
    "    # for i, artifact in artifacts_ecg.iterrows():\n",
    "    #     plt.axvspan(artifact[\"Start\"], artifact[\"End\"], color = \"red\", alpha = 0.3)\n",
    "    # plt.title(f\"HR corrected {sub}\")\n",
    "\n",
    "    # SIB_sub = SIB[sub]\n",
    "    # for i, sib in SIB_sub.iterrows():\n",
    "    #     plt.axvspan(sib[\"sib.onset.time\"], sib[\"sib.end.time\"], color = \"green\", alpha = 0.3)\n",
    "\n",
    "    # plt.vlines(bursts_all_limbs[sub][bursts_all_limbs[sub][\"sib\"] == 0][\"start\"], ymin = 0, ymax = 200, color = \"blue\", alpha = 0.3)\n",
    "    \n",
    "    bursts_awake = bursts_all_limbs[sub][bursts_all_limbs[sub][\"sib\"] == 0]\n",
    "    bursts_sleep = bursts_all_limbs[sub][bursts_all_limbs[sub][\"sib\"] == 1]\n",
    "    # Cut according to start_sleep and end_sleep\n",
    "    bursts_awake = bursts_awake[(bursts_awake[\"start\"] >= start_sleep) & (bursts_awake[\"end\"] <= end_sleep)]\n",
    "    bursts_sleep = bursts_sleep[(bursts_sleep[\"start\"] >= start_sleep) & (bursts_sleep[\"end\"] <= end_sleep)]\n",
    "\n",
    "    HR_bursts_awake, HR_change, AUC_awake, _ = detect_HR_change_from_RR(filter_bursts(bursts_awake), hr_df, offsets[sub]+1, plot = False)\n",
    "    HR_bursts_sleep, HR_change, AUC_sleep, _ = detect_HR_change_from_RR(filter_bursts(bursts_sleep), hr_df, offsets[sub]+1, plot = False)\n",
    "\n",
    "    # Small vs medium vs large movements during wake\n",
    "    AUC_33_awake = np.percentile(AUC_awake, 33)\n",
    "    AUC_66_awake = np.percentile(AUC_awake, 66)\n",
    "    if sub == \"547\":\n",
    "        AUC_66 = np.percentile(AUC_awake, 50)\n",
    "\n",
    "    AUC_low = AUC_awake[AUC_awake <= AUC_33_awake]\n",
    "    AUC_med = AUC_awake[(AUC_awake > AUC_33_awake) & (AUC_awake <= AUC_66_awake)]\n",
    "    AUC_high = AUC_awake[AUC_awake > AUC_66_awake]\n",
    "\n",
    "    HR_bursts_awake_low = [HR_bursts_awake[i] for i in range(len(HR_bursts_awake)) if AUC_awake[i] <= AUC_33_awake]\n",
    "    HR_bursts_awake_med = [HR_bursts_awake[i] for i in range(len(HR_bursts_awake)) if (AUC_awake[i] > AUC_33_awake) and (AUC_awake[i] <= AUC_66_awake)]\n",
    "    HR_bursts_awake_high = [HR_bursts_awake[i] for i in range(len(HR_bursts_awake)) if AUC_awake[i] > AUC_66_awake]\n",
    "\n",
    "    HR_change_awake, _ = coherent_avg(HR_bursts_awake)\n",
    "    HR_change_awake_low, _ = coherent_avg(HR_bursts_awake_low)\n",
    "    HR_change_awake_med, _ = coherent_avg(HR_bursts_awake_med)\n",
    "    HR_change_awake_high, _ = coherent_avg(HR_bursts_awake_high)\n",
    "\n",
    "    # Small vs medium vs large movements during sleep\n",
    "    AUC_33_sleep = np.percentile(AUC_sleep, 33)\n",
    "    AUC_66_sleep = np.percentile(AUC_sleep, 66)\n",
    "    if sub == \"547\":\n",
    "        AUC_66 = np.percentile(AUC_sleep, 50)\n",
    "\n",
    "    AUC_low = AUC_sleep[AUC_sleep <= AUC_33_sleep]\n",
    "    AUC_med = AUC_sleep[(AUC_sleep > AUC_33_sleep) & (AUC_sleep <= AUC_66_sleep)]\n",
    "    AUC_high = AUC_sleep[AUC_sleep > AUC_66_sleep]\n",
    "\n",
    "    HR_bursts_sleep_low = [HR_bursts_sleep[i] for i in range(len(HR_bursts_sleep)) if AUC_sleep[i] <= AUC_33_sleep]\n",
    "    HR_bursts_sleep_med = [HR_bursts_sleep[i] for i in range(len(HR_bursts_sleep)) if (AUC_sleep[i] > AUC_33_sleep) and (AUC_sleep[i] <= AUC_66_sleep)]\n",
    "    HR_bursts_sleep_high = [HR_bursts_sleep[i] for i in range(len(HR_bursts_sleep)) if AUC_sleep[i] > AUC_66_sleep]\n",
    "\n",
    "    HR_change_sleep, _ = coherent_avg(HR_bursts_sleep)\n",
    "    HR_change_sleep_low, _ = coherent_avg(HR_bursts_sleep_low)\n",
    "    HR_change_sleep_med, _ = coherent_avg(HR_bursts_sleep_med)\n",
    "    HR_change_sleep_high, _ = coherent_avg(HR_bursts_sleep_high)\n",
    "\n",
    "    # Save the results\n",
    "    hr_responses_awake[sub] = HR_change_awake\n",
    "    hr_responses_awake_low[sub] = HR_change_awake_low\n",
    "    hr_responses_awake_med[sub] = HR_change_awake_med\n",
    "    hr_responses_awake_high[sub] = HR_change_awake_high\n",
    "    hr_response_sleep[sub] = HR_change_sleep\n",
    "    hr_response_sleep_low[sub] = HR_change_sleep_low\n",
    "    hr_response_sleep_med[sub] = HR_change_sleep_med\n",
    "    hr_response_sleep_high[sub] = HR_change_sleep_high"
   ]
  },
  {
   "cell_type": "code",
   "execution_count": 19,
   "metadata": {},
   "outputs": [],
   "source": [
    "import matplotlib.ticker as mtick"
   ]
  },
  {
   "cell_type": "code",
   "execution_count": 21,
   "metadata": {},
   "outputs": [
    {
     "data": {
      "text/plain": [
       "['158', '098', '633', '279', '906', '547', '971', '958', '815']"
      ]
     },
     "execution_count": 21,
     "metadata": {},
     "output_type": "execute_result"
    }
   ],
   "source": [
    "keys"
   ]
  },
  {
   "cell_type": "code",
   "execution_count": 32,
   "metadata": {},
   "outputs": [
    {
     "data": {
      "text/plain": [
       "(59,)"
      ]
     },
     "execution_count": 32,
     "metadata": {},
     "output_type": "execute_result"
    }
   ],
   "source": [
    "hr_responses_awake_med[\"815\"].shape"
   ]
  },
  {
   "cell_type": "code",
   "execution_count": 34,
   "metadata": {},
   "outputs": [
    {
     "data": {
      "text/plain": [
       "['158', '098', '633', '279', '906', '547', '971', '958', '815']"
      ]
     },
     "execution_count": 34,
     "metadata": {},
     "output_type": "execute_result"
    }
   ],
   "source": [
    "keys"
   ]
  },
  {
   "cell_type": "code",
   "execution_count": 42,
   "metadata": {},
   "outputs": [
    {
     "data": {
      "text/plain": [
       "array([[ 2.33397337e-01,  1.54783365e+00,  6.92839576e-01,\n",
       "        -6.06657542e-01,  1.70999948e-01,  7.59850251e-01,\n",
       "        -5.16775854e-01, -3.87262989e-01, -8.04054520e-01,\n",
       "        -3.61503444e-01, -4.95269080e-01,  9.31658517e-01,\n",
       "         8.90104397e-02, -2.61055156e-01,  2.24090005e+00,\n",
       "         3.14260318e+00,  2.90387090e+00,  3.92701472e+00,\n",
       "         4.69861452e+00,  4.12368595e+00,  5.90497361e+00,\n",
       "         1.03068147e+01,  1.47469801e+01,  1.88881499e+01,\n",
       "         2.21782132e+01,  2.35073829e+01,  2.40749001e+01,\n",
       "         2.42233010e+01,  2.45862807e+01,  2.51062307e+01,\n",
       "         2.56217156e+01,  2.67620744e+01,  2.84693639e+01,\n",
       "         2.98109815e+01,  2.79935894e+01,  2.72954549e+01,\n",
       "         2.42135459e+01,  2.26933633e+01,  2.05054158e+01,\n",
       "         1.68742012e+01,  1.44143523e+01,  1.18435657e+01,\n",
       "         7.21554359e+00,  7.31878916e+00,  8.09992836e+00,\n",
       "         4.47458004e+00,  2.62335174e+00,  2.54435788e+00,\n",
       "         1.74976200e+00, -6.62173161e-01, -2.10271781e+00,\n",
       "        -5.03046718e-01,  1.20554191e+00, -1.28917846e+00,\n",
       "        -4.02861669e-01, -2.96115810e+00, -5.29725278e+00,\n",
       "        -4.40935869e+00, -3.29233652e+00],\n",
       "       [-9.43217703e-01, -4.96921012e-01, -1.30049294e+00,\n",
       "        -1.14418171e+00,  1.56972718e+00,  2.98377982e+00,\n",
       "         7.55604206e-01, -1.57486392e-01, -7.01923312e-01,\n",
       "        -3.50912890e-01, -1.15719295e+00, -2.91520270e+00,\n",
       "        -3.07263098e+00, -2.13752556e+00,  6.40174116e-01,\n",
       "         1.98268619e+00,  2.14198033e+00,  1.18951527e+00,\n",
       "         2.84295622e+00,  5.71929571e+00,  9.94424860e+00,\n",
       "         1.52596694e+01,  2.04593524e+01,  2.51564905e+01,\n",
       "         2.88425049e+01,  3.20602027e+01,  3.51160299e+01,\n",
       "         3.29310288e+01,  3.73693545e+01,  3.96474085e+01,\n",
       "         3.87590011e+01,  3.86854454e+01,  4.17239197e+01,\n",
       "         4.32358902e+01,  4.42259343e+01,  4.44021618e+01,\n",
       "         4.09682614e+01,  4.14297744e+01,  4.17717922e+01,\n",
       "         4.04590640e+01,  3.94543509e+01,  3.07724944e+01,\n",
       "         2.10512008e+01,  1.68389501e+01,  1.29451363e+01,\n",
       "         9.84760284e+00,  9.63585799e+00,  2.48904553e+00,\n",
       "        -3.85767765e+00, -7.21251859e+00, -7.72096553e+00,\n",
       "        -6.88033121e+00, -8.43748567e+00, -9.11268263e+00,\n",
       "        -6.68960715e+00, -6.50953337e+00, -7.23757230e+00,\n",
       "        -9.89884386e+00, -9.60107576e+00],\n",
       "       [ 2.56478911e+00,  2.21031825e+00,  1.91789010e+00,\n",
       "        -6.43738988e-01, -4.61034412e-01, -3.48652018e-01,\n",
       "         5.34989616e-01, -2.38312972e+00, -1.05236624e+00,\n",
       "        -1.22513015e-01,  3.48236424e-01, -9.49515439e-01,\n",
       "        -4.26299808e-01, -6.51479573e-01, -3.84461081e-01,\n",
       "        -1.05815887e+00, -1.63245419e-01,  9.04580830e-01,\n",
       "         1.93719876e+00,  6.00927586e+00,  9.46239036e+00,\n",
       "         1.29083377e+01,  1.61158034e+01,  1.68303085e+01,\n",
       "         1.80806402e+01,  1.71251796e+01,  1.73520192e+01,\n",
       "         2.07009395e+01,  2.02195516e+01,  2.03926368e+01,\n",
       "         2.15248922e+01,  2.30542475e+01,  2.40193909e+01,\n",
       "         2.58622573e+01,  2.71735963e+01,  2.85121456e+01,\n",
       "         3.00806096e+01,  3.04290668e+01,  3.01139198e+01,\n",
       "         2.84819018e+01,  2.50564746e+01,  2.22293593e+01,\n",
       "         1.77768640e+01,  1.34754864e+01,  7.94902132e+00,\n",
       "         5.69465586e+00,  3.46049709e+00, -1.02220251e-01,\n",
       "        -6.66058688e-01, -2.55093171e-01,  7.20797089e-02,\n",
       "        -1.24334329e+00, -2.30247095e+00, -1.99850866e+00,\n",
       "         5.11496477e-02, -1.13722964e+00, -2.29769495e+00,\n",
       "        -3.10690088e+00, -1.56802280e+00],\n",
       "       [-1.42237032e+00, -1.60962624e-01,  8.92200095e-01,\n",
       "         4.89829626e-01,  4.42348395e-02, -2.56844453e-01,\n",
       "         4.59931227e-01,  1.23865502e-01, -4.99335448e-01,\n",
       "        -8.06750556e-01, -2.86168209e-01,  7.16302120e-01,\n",
       "         1.08489200e+00,  4.71280384e-01,  1.02554164e+00,\n",
       "         5.98949904e-01,  1.33088260e+00,  3.35766375e-01,\n",
       "         3.32669222e+00,  8.01251381e+00,  1.24321163e+01,\n",
       "         1.64565314e+01,  1.90089017e+01,  2.10257987e+01,\n",
       "         2.36878381e+01,  2.55661294e+01,  2.63524092e+01,\n",
       "         2.67323548e+01,  2.71956280e+01,  2.69324611e+01,\n",
       "         2.64618270e+01,  2.58534775e+01,  2.46088957e+01,\n",
       "         2.29624164e+01,  2.05939240e+01,  1.94878224e+01,\n",
       "         1.86452194e+01,  1.60988777e+01,  1.05642503e+01,\n",
       "         6.35946117e+00,  4.55318747e+00,  2.40429040e+00,\n",
       "         2.51876741e-01, -3.94593592e+00, -7.98271928e+00,\n",
       "        -1.21181263e+01, -1.29451617e+01, -8.68794002e+00,\n",
       "        -9.28764668e+00, -8.99638289e+00, -8.57227741e+00,\n",
       "        -7.01294941e+00, -5.94287656e+00, -7.15896102e+00,\n",
       "        -7.16814210e+00, -9.27864939e+00, -8.88249878e+00,\n",
       "        -1.02133586e+01, -9.38258436e+00],\n",
       "       [-5.47156994e-01, -2.06228454e+00, -1.41247195e+00,\n",
       "        -7.65949060e-01,  2.64036770e+00, -1.53535498e+00,\n",
       "        -2.01108606e+00,  1.53724763e+00,  1.53118526e+00,\n",
       "         1.90625795e+00,  1.72088054e-01, -1.65923362e+00,\n",
       "        -3.10769397e-01, -4.74376571e-01, -4.45722480e+00,\n",
       "        -6.31362469e+00, -4.92333059e+00,  1.53537933e+00,\n",
       "         7.75532940e+00,  1.25077211e+01,  2.25785462e+01,\n",
       "         2.71687083e+01,  2.69328184e+01,  9.35632536e+00,\n",
       "         1.19135022e+01,  1.22741622e+01,  1.69931210e+01,\n",
       "         2.46809819e+01,  2.74602963e+01,  3.22215183e+01,\n",
       "         3.35379482e+01,  3.50653839e+01,  3.54934774e+01,\n",
       "         3.69781316e+01,  3.64506974e+01,  3.74129820e+01,\n",
       "         3.89427513e+01,  4.04107795e+01,  4.29358166e+01,\n",
       "         4.54719850e+01,  4.76830749e+01,  5.05030854e+01,\n",
       "         5.10534385e+01,  5.28083811e+01,  5.09614862e+01,\n",
       "         4.97720673e+01,  4.91904031e+01,  4.74878307e+01,\n",
       "         3.86339066e+01,  3.10358364e+01,  2.52096114e+01,\n",
       "         1.23486375e+01,  7.74740091e+00,  8.14472035e+00,\n",
       "         1.48006730e+01,  1.57221023e+01,  1.67295530e+01,\n",
       "         1.59899068e+01,  1.31559629e+01],\n",
       "       [-6.15051786e+00,  6.92174329e-01,  1.68843847e+00,\n",
       "        -4.00856576e+00, -1.42746146e+00,  5.86348183e+00,\n",
       "         9.17481947e+00, -2.87709043e+00, -7.16087884e+00,\n",
       "        -3.90747298e+00,  1.96255537e+00, -4.55970837e+00,\n",
       "        -4.85824697e+00, -1.17045496e+00,  4.45784219e+00,\n",
       "         3.00100249e+00, -8.18867811e-01, -4.55830328e+00,\n",
       "        -1.12898365e+00,  1.27493255e+01,  6.57381677e+00,\n",
       "         5.99082665e+00,  2.02938598e+01,  3.65924969e+01,\n",
       "         4.32280608e+01,  4.81406216e+01,  5.45081871e+01,\n",
       "         6.03265235e+01,  6.41100656e+01,  6.76244107e+01,\n",
       "         6.93710780e+01,  6.96650494e+01,  6.88072617e+01,\n",
       "         6.27299934e+01,  5.34319617e+01,  5.85167866e+01,\n",
       "         5.47951158e+01,  5.36306847e+01,  5.93652086e+01,\n",
       "         5.47392134e+01,  4.59077195e+01,  4.01128292e+01,\n",
       "         4.25607034e+01,  1.68392257e+01,  1.08385553e+01,\n",
       "         1.64555294e+01,  2.03891194e+01,  1.42615858e+01,\n",
       "         6.30914193e+00,  1.34056867e+01,  3.40841765e+00,\n",
       "        -4.32071534e+00,  4.28690466e-01,  7.07491038e+00,\n",
       "         5.84534272e+00, -7.24249527e+00,  1.31159461e+00,\n",
       "         1.09839671e+01,  8.31843582e+00],\n",
       "       [-5.07740888e+00, -6.04092657e+00, -1.66491974e+00,\n",
       "        -3.92490722e+00, -2.58022184e+00, -3.58910512e-01,\n",
       "         1.45371852e+00,  3.08758302e+00,  4.16950575e+00,\n",
       "         4.03536799e+00,  1.82371060e+00,  5.23007162e-01,\n",
       "        -1.05134886e+01, -6.14187021e+00,  6.52578578e-01,\n",
       "         1.03056347e-01, -5.24185583e+00,  2.90062015e+00,\n",
       "         6.23194032e+00,  1.20613378e+01,  2.22633935e+01,\n",
       "         3.53124750e+01,  3.93088093e+01,  3.67198539e+01,\n",
       "         3.67953335e+01,  4.17203640e+01,  2.66069717e+01,\n",
       "         2.80624373e+01,  2.28377469e+01,  2.91193458e+01,\n",
       "         2.24075986e+01,  2.02892550e+01,  1.21432766e+01,\n",
       "         9.49648944e+00,  8.65362572e+00,  2.21877084e+00,\n",
       "        -7.99865731e-01,  1.38103495e+00,  5.13554981e+00,\n",
       "         1.65760600e+00, -5.71994440e+00, -1.94760454e+00,\n",
       "        -2.93030856e+00, -5.08701020e+00, -9.97114139e+00,\n",
       "        -1.14554088e+01, -1.05046256e+01, -6.32707494e+00,\n",
       "        -7.04159117e+00, -8.88973943e+00, -1.14679869e+01,\n",
       "        -9.50076993e+00, -7.83137898e+00, -5.35070735e+00,\n",
       "         6.98680463e-02, -6.89860506e+00, -7.08057102e+00,\n",
       "        -5.20594837e+00, -9.37857536e+00],\n",
       "       [ 2.44648050e+00,  6.41296458e+00, -1.01044350e-01,\n",
       "        -2.25759961e-01, -2.76844617e-01,  1.18778229e-01,\n",
       "         3.16100601e-01, -1.13808836e+00, -1.50830689e+00,\n",
       "        -1.99805128e+00, -1.59974795e+00, -1.90331335e+00,\n",
       "        -1.74863964e+00,  7.10561441e-01,  2.55564017e-01,\n",
       "         7.29060889e+00,  2.83586496e+00,  2.66177122e+00,\n",
       "         6.48670303e+00, -1.29697801e+00,  1.19437419e+00,\n",
       "         8.17587832e+00,  1.38320042e+01,  2.02271803e+01,\n",
       "         2.45651981e+01,  2.74669499e+01,  3.06643017e+01,\n",
       "         3.14851491e+01,  2.96832916e+01,  2.88271704e+01,\n",
       "         2.90016444e+01,  2.72987278e+01,  2.36663349e+01,\n",
       "         2.01430779e+01,  1.59431981e+01,  1.11323949e+01,\n",
       "         8.61036270e+00,  5.54939097e+00,  1.00530001e+00,\n",
       "        -2.38164420e+00,  6.59329496e-01, -1.97242579e+00,\n",
       "        -1.72347060e+00, -9.24574000e+00, -9.94263163e+00,\n",
       "        -8.88824634e+00, -7.98227710e+00, -8.10131159e+00,\n",
       "        -6.17520865e+00, -3.71095733e+00, -3.08803777e+00,\n",
       "        -1.56433264e+00,  1.17954032e+00,  4.33732800e+00,\n",
       "         2.82735187e+00, -1.30053344e+00, -4.11628533e+00,\n",
       "        -3.82983573e+00, -2.07745031e+00]])"
      ]
     },
     "execution_count": 42,
     "metadata": {},
     "output_type": "execute_result"
    },
    {
     "name": "stderr",
     "output_type": "stream",
     "text": [
      "2024-05-31 14:52:23.613 python[60488:879563] +[CATransaction synchronize] called within transaction\n",
      "2024-05-31 14:52:23.634 python[60488:879563] +[CATransaction synchronize] called within transaction\n",
      "2024-05-31 14:52:24.787 python[60488:879563] +[CATransaction synchronize] called within transaction\n",
      "2024-05-31 14:52:24.847 python[60488:879563] Warning: Window move completed without beginning\n"
     ]
    }
   ],
   "source": [
    "med_hr_matrix"
   ]
  },
  {
   "cell_type": "code",
   "execution_count": 43,
   "metadata": {},
   "outputs": [
    {
     "ename": "NameError",
     "evalue": "name 'hr_responses_sleep_high' is not defined",
     "output_type": "error",
     "traceback": [
      "\u001b[0;31m---------------------------------------------------------------------------\u001b[0m",
      "\u001b[0;31mNameError\u001b[0m                                 Traceback (most recent call last)",
      "Cell \u001b[0;32mIn[43], line 7\u001b[0m\n\u001b[1;32m      5\u001b[0m med_hr_matrix \u001b[38;5;241m=\u001b[39m np\u001b[38;5;241m.\u001b[39marray([hr_responses_awake_med[key] \u001b[38;5;28;01mfor\u001b[39;00m key \u001b[38;5;129;01min\u001b[39;00m keys \u001b[38;5;28;01mif\u001b[39;00m key \u001b[38;5;241m!=\u001b[39m \u001b[38;5;124m\"\u001b[39m\u001b[38;5;124m279\u001b[39m\u001b[38;5;124m\"\u001b[39m])\n\u001b[1;32m      6\u001b[0m low_hr_matrix \u001b[38;5;241m=\u001b[39m np\u001b[38;5;241m.\u001b[39marray([hr_responses_awake_low[key] \u001b[38;5;28;01mfor\u001b[39;00m key \u001b[38;5;129;01min\u001b[39;00m keys])\n\u001b[0;32m----> 7\u001b[0m high_hr_matrix \u001b[38;5;241m=\u001b[39m np\u001b[38;5;241m.\u001b[39marray([hr_responses_sleep_high[key] \u001b[38;5;28;01mfor\u001b[39;00m key \u001b[38;5;129;01min\u001b[39;00m keys])\n\u001b[1;32m      8\u001b[0m med_hr_matrix \u001b[38;5;241m=\u001b[39m np\u001b[38;5;241m.\u001b[39marray([hr_responses_sleep_med[key] \u001b[38;5;28;01mfor\u001b[39;00m key \u001b[38;5;129;01min\u001b[39;00m keys \u001b[38;5;28;01mif\u001b[39;00m key \u001b[38;5;241m!=\u001b[39m \u001b[38;5;124m\"\u001b[39m\u001b[38;5;124m279\u001b[39m\u001b[38;5;124m\"\u001b[39m])\n\u001b[1;32m      9\u001b[0m low_hr_matrix \u001b[38;5;241m=\u001b[39m np\u001b[38;5;241m.\u001b[39marray([hr_responses_sleep_low[key] \u001b[38;5;28;01mfor\u001b[39;00m key \u001b[38;5;129;01min\u001b[39;00m keys])\n",
      "Cell \u001b[0;32mIn[43], line 7\u001b[0m, in \u001b[0;36m<listcomp>\u001b[0;34m(.0)\u001b[0m\n\u001b[1;32m      5\u001b[0m med_hr_matrix \u001b[38;5;241m=\u001b[39m np\u001b[38;5;241m.\u001b[39marray([hr_responses_awake_med[key] \u001b[38;5;28;01mfor\u001b[39;00m key \u001b[38;5;129;01min\u001b[39;00m keys \u001b[38;5;28;01mif\u001b[39;00m key \u001b[38;5;241m!=\u001b[39m \u001b[38;5;124m\"\u001b[39m\u001b[38;5;124m279\u001b[39m\u001b[38;5;124m\"\u001b[39m])\n\u001b[1;32m      6\u001b[0m low_hr_matrix \u001b[38;5;241m=\u001b[39m np\u001b[38;5;241m.\u001b[39marray([hr_responses_awake_low[key] \u001b[38;5;28;01mfor\u001b[39;00m key \u001b[38;5;129;01min\u001b[39;00m keys])\n\u001b[0;32m----> 7\u001b[0m high_hr_matrix \u001b[38;5;241m=\u001b[39m np\u001b[38;5;241m.\u001b[39marray([\u001b[43mhr_responses_sleep_high\u001b[49m[key] \u001b[38;5;28;01mfor\u001b[39;00m key \u001b[38;5;129;01min\u001b[39;00m keys])\n\u001b[1;32m      8\u001b[0m med_hr_matrix \u001b[38;5;241m=\u001b[39m np\u001b[38;5;241m.\u001b[39marray([hr_responses_sleep_med[key] \u001b[38;5;28;01mfor\u001b[39;00m key \u001b[38;5;129;01min\u001b[39;00m keys \u001b[38;5;28;01mif\u001b[39;00m key \u001b[38;5;241m!=\u001b[39m \u001b[38;5;124m\"\u001b[39m\u001b[38;5;124m279\u001b[39m\u001b[38;5;124m\"\u001b[39m])\n\u001b[1;32m      9\u001b[0m low_hr_matrix \u001b[38;5;241m=\u001b[39m np\u001b[38;5;241m.\u001b[39marray([hr_responses_sleep_low[key] \u001b[38;5;28;01mfor\u001b[39;00m key \u001b[38;5;129;01min\u001b[39;00m keys])\n",
      "\u001b[0;31mNameError\u001b[0m: name 'hr_responses_sleep_high' is not defined"
     ]
    }
   ],
   "source": [
    "keys = list(hr_responses_awake.keys())  # Assuming all dictionaries have the same keys\n",
    "\n",
    "# keys = list(hr_responses_med.keys())  # Assuming all dictionaries have the same keys\n",
    "high_hr_matrix = np.array([hr_responses_awake_high[key] for key in keys])\n",
    "med_hr_matrix = np.array([hr_responses_awake_med[key] for key in keys if key != \"279\"])\n",
    "low_hr_matrix = np.array([hr_responses_awake_low[key] for key in keys])\n",
    "high_hr_matrix = np.array([hr_responses_sleep_high[key] for key in keys if ~np.isnan(hr_responses_sleep_high[key]).all()])\n",
    "med_hr_matrix = np.array([hr_responses_sleep_med[key] for key in keys if key != \"279\"])\n",
    "low_hr_matrix = np.array([hr_responses_sleep_low[key] for key in keys])\n",
    "time_seconds = np.arange(-19,40)  # Time axis\n",
    "\n",
    "# Calculate mean HR trends for each category\n",
    "mean_high_hr = np.mean(high_hr_matrix, axis=0)\n",
    "mean_med_hr = np.mean(med_hr_matrix, axis=0)\n",
    "mean_low_hr = np.mean(low_hr_matrix, axis=0)\n",
    "sem_high_hr = np.std(high_hr_matrix, axis=0, ddof=1) / np.sqrt(high_hr_matrix.shape[0])\n",
    "sem_med_hr = np.std(med_hr_matrix, axis=0, ddof=1) / np.sqrt(med_hr_matrix.shape[0])\n",
    "sem_low_hr = np.std(low_hr_matrix, axis=0, ddof=1) / np.sqrt(low_hr_matrix.shape[0])\n",
    "\n",
    "# Create boxplots for each HR type with transparency and customized outlier properties\n",
    "f, (ax1) = plt.subplots()\n",
    "f.set_figheight(7)\n",
    "f.set_figwidth(21)\n",
    "\n",
    "ax1.errorbar(time_seconds, mean_low_hr, yerr=sem_low_hr, fmt='g-', linewidth=2, label=None, ecolor='green', elinewidth=1.5, capsize=3)\n",
    "ax1.errorbar(time_seconds, mean_med_hr, yerr=sem_med_hr, fmt='r-', linewidth=2, label=None, ecolor='red', elinewidth=1.5, capsize=3)\n",
    "ax1.errorbar(time_seconds, mean_high_hr, yerr=sem_high_hr, fmt='b-', linewidth=2, label=None, ecolor='blue', elinewidth=1.5, capsize=3)\n",
    "\n",
    "\n",
    "# Add mean HR trend lines\n",
    "ax1.plot(time_seconds, mean_low_hr, color = 'g', marker = 'o', linewidth=2, label = \"Small movement\")  # Low\n",
    "ax1.plot(time_seconds, mean_med_hr, color = 'r', marker = 'o', linewidth=2, label = \"Medium Movement\")  # Medium\n",
    "ax1.plot(time_seconds, mean_high_hr, color = 'b', marker = 'o', linewidth=2, label = \"Large movement\")     # High\n",
    "\n",
    "ax1.axvline(x=0, color='grey', linestyle='--', linewidth=1.2)\n",
    "ax1.axhline(y=0, color='grey', linestyle='--', linewidth=1.2)\n",
    "ax1.annotate('Movement\\nonset', xy=(0, plt.ylim()[1]-6), xytext=(-60, plt.ylim()[1]-66),\n",
    "             textcoords='offset points', ha='right', va='bottom', fontsize=19,\n",
    "             bbox=dict(boxstyle='round,pad=0.5', fc='gray', alpha=0.2, edgecolor='black'),\n",
    "             arrowprops=dict(facecolor='black', shrink=0.05, width=2))\n",
    "\n",
    "# plt.xticks(ticks = np.arange(-20, 40, 5), labels=np.arange(-20, 40, 5), fontsize=16)\n",
    "ax1.yaxis.set_major_formatter(mtick.PercentFormatter(decimals=0))\n",
    "ax1.set_xlabel('Time (seconds)', fontsize = 21)\n",
    "ax1.set_label('')\n",
    "ax1.xaxis.set_tick_params(labelsize=20)\n",
    "ax1.yaxis.set_tick_params(labelsize=20)\n",
    "ax1.yaxis.set_tick_params(labelleft=True, labelsize=20)\n",
    "\n",
    "ax1.legend(frameon = True, fancybox = True, shadow = True, fontsize = 18, loc = \"upper right\")\n",
    "plt.grid(True)\n",
    "plt.tight_layout()"
   ]
  },
  {
   "cell_type": "code",
   "execution_count": 17,
   "metadata": {},
   "outputs": [
    {
     "data": {
      "text/plain": [
       "<matplotlib.legend.Legend at 0x7f97528679d0>"
      ]
     },
     "execution_count": 17,
     "metadata": {},
     "output_type": "execute_result"
    }
   ],
   "source": [
    "plt.figure()\n",
    "# plt.plot(HR_change_awake, label = \"All\")\n",
    "plt.plot(HR_change_awake_low, label = \"Low\")\n",
    "plt.plot(HR_change_awake_med, label = \"Medium\")\n",
    "plt.plot(HR_change_awake_high, label = \"High\")\n",
    "plt.legend()"
   ]
  },
  {
   "cell_type": "code",
   "execution_count": 9,
   "metadata": {},
   "outputs": [
    {
     "data": {
      "text/plain": [
       "(array([-1.01977427, -0.9034987 , -0.98065599, -0.39465717,  0.11418064,\n",
       "        -0.21386798,  0.3119101 ,  0.7951134 ,  0.60426608, -0.03173758,\n",
       "         0.6989472 ,  0.77625677, -0.03850405, -0.13950623,  0.98272396,\n",
       "         1.07363257,  1.81395161,  2.80623378,  3.7392958 ,  3.85556033,\n",
       "         5.5012593 ,  9.96850198, 14.01516982, 17.4354767 , 20.55308448,\n",
       "        22.93782339, 21.39673735, 21.74220184, 20.81504811, 21.40692982,\n",
       "        21.28389351, 21.23632315, 22.25316566, 23.45917556, 23.25017683,\n",
       "        23.53122181, 22.31534356, 21.2536938 , 19.28035867, 16.91175056,\n",
       "        14.62035761, 12.82396905,  9.60516659,  8.10273621,  8.33619697,\n",
       "         6.96497898,  6.00360123,  5.69306217,  5.0414513 ,  4.63414262,\n",
       "         3.01011967,  1.34293011,  1.61275477,  1.76751582,  0.37302696,\n",
       "        -0.43043203, -0.73555399, -1.27467217, -0.75167606]),\n",
       " array([ 4.69942723,  5.63905666,  4.92058215,  5.71146143,  4.24108033,\n",
       "         3.38180644,  3.16545493,  3.64258254,  4.2312007 ,  6.02655092,\n",
       "         5.67130895,  5.73790595,  6.02144623,  5.95202887,  6.94350531,\n",
       "         6.95789354,  6.80427438,  6.98569382,  8.34872659,  8.75215079,\n",
       "         8.32875405,  7.45265889,  6.28283556,  6.58748607,  6.74291023,\n",
       "         8.13753058,  9.50537672, 10.35267416, 12.04684362, 13.94559956,\n",
       "        15.06615444, 15.62461602, 15.99514419, 16.04099263, 16.39121474,\n",
       "        16.62883253, 16.84321597, 17.22188754, 17.9066022 , 17.48861485,\n",
       "        16.69253634, 17.01350853, 16.44577343, 15.87149642, 14.4477222 ,\n",
       "        14.40170658, 14.20806144, 13.34037683, 13.58419884, 14.05402018,\n",
       "        13.04042886, 11.16242364, 11.28051288, 10.97993202, 11.00790168,\n",
       "        11.05545785,  9.95293634,  9.16444338,  9.59300899]))"
      ]
     },
     "execution_count": 9,
     "metadata": {},
     "output_type": "execute_result"
    }
   ],
   "source": [
    "HR_response"
   ]
  },
  {
   "cell_type": "code",
   "execution_count": 12,
   "metadata": {},
   "outputs": [
    {
     "data": {
      "text/plain": [
       "[<matplotlib.lines.Line2D at 0x7f975e7e8b50>]"
      ]
     },
     "execution_count": 12,
     "metadata": {},
     "output_type": "execute_result"
    }
   ],
   "source": [
    "plt.figure()\n",
    "plt.plot(HR_response[0])"
   ]
  },
  {
   "cell_type": "code",
   "execution_count": null,
   "metadata": {},
   "outputs": [],
   "source": []
  }
 ],
 "metadata": {
  "kernelspec": {
   "display_name": "base",
   "language": "python",
   "name": "python3"
  },
  "language_info": {
   "codemirror_mode": {
    "name": "ipython",
    "version": 3
   },
   "file_extension": ".py",
   "mimetype": "text/x-python",
   "name": "python",
   "nbconvert_exporter": "python",
   "pygments_lexer": "ipython3",
   "version": "3.10.13"
  }
 },
 "nbformat": 4,
 "nbformat_minor": 2
}
