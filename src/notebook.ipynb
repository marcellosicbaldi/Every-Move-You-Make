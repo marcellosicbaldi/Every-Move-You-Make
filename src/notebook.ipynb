{
 "cells": [
  {
   "cell_type": "code",
   "execution_count": 2,
   "metadata": {},
   "outputs": [],
   "source": [
    "import numpy as np\n",
    "import pandas as pd\n",
    "import matplotlib as mpl\n",
    "import matplotlib.pyplot as plt\n",
    "\n",
    "import pickle\n",
    "\n",
    "import seaborn as sns\n",
    "\n",
    "%matplotlib qt\n",
    "mpl.rcParams['lines.linewidth'] = 0.91\n",
    "plt.style.use('seaborn-v0_8-whitegrid')"
   ]
  },
  {
   "cell_type": "markdown",
   "metadata": {},
   "source": [
    "## Load GGIR output \n",
    "(From script: `/Volumes/Untitled/rehab/GGIR/GGIR_LG-miar.Rmd`)"
   ]
  },
  {
   "cell_type": "code",
   "execution_count": 3,
   "metadata": {},
   "outputs": [],
   "source": [
    "import pyreadr"
   ]
  },
  {
   "cell_type": "code",
   "execution_count": 4,
   "metadata": {},
   "outputs": [],
   "source": [
    "diary_SPT = {    \n",
    "    \"158\": [pd.Timestamp('2024-02-28 23:00:00'), pd.Timestamp('2024-02-29 07:15:00')], # 158 OK\n",
    "    \"633\": [pd.Timestamp('2024-03-07 00:05:00'), pd.Timestamp('2024-03-07 06:36:00')], # 633 OK\n",
    "    \"906\": [pd.Timestamp('2024-03-07 00:30:00'), pd.Timestamp('2024-03-07 07:30:00')], # 906 OK\n",
    "    \"958\": [pd.Timestamp('2024-03-13 22:00:00'), pd.Timestamp('2024-03-14 06:00:00')], # 958 OK\n",
    "    \"127\": [pd.Timestamp('2024-03-13 23:15:00'), pd.Timestamp('2024-03-14 06:50:00')], # 127 OK\n",
    "    \"098\": [pd.Timestamp('2024-03-16 02:01:00'), pd.Timestamp('2024-03-16 09:50:00')], # 098 OK\n",
    "    \"547\": [pd.Timestamp('2024-03-16 01:04:00'), pd.Timestamp('2024-03-16 07:40:00')], # 547 OK\n",
    "    \"815\": [pd.Timestamp('2024-03-20 23:00:00'), pd.Timestamp('2024-03-21 07:30:00')], # 815 OK\n",
    "    \"914\": [pd.Timestamp('2024-03-20 21:50:00'), pd.Timestamp('2024-03-21 05:50:00')], # 914 OK\n",
    "    \"971\": [pd.Timestamp('2024-03-20 23:50:00'), pd.Timestamp('2024-03-21 07:50:00')], # 971 OK\n",
    "    \"279\": [pd.Timestamp('2024-03-28 00:10:00'), pd.Timestamp('2024-03-28 07:27:00')], # 279 OK\n",
    "    \"965\": [pd.Timestamp('2024-03-28 01:25:00'), pd.Timestamp('2024-03-28 09:20:00')], # 965 OK\n",
    "}\n",
    "\n",
    "diary_TIB = {\n",
    "    \"158\": [pd.Timestamp('2024-02-28 22:15:00'), pd.Timestamp('2024-02-29 07:45:00')], # 158 OK\n",
    "    \"633\": [pd.Timestamp('2024-03-06 23:39:00'), pd.Timestamp('2024-03-07 08:00:00')], # 633 OK \n",
    "    \"906\": [pd.Timestamp('2024-03-07 00:15:00'), pd.Timestamp('2024-03-07 07:35:00')], # 906 OK\n",
    "    \"958\": [pd.Timestamp('2024-03-13 21:30:00'), pd.Timestamp('2024-03-14 06:30:00')], # 958 OK\n",
    "    \"127\": [pd.Timestamp('2024-03-13 22:00:00'), pd.Timestamp('2024-03-14 07:10:00')], # 127 OK \n",
    "    \"098\": [pd.Timestamp('2024-03-16 01:49:00'), pd.Timestamp('2024-03-16 09:52:00')], # 098 OK \n",
    "    \"547\": [pd.Timestamp('2024-03-16 00:26:00'), pd.Timestamp('2024-03-16 08:20:00')], # 547 OK \n",
    "    \"815\": [pd.Timestamp('2024-03-20 22:00:00'), pd.Timestamp('2024-03-21 07:30:00')], # 815 OK \n",
    "    \"914\": [pd.Timestamp('2024-03-20 21:30:00'), pd.Timestamp('2024-03-21 06:20:00')], # 914 OK \n",
    "    \"971\": [pd.Timestamp('2024-03-20 23:30:00'), pd.Timestamp('2024-03-21 08:08:00')], # 971 OK \n",
    "    \"279\": [pd.Timestamp('2024-03-28 00:04:00'), pd.Timestamp('2024-03-28 07:41:00')], # 279 OK\n",
    "    \"965\": [pd.Timestamp('2024-03-28 01:22:00'), pd.Timestamp('2024-03-28 09:22:00')], # 965 OK\n",
    "}"
   ]
  },
  {
   "cell_type": "code",
   "execution_count": 24,
   "metadata": {},
   "outputs": [],
   "source": [
    "part2_outputFolder = \"/Volumes/Untitled/rehab/GGIR/GGIR_output_TIB/output_lw_data/meta/ms2.out/\"\n",
    "part3_outputFolder = \"/Volumes/Untitled/rehab/GGIR/GGIR_output_TIB/output_lw_data/meta/ms3.out/\"\n",
    "subjects = [\"158\", \"098\", \"633\", \"279\", \"906\", \"547\", \"971\", \"958\", \"815\"]\n",
    "\n",
    "SIB_GGIR = {sub: pyreadr.read_r(part3_outputFolder + \"LW_\" + sub + \".CWA.RData\")['sib.cla.sum'][[\"sib.onset.time\", \"sib.end.time\"]] for sub in subjects}\n",
    "\n",
    "bursts_lw = {sub: 0 for sub in subjects}\n",
    "bursts_rw = {sub: 0 for sub in subjects}\n",
    "bursts_ll = {sub: 0 for sub in subjects}\n",
    "bursts_rl = {sub: 0 for sub in subjects}\n",
    "bursts_trunk = {sub: 0 for sub in subjects}\n",
    "bursts_all_limbs = {sub: 0 for sub in subjects}\n",
    "SIB = {sub: 0 for sub in subjects}\n",
    "for i, sub in enumerate(subjects):\n",
    "    SIB_GGIR[sub][\"sib.onset.time\"] = pd.to_datetime(SIB_GGIR[sub][\"sib.onset.time\"].values).tz_localize(None)\n",
    "    SIB_GGIR[sub][\"sib.end.time\"] = pd.to_datetime(SIB_GGIR[sub][\"sib.end.time\"].values).tz_localize(None)\n",
    "    # end time - onset time\n",
    "    SIB_GGIR[sub][\"sib.duration\"] = SIB_GGIR[sub][\"sib.end.time\"] - SIB_GGIR[sub][\"sib.onset.time\"]\n",
    "    # onset time - previous end time\n",
    "    # print(min(SIB_all[sub].dropna()[\"awake.duration\"]))\n",
    "    # SIB[sub]['sib.onset.time'] += pd.Timedelta('5s')\n",
    "    # SIB[sub]['sib.end.time'] += pd.Timedelta('5s')\n",
    "    with open(f'/Volumes/Untitled/rehab/data/{sub}/bursts_TIB.pkl', 'rb') as f:\n",
    "        bursts = pickle.load(f)\n",
    "    bursts_lw[sub] = bursts[\"lw\"]\n",
    "    bursts_rw[sub] = bursts[\"rw\"]\n",
    "    bursts_ll[sub] = bursts[\"ll\"]\n",
    "    bursts_rl[sub] = bursts[\"rl\"]\n",
    "    bursts_trunk[sub] = bursts[\"trunk\"]\n",
    "    bursts_all_limbs[sub] = bursts[\"all_limbs\"]\n",
    "\n",
    "    spt_start = diary_TIB[sub][0]\n",
    "    spt_end = diary_TIB[sub][1] + pd.Timedelta('5 min')\n",
    "\n",
    "    SIB[sub] = SIB_GGIR[sub][(SIB_GGIR[sub][\"sib.onset.time\"] >= spt_start) & (SIB_GGIR[sub][\"sib.end.time\"] <= spt_end)].reset_index(drop=True)\n",
    "    SIB[sub] = SIB_GGIR[sub][(SIB_GGIR[sub][\"sib.onset.time\"] >= spt_start) & (SIB_GGIR[sub][\"sib.end.time\"] <= spt_end)].reset_index(drop=True)\n",
    "\n",
    "    SIB[sub][\"awake.duration\"] = SIB[sub][\"sib.onset.time\"].shift(-1) - SIB[sub][\"sib.end.time\"]\n",
    "\n",
    "    # Angle-z\n",
    "    metashort = pd.read_csv(part2_outputFolder + \"/metashortLW_\" + sub + \".CWA.RData.csv\", index_col=1)\n",
    "    metashort.index = pd.to_datetime(metashort.index).tz_localize(None)\n",
    "    anglez = metashort.drop(columns=[\"Unnamed: 0\", \"ENMO\"])\n",
    "\n",
    "    SIB[sub][\"sub_ID\"] = sub\n",
    "    bursts_lw[sub][\"sub_ID\"] = sub\n",
    "    bursts_rw[sub][\"sub_ID\"] = sub\n",
    "    bursts_ll[sub][\"sub_ID\"] = sub\n",
    "    bursts_rl[sub][\"sub_ID\"] = sub\n",
    "    bursts_trunk[sub][\"sub_ID\"] = sub\n",
    "    bursts_all_limbs[sub][\"sub_ID\"] = sub\n",
    "\n",
    "    # Find bursts that overlap with SIB\n",
    "    bursts_lw[sub][\"sib\"] = 0\n",
    "    for i, sib in SIB[sub].iterrows():\n",
    "        for j, burst in bursts_lw[sub].iterrows():\n",
    "            if burst[\"start\"] > sib[\"sib.onset.time\"] + pd.Timedelta('5s')  and burst[\"end\"] < sib[\"sib.end.time\"] - pd.Timedelta('5s'):\n",
    "                bursts_lw[sub].at[j, \"sib\"] = 1\n",
    "    bursts_rw[sub][\"sib\"] = 0\n",
    "    for i, sib in SIB[sub].iterrows():\n",
    "        for j, burst in bursts_rw[sub].iterrows():\n",
    "            if burst[\"start\"] > sib[\"sib.onset.time\"] + pd.Timedelta('5s')  and burst[\"end\"] < sib[\"sib.end.time\"] - pd.Timedelta('5s'):\n",
    "                bursts_rw[sub].at[j, \"sib\"] = 1\n",
    "    bursts_ll[sub][\"sib\"] = 0\n",
    "    for i, sib in SIB[sub].iterrows():\n",
    "        for j, burst in bursts_ll[sub].iterrows():\n",
    "            if burst[\"start\"] > sib[\"sib.onset.time\"] + pd.Timedelta('5s')  and burst[\"end\"] < sib[\"sib.end.time\"] - pd.Timedelta('5s'):\n",
    "                bursts_ll[sub].at[j, \"sib\"] = 1\n",
    "    bursts_rl[sub][\"sib\"] = 0\n",
    "    for i, sib in SIB[sub].iterrows():\n",
    "        for j, burst in bursts_rl[sub].iterrows():\n",
    "            if burst[\"start\"] > sib[\"sib.onset.time\"] + pd.Timedelta('5s')  and burst[\"end\"] < sib[\"sib.end.time\"] - pd.Timedelta('5s'):\n",
    "                bursts_rl[sub].at[j, \"sib\"] = 1\n",
    "    bursts_trunk[sub][\"sib\"] = 0\n",
    "    for i, sib in SIB[sub].iterrows():\n",
    "        for j, burst in bursts_trunk[sub].iterrows():\n",
    "            if burst[\"start\"] > sib[\"sib.onset.time\"] + pd.Timedelta('5s')  and burst[\"end\"] < sib[\"sib.end.time\"] - pd.Timedelta('5s'):\n",
    "                bursts_trunk[sub].at[j, \"sib\"] = 1\n",
    "    bursts_all_limbs[sub][\"sib\"] = 0\n",
    "    for i, sib in SIB[sub].iterrows():\n",
    "        for j, burst in bursts_all_limbs[sub].iterrows():\n",
    "            if burst[\"start\"] > sib[\"sib.onset.time\"] + pd.Timedelta('5s')  and burst[\"end\"] < sib[\"sib.end.time\"] - pd.Timedelta('5s'):\n",
    "                bursts_all_limbs[sub].at[j, \"sib\"] = 1"
   ]
  },
  {
   "cell_type": "markdown",
   "metadata": {},
   "source": [
    "## EDA - Single limbs but burst may happen together"
   ]
  },
  {
   "cell_type": "markdown",
   "metadata": {},
   "source": [
    "SIB contains the SIB for all subjects (start time, end time and duration). Obviously, it contains also the AWAKE periods (total of n-1 events). "
   ]
  },
  {
   "cell_type": "code",
   "execution_count": 6,
   "metadata": {},
   "outputs": [],
   "source": [
    "# One DataFrame for all subjects\n",
    "SIB_all = pd.concat(SIB.values(), ignore_index=True)\n",
    "SIB_all[\"awake.duration.seconds\"] = SIB_all[\"awake.duration\"].dt.total_seconds()\n",
    "SIB_all[\"sib.duration.seconds\"] = SIB_all[\"sib.duration\"].dt.total_seconds()\n",
    "SIB_all[\"sib.duration.minutes\"] = SIB_all[\"sib.duration\"].dt.total_seconds() / 60\n",
    "SIB_all[\"awake.duration.minutes\"] = SIB_all[\"awake.duration\"].dt.total_seconds() / 60"
   ]
  },
  {
   "cell_type": "markdown",
   "metadata": {},
   "source": [
    "Duration of awake periods between SIB"
   ]
  },
  {
   "cell_type": "code",
   "execution_count": 7,
   "metadata": {},
   "outputs": [
    {
     "data": {
      "text/plain": [
       "Text(0.5, 1.0, 'Awake periods between SIB during Time In Bed')"
      ]
     },
     "execution_count": 7,
     "metadata": {},
     "output_type": "execute_result"
    }
   ],
   "source": [
    "# Plot the number of awake periods between SIB\n",
    "sns.set_context(\"talk\")\n",
    "\n",
    "plt.figure()\n",
    "sns.stripplot(data=SIB_all, x=\"sub_ID\", y=\"awake.duration.minutes\", jitter=0.2, alpha = 0.5, color = \"blue\")\n",
    "sns.boxplot(data=SIB_all, x=\"sub_ID\", y=\"awake.duration.minutes\", showfliers=False, color = \"y\")\n",
    "plt.ylabel(\"Awake duration (minutes)\")\n",
    "\n",
    "plt.title(\"Awake periods between SIB during Time In Bed\")"
   ]
  },
  {
   "cell_type": "markdown",
   "metadata": {},
   "source": [
    "Duration of SIB"
   ]
  },
  {
   "cell_type": "code",
   "execution_count": 8,
   "metadata": {},
   "outputs": [
    {
     "data": {
      "text/plain": [
       "Text(0.5, 1.0, 'SIB during Time In Bed')"
      ]
     },
     "execution_count": 8,
     "metadata": {},
     "output_type": "execute_result"
    }
   ],
   "source": [
    "# Plot the number of SIB\n",
    "sns.set_context(\"talk\")\n",
    "\n",
    "plt.figure()\n",
    "sns.stripplot(data=SIB_all, x=\"sub_ID\", y=\"sib.duration.minutes\", jitter=0.2, alpha = 0.5, color = \"blue\")\n",
    "sns.boxplot(data=SIB_all, x=\"sub_ID\", y=\"sib.duration.minutes\", showfliers=False, color = \"pink\")\n",
    "plt.ylabel(\"SIB duration (minutes)\")\n",
    "\n",
    "plt.title(\"SIB during Time In Bed\")"
   ]
  },
  {
   "cell_type": "markdown",
   "metadata": {},
   "source": [
    "Get a burst DataFrame for all subjects for each limb"
   ]
  },
  {
   "cell_type": "code",
   "execution_count": 9,
   "metadata": {},
   "outputs": [],
   "source": [
    "bursts_lw_allSub = pd.concat(bursts_lw.values(), ignore_index=True)\n",
    "bursts_lw_allSub[\"duration_seconds\"] = bursts_lw_allSub[\"duration\"].dt.total_seconds()\n",
    "bursts_rw_allSub = pd.concat(bursts_rw.values(), ignore_index=True)\n",
    "bursts_rw_allSub[\"duration_seconds\"] = bursts_rw_allSub[\"duration\"].dt.total_seconds()\n",
    "bursts_ll_allSub = pd.concat(bursts_ll.values(), ignore_index=True)\n",
    "bursts_ll_allSub[\"duration_seconds\"] = bursts_ll_allSub[\"duration\"].dt.total_seconds()\n",
    "bursts_rl_allSub = pd.concat(bursts_rl.values(), ignore_index=True)\n",
    "bursts_rl_allSub[\"duration_seconds\"] = bursts_rl_allSub[\"duration\"].dt.total_seconds()\n",
    "bursts_trunk_allSub = pd.concat(bursts_trunk.values(), ignore_index=True)\n",
    "bursts_trunk_allSub[\"duration_seconds\"] = bursts_trunk_allSub[\"duration\"].dt.total_seconds()"
   ]
  },
  {
   "cell_type": "markdown",
   "metadata": {},
   "source": [
    "Number of bursts happening during sleep (SIB) and during wake"
   ]
  },
  {
   "cell_type": "code",
   "execution_count": 10,
   "metadata": {},
   "outputs": [],
   "source": [
    "burst_count_lw = bursts_lw_allSub[\"sib\"].groupby(bursts_lw_allSub[\"sub_ID\"]).value_counts().unstack()\n",
    "burst_count_rw = bursts_rw_allSub[\"sib\"].groupby(bursts_rw_allSub[\"sub_ID\"]).value_counts().unstack()\n",
    "burst_count_ll = bursts_ll_allSub[\"sib\"].groupby(bursts_ll_allSub[\"sub_ID\"]).value_counts().unstack()\n",
    "burst_count_rl = bursts_rl_allSub[\"sib\"].groupby(bursts_rl_allSub[\"sub_ID\"]).value_counts().unstack()\n",
    "burst_count_trunk = bursts_trunk_allSub[\"sib\"].groupby(bursts_trunk_allSub[\"sub_ID\"]).value_counts().unstack()\n",
    "\n",
    "sns.set_context(\"talk\")\n",
    "\n",
    "# Bar plot\n",
    "plt.figure(figsize = (15, 12))\n",
    "plt.subplot(3, 2, 1)\n",
    "burst_count_lw.plot(kind='bar', color = ['blue', 'red'], ax = plt.gca())\n",
    "plt.legend([])\n",
    "plt.ylabel(\"N of bursts\")\n",
    "plt.xticks(rotation = 19)\n",
    "plt.subplot(3, 2, 2)\n",
    "burst_count_rw.plot(kind='bar', color = ['blue', 'red'], ax = plt.gca())\n",
    "plt.legend([])\n",
    "plt.ylabel(\"N of bursts\")\n",
    "plt.xticks(rotation = 19)\n",
    "plt.subplot(3, 2, 3)\n",
    "burst_count_ll.plot(kind='bar', color = ['blue', 'red'], ax = plt.gca())\n",
    "plt.legend([])\n",
    "plt.ylabel(\"N of bursts\")\n",
    "plt.xticks(rotation = 19)\n",
    "plt.subplot(3, 2, 4)\n",
    "burst_count_rl.plot(kind='bar', color = ['blue', 'red'], ax = plt.gca())\n",
    "plt.legend([])\n",
    "plt.ylabel(\"N of bursts\")\n",
    "plt.xticks(rotation = 19)\n",
    "plt.subplot(3, 2, 5)\n",
    "burst_count_trunk.plot(kind='bar', color = ['blue', 'red'], ax = plt.gca())\n",
    "plt.ylabel(\"N of bursts\")\n",
    "plt.xticks(rotation = 19)\n",
    "\n",
    "from matplotlib.patches import Patch\n",
    "\n",
    "custom_patches = [Patch(facecolor=\"b\"),\n",
    "                Patch(facecolor=\"r\")]\n",
    "\n",
    "plt.legend(custom_patches, [\"Awake\", \"Asleep\"], loc = 'best', fontsize = 19, frameon = True, fancybox = True, shadow = True)\n",
    "plt.ylabel(\"Number of bursts\")\n",
    "plt.xticks(rotation = 19)\n",
    "plt.suptitle(\"Number of bursts during SIB and Awake Periods\")\n",
    "plt.tight_layout()\n"
   ]
  },
  {
   "cell_type": "markdown",
   "metadata": {},
   "source": [
    "Posture changes (at least 30°) happening during sleep and during wake"
   ]
  },
  {
   "cell_type": "code",
   "execution_count": 13,
   "metadata": {},
   "outputs": [
    {
     "data": {
      "text/plain": [
       "Text(0.5, 1.0, 'Posture changes during SIB and Awake Periods')"
      ]
     },
     "execution_count": 13,
     "metadata": {},
     "output_type": "execute_result"
    }
   ],
   "source": [
    "# Posture changes\n",
    "\n",
    "bursts_lw_posture_changes = bursts_lw_allSub[bursts_lw_allSub[\"posture_change\"] > 30]\n",
    "\n",
    "bursts_posture_changes_counts = bursts_lw_posture_changes[\"sib\"].groupby(bursts_lw_allSub[\"sub_ID\"]).value_counts().unstack()\n",
    "\n",
    "plt.figure()\n",
    "bursts_posture_changes_counts.plot(kind='bar', color = ['blue', 'red'])\n",
    "from matplotlib.patches import Patch\n",
    "\n",
    "custom_patches = [Patch(facecolor=\"b\"),\n",
    "                Patch(facecolor=\"r\")]\n",
    "\n",
    "plt.legend(custom_patches, [\"Awake\", \"Asleep\"], loc = 'best', fontsize = 19, frameon = True, fancybox = True, shadow = True)\n",
    "plt.ylabel(\"Number of posture changes\")\n",
    "plt.xticks(rotation = 19)\n",
    "plt.title(\"Posture changes during SIB and Awake Periods\")"
   ]
  },
  {
   "cell_type": "markdown",
   "metadata": {},
   "source": [
    "Burst entity (AUC) during sleep and during wake "
   ]
  },
  {
   "cell_type": "code",
   "execution_count": 11,
   "metadata": {},
   "outputs": [],
   "source": [
    "import seaborn as sns\n",
    "sns.set_context('talk')\n",
    "\n",
    "# Set up the matplotlib figure\n",
    "plt.figure(figsize=(19, 12))\n",
    "\n",
    "# Boxplot for AUC\n",
    "plt.subplot(3, 2, 1)\n",
    "ax1 = sns.boxplot(x='sib', y='AUC', data=bursts_lw_allSub, hue = \"sub_ID\", showfliers=False)\n",
    "plt.title('LW')\n",
    "plt.ylabel('Movement Intensity (AUC)')\n",
    "plt.xlabel(None)\n",
    "ax1.legend_.remove()\n",
    "plt.xticks([0, 1], ['Awake', 'Asleep'])\n",
    "\n",
    "plt.subplot(3, 2, 2)\n",
    "ax2 = sns.boxplot(x='sib', y='AUC', data=bursts_rw_allSub, hue = \"sub_ID\", showfliers=False)\n",
    "plt.title('RW')\n",
    "plt.ylabel(None)\n",
    "plt.xlabel(None)\n",
    "ax2.legend_.remove()\n",
    "plt.xticks([0, 1], ['Awake', 'Asleep'])\n",
    "\n",
    "plt.subplot(3, 2, 3)\n",
    "ax3 = sns.boxplot(x='sib', y='AUC', data=bursts_ll_allSub, hue = \"sub_ID\", showfliers=False)\n",
    "plt.title('LL')\n",
    "plt.ylabel(None)\n",
    "plt.xlabel(None)\n",
    "ax3.legend_.remove()\n",
    "plt.xticks([0, 1], ['Awake', 'Asleep'])\n",
    "\n",
    "plt.subplot(3, 2, 4)\n",
    "ax4 = sns.boxplot(x='sib', y='AUC', data=bursts_rl_allSub, hue = \"sub_ID\", showfliers=False)\n",
    "plt.title('RL')\n",
    "plt.ylabel(None)\n",
    "plt.xlabel(None)\n",
    "ax4.legend_.remove()\n",
    "plt.xticks([0, 1], ['Awake', 'Asleep'])\n",
    "handles, labels = [], []\n",
    "\n",
    "for handle, label in zip(*ax4.get_legend_handles_labels()):\n",
    "    if label not in labels:\n",
    "        handles.append(handle)\n",
    "        labels.append(label)\n",
    "\n",
    "plt.legend(handles, labels, loc='lower right', frameon=True, fancybox=True, shadow=True, bbox_to_anchor=(0.8, -1.1), ncol=3, fontsize = 18)\n",
    "\n",
    "plt.subplot(3, 2, 5)\n",
    "ax5 = sns.boxplot(x='sib', y='AUC', data=bursts_trunk_allSub, hue = \"sub_ID\", showfliers=False)\n",
    "plt.title('Trunk')\n",
    "plt.ylabel(None)\n",
    "plt.xlabel(None)\n",
    "ax5.legend_.remove()\n",
    "plt.xticks([0, 1], ['Awake', 'Asleep'])\n",
    "\n",
    "plt.show()"
   ]
  },
  {
   "cell_type": "markdown",
   "metadata": {},
   "source": [
    "## EDA - Bursts happening in all limbs together"
   ]
  },
  {
   "cell_type": "markdown",
   "metadata": {},
   "source": [
    "Merge the bursts of all subjects into one DataFrame"
   ]
  },
  {
   "cell_type": "code",
   "execution_count": 28,
   "metadata": {},
   "outputs": [],
   "source": [
    "bursts_all_limbs_allSub = pd.concat(bursts_all_limbs.values(), ignore_index=True)"
   ]
  },
  {
   "cell_type": "markdown",
   "metadata": {},
   "source": [
    "Number of bursts happening during sleep (SIB) and during wake"
   ]
  },
  {
   "cell_type": "code",
   "execution_count": 54,
   "metadata": {},
   "outputs": [],
   "source": [
    "burst_count = bursts_all_limbs_allSub[\"sib\"].groupby(bursts_all_limbs_allSub[\"sub_ID\"]).value_counts().unstack()\n",
    "sns.set_context(\"talk\")\n",
    "\n",
    "# Bar plot\n",
    "plt.figure(figsize = (15, 12))\n",
    "burst_count.plot(kind='bar', color = ['blue', 'red'], ax = plt.gca())\n",
    "plt.legend([])\n",
    "plt.ylabel(\"N of bursts\")\n",
    "plt.xticks(rotation = 19)\n",
    "\n",
    "from matplotlib.patches import Patch\n",
    "\n",
    "custom_patches = [Patch(facecolor=\"b\"),\n",
    "                Patch(facecolor=\"r\")]\n",
    "\n",
    "plt.legend(custom_patches, [\"Awake\", \"Asleep\"], loc = 'best', fontsize = 24, frameon = True, fancybox = True, shadow = True)\n",
    "plt.ylabel(\"Number of bursts\")\n",
    "plt.xticks(rotation = 19)\n",
    "plt.suptitle(\"Number of bursts during SIB and Awake Periods\")\n",
    "plt.tight_layout()"
   ]
  },
  {
   "cell_type": "markdown",
   "metadata": {},
   "source": [
    "Burst entity (AUC) during sleep and during wake "
   ]
  },
  {
   "cell_type": "code",
   "execution_count": 40,
   "metadata": {},
   "outputs": [
    {
     "data": {
      "text/plain": [
       "<matplotlib.legend.Legend at 0x7fdf981bbe50>"
      ]
     },
     "execution_count": 40,
     "metadata": {},
     "output_type": "execute_result"
    }
   ],
   "source": [
    "import seaborn as sns\n",
    "sns.set_context('talk')\n",
    "\n",
    "# Set up the matplotlib figure\n",
    "plt.figure(figsize=(19, 12))\n",
    "\n",
    "# Boxplot for AUC\n",
    "ax1 = sns.boxplot(x='sib', y='AUC', data=bursts_all_limbs_allSub, hue = \"sub_ID\", showfliers=False)\n",
    "plt.title('Movement Entity during sleep and wake')\n",
    "plt.ylabel('Burst Entity (AUC)')\n",
    "plt.xlabel(None)\n",
    "ax1.legend_.remove()\n",
    "plt.xticks([0, 1], ['Awake', 'Asleep'])\n",
    "\n",
    "handles, labels = [], []\n",
    "\n",
    "for handle, label in zip(*ax4.get_legend_handles_labels()):\n",
    "    if label not in labels:\n",
    "        handles.append(handle)\n",
    "        labels.append(label)\n",
    "\n",
    "plt.legend(handles, labels, loc='upper right', frameon=True, fancybox=True, shadow=True, ncol=3, fontsize = 21)"
   ]
  },
  {
   "cell_type": "markdown",
   "metadata": {},
   "source": [
    "Percentiles of AUC"
   ]
  },
  {
   "cell_type": "code",
   "execution_count": 51,
   "metadata": {},
   "outputs": [
    {
     "data": {
      "text/html": [
       "<div>\n",
       "<style scoped>\n",
       "    .dataframe tbody tr th:only-of-type {\n",
       "        vertical-align: middle;\n",
       "    }\n",
       "\n",
       "    .dataframe tbody tr th {\n",
       "        vertical-align: top;\n",
       "    }\n",
       "\n",
       "    .dataframe thead tr th {\n",
       "        text-align: left;\n",
       "    }\n",
       "\n",
       "    .dataframe thead tr:last-of-type th {\n",
       "        text-align: right;\n",
       "    }\n",
       "</style>\n",
       "<table border=\"1\" class=\"dataframe\">\n",
       "  <thead>\n",
       "    <tr>\n",
       "      <th></th>\n",
       "      <th colspan=\"2\" halign=\"left\">count</th>\n",
       "      <th colspan=\"2\" halign=\"left\">mean</th>\n",
       "      <th colspan=\"2\" halign=\"left\">std</th>\n",
       "      <th colspan=\"2\" halign=\"left\">min</th>\n",
       "      <th colspan=\"2\" halign=\"left\">25%</th>\n",
       "      <th colspan=\"2\" halign=\"left\">50%</th>\n",
       "      <th colspan=\"2\" halign=\"left\">75%</th>\n",
       "      <th colspan=\"2\" halign=\"left\">max</th>\n",
       "    </tr>\n",
       "    <tr>\n",
       "      <th>sib</th>\n",
       "      <th>0</th>\n",
       "      <th>1</th>\n",
       "      <th>0</th>\n",
       "      <th>1</th>\n",
       "      <th>0</th>\n",
       "      <th>1</th>\n",
       "      <th>0</th>\n",
       "      <th>1</th>\n",
       "      <th>0</th>\n",
       "      <th>1</th>\n",
       "      <th>0</th>\n",
       "      <th>1</th>\n",
       "      <th>0</th>\n",
       "      <th>1</th>\n",
       "      <th>0</th>\n",
       "      <th>1</th>\n",
       "    </tr>\n",
       "    <tr>\n",
       "      <th>sub_ID</th>\n",
       "      <th></th>\n",
       "      <th></th>\n",
       "      <th></th>\n",
       "      <th></th>\n",
       "      <th></th>\n",
       "      <th></th>\n",
       "      <th></th>\n",
       "      <th></th>\n",
       "      <th></th>\n",
       "      <th></th>\n",
       "      <th></th>\n",
       "      <th></th>\n",
       "      <th></th>\n",
       "      <th></th>\n",
       "      <th></th>\n",
       "      <th></th>\n",
       "    </tr>\n",
       "  </thead>\n",
       "  <tbody>\n",
       "    <tr>\n",
       "      <th>098</th>\n",
       "      <td>44.0</td>\n",
       "      <td>20.0</td>\n",
       "      <td>6.653740</td>\n",
       "      <td>0.554661</td>\n",
       "      <td>7.152739</td>\n",
       "      <td>0.848130</td>\n",
       "      <td>0.087940</td>\n",
       "      <td>0.036440</td>\n",
       "      <td>1.604838</td>\n",
       "      <td>0.108695</td>\n",
       "      <td>4.312882</td>\n",
       "      <td>0.219282</td>\n",
       "      <td>10.196166</td>\n",
       "      <td>0.457148</td>\n",
       "      <td>32.016583</td>\n",
       "      <td>3.147857</td>\n",
       "    </tr>\n",
       "    <tr>\n",
       "      <th>158</th>\n",
       "      <td>63.0</td>\n",
       "      <td>44.0</td>\n",
       "      <td>5.404391</td>\n",
       "      <td>0.821867</td>\n",
       "      <td>8.144159</td>\n",
       "      <td>1.343849</td>\n",
       "      <td>0.072168</td>\n",
       "      <td>0.020699</td>\n",
       "      <td>0.750197</td>\n",
       "      <td>0.110019</td>\n",
       "      <td>2.458432</td>\n",
       "      <td>0.337410</td>\n",
       "      <td>5.977207</td>\n",
       "      <td>0.837377</td>\n",
       "      <td>41.595520</td>\n",
       "      <td>7.972749</td>\n",
       "    </tr>\n",
       "    <tr>\n",
       "      <th>279</th>\n",
       "      <td>18.0</td>\n",
       "      <td>19.0</td>\n",
       "      <td>7.570457</td>\n",
       "      <td>0.521787</td>\n",
       "      <td>9.849087</td>\n",
       "      <td>0.470343</td>\n",
       "      <td>0.196278</td>\n",
       "      <td>0.022541</td>\n",
       "      <td>0.694789</td>\n",
       "      <td>0.096528</td>\n",
       "      <td>3.636635</td>\n",
       "      <td>0.410731</td>\n",
       "      <td>7.723017</td>\n",
       "      <td>0.864023</td>\n",
       "      <td>36.922621</td>\n",
       "      <td>1.393919</td>\n",
       "    </tr>\n",
       "    <tr>\n",
       "      <th>547</th>\n",
       "      <td>58.0</td>\n",
       "      <td>27.0</td>\n",
       "      <td>6.906781</td>\n",
       "      <td>0.394636</td>\n",
       "      <td>7.425048</td>\n",
       "      <td>0.554090</td>\n",
       "      <td>0.066033</td>\n",
       "      <td>0.016537</td>\n",
       "      <td>1.720327</td>\n",
       "      <td>0.072404</td>\n",
       "      <td>4.881188</td>\n",
       "      <td>0.143086</td>\n",
       "      <td>8.241737</td>\n",
       "      <td>0.361535</td>\n",
       "      <td>35.248337</td>\n",
       "      <td>1.977761</td>\n",
       "    </tr>\n",
       "    <tr>\n",
       "      <th>633</th>\n",
       "      <td>138.0</td>\n",
       "      <td>67.0</td>\n",
       "      <td>3.676741</td>\n",
       "      <td>0.538104</td>\n",
       "      <td>4.664902</td>\n",
       "      <td>1.051418</td>\n",
       "      <td>0.033980</td>\n",
       "      <td>0.016485</td>\n",
       "      <td>0.157714</td>\n",
       "      <td>0.063113</td>\n",
       "      <td>1.679356</td>\n",
       "      <td>0.142984</td>\n",
       "      <td>6.151888</td>\n",
       "      <td>0.300768</td>\n",
       "      <td>23.853609</td>\n",
       "      <td>5.364481</td>\n",
       "    </tr>\n",
       "    <tr>\n",
       "      <th>815</th>\n",
       "      <td>143.0</td>\n",
       "      <td>110.0</td>\n",
       "      <td>4.272575</td>\n",
       "      <td>0.653986</td>\n",
       "      <td>9.421159</td>\n",
       "      <td>1.212396</td>\n",
       "      <td>0.028514</td>\n",
       "      <td>0.022363</td>\n",
       "      <td>0.559285</td>\n",
       "      <td>0.100003</td>\n",
       "      <td>2.218856</td>\n",
       "      <td>0.207835</td>\n",
       "      <td>4.148149</td>\n",
       "      <td>0.451871</td>\n",
       "      <td>90.555946</td>\n",
       "      <td>8.442378</td>\n",
       "    </tr>\n",
       "    <tr>\n",
       "      <th>906</th>\n",
       "      <td>39.0</td>\n",
       "      <td>46.0</td>\n",
       "      <td>3.971676</td>\n",
       "      <td>0.928337</td>\n",
       "      <td>5.091755</td>\n",
       "      <td>1.849077</td>\n",
       "      <td>0.049147</td>\n",
       "      <td>0.020909</td>\n",
       "      <td>0.668581</td>\n",
       "      <td>0.075129</td>\n",
       "      <td>2.010235</td>\n",
       "      <td>0.154564</td>\n",
       "      <td>6.129994</td>\n",
       "      <td>0.656902</td>\n",
       "      <td>26.160641</td>\n",
       "      <td>8.204787</td>\n",
       "    </tr>\n",
       "    <tr>\n",
       "      <th>958</th>\n",
       "      <td>53.0</td>\n",
       "      <td>32.0</td>\n",
       "      <td>4.028301</td>\n",
       "      <td>0.853181</td>\n",
       "      <td>3.692125</td>\n",
       "      <td>1.447341</td>\n",
       "      <td>0.189213</td>\n",
       "      <td>0.024885</td>\n",
       "      <td>1.214208</td>\n",
       "      <td>0.074233</td>\n",
       "      <td>2.471979</td>\n",
       "      <td>0.153863</td>\n",
       "      <td>5.849173</td>\n",
       "      <td>1.093352</td>\n",
       "      <td>16.743444</td>\n",
       "      <td>6.185938</td>\n",
       "    </tr>\n",
       "    <tr>\n",
       "      <th>971</th>\n",
       "      <td>47.0</td>\n",
       "      <td>30.0</td>\n",
       "      <td>3.183710</td>\n",
       "      <td>0.342831</td>\n",
       "      <td>3.814307</td>\n",
       "      <td>0.479453</td>\n",
       "      <td>0.050280</td>\n",
       "      <td>0.024210</td>\n",
       "      <td>0.616137</td>\n",
       "      <td>0.087828</td>\n",
       "      <td>1.755934</td>\n",
       "      <td>0.160333</td>\n",
       "      <td>3.753643</td>\n",
       "      <td>0.359952</td>\n",
       "      <td>14.629342</td>\n",
       "      <td>2.113501</td>\n",
       "    </tr>\n",
       "  </tbody>\n",
       "</table>\n",
       "</div>"
      ],
      "text/plain": [
       "        count             mean                 std                 min  \\\n",
       "sib         0      1         0         1         0         1         0   \n",
       "sub_ID                                                                   \n",
       "098      44.0   20.0  6.653740  0.554661  7.152739  0.848130  0.087940   \n",
       "158      63.0   44.0  5.404391  0.821867  8.144159  1.343849  0.072168   \n",
       "279      18.0   19.0  7.570457  0.521787  9.849087  0.470343  0.196278   \n",
       "547      58.0   27.0  6.906781  0.394636  7.425048  0.554090  0.066033   \n",
       "633     138.0   67.0  3.676741  0.538104  4.664902  1.051418  0.033980   \n",
       "815     143.0  110.0  4.272575  0.653986  9.421159  1.212396  0.028514   \n",
       "906      39.0   46.0  3.971676  0.928337  5.091755  1.849077  0.049147   \n",
       "958      53.0   32.0  4.028301  0.853181  3.692125  1.447341  0.189213   \n",
       "971      47.0   30.0  3.183710  0.342831  3.814307  0.479453  0.050280   \n",
       "\n",
       "                       25%                 50%                  75%            \\\n",
       "sib            1         0         1         0         1          0         1   \n",
       "sub_ID                                                                          \n",
       "098     0.036440  1.604838  0.108695  4.312882  0.219282  10.196166  0.457148   \n",
       "158     0.020699  0.750197  0.110019  2.458432  0.337410   5.977207  0.837377   \n",
       "279     0.022541  0.694789  0.096528  3.636635  0.410731   7.723017  0.864023   \n",
       "547     0.016537  1.720327  0.072404  4.881188  0.143086   8.241737  0.361535   \n",
       "633     0.016485  0.157714  0.063113  1.679356  0.142984   6.151888  0.300768   \n",
       "815     0.022363  0.559285  0.100003  2.218856  0.207835   4.148149  0.451871   \n",
       "906     0.020909  0.668581  0.075129  2.010235  0.154564   6.129994  0.656902   \n",
       "958     0.024885  1.214208  0.074233  2.471979  0.153863   5.849173  1.093352   \n",
       "971     0.024210  0.616137  0.087828  1.755934  0.160333   3.753643  0.359952   \n",
       "\n",
       "              max            \n",
       "sib             0         1  \n",
       "sub_ID                       \n",
       "098     32.016583  3.147857  \n",
       "158     41.595520  7.972749  \n",
       "279     36.922621  1.393919  \n",
       "547     35.248337  1.977761  \n",
       "633     23.853609  5.364481  \n",
       "815     90.555946  8.442378  \n",
       "906     26.160641  8.204787  \n",
       "958     16.743444  6.185938  \n",
       "971     14.629342  2.113501  "
      ]
     },
     "execution_count": 51,
     "metadata": {},
     "output_type": "execute_result"
    }
   ],
   "source": [
    "burst_describe = bursts_all_limbs_allSub.groupby([\"sub_ID\", \"sib\"])[\"AUC\"].describe().unstack()\n",
    "burst_describe"
   ]
  },
  {
   "cell_type": "code",
   "execution_count": 89,
   "metadata": {},
   "outputs": [
    {
     "data": {
      "text/plain": [
       "sub_ID\n",
       "098    3.147857\n",
       "158    7.972749\n",
       "279    1.393919\n",
       "547    1.977761\n",
       "633    5.364481\n",
       "815    8.442378\n",
       "906    8.204787\n",
       "958    6.185938\n",
       "971    2.113501\n",
       "Name: 1, dtype: float64"
      ]
     },
     "execution_count": 89,
     "metadata": {},
     "output_type": "execute_result"
    }
   ],
   "source": [
    "# Are there awake burts with less or equal entity than the maximum asleep burst?\n",
    "\n",
    "max_sleep_burst_AUC = burst_describe[\"max\"][1] # 1 sleep, 0 awake\n",
    "max_sleep_burst_AUC"
   ]
  },
  {
   "cell_type": "code",
   "execution_count": 93,
   "metadata": {},
   "outputs": [],
   "source": [
    "burst_awake_low_AUC = {sub: 0 for sub in subjects}\n",
    "for i, sub in enumerate(subjects):\n",
    "    bursts_awake = bursts_all_limbs[sub][bursts_all_limbs[sub][\"sib\"] == 0]\n",
    "\n",
    "    # Find bursts with less or equal entity than the maximum asleep burst\n",
    "    burst_awake_low_AUC[sub] = bursts_awake[bursts_awake[\"AUC\"] <= max_sleep_burst_AUC[sub]]\n",
    "\n",
    "# One DataFrame for all subjects\n",
    "bursts_awake_low_AUC_all = pd.concat(burst_awake_low_AUC.values(), ignore_index=True)"
   ]
  },
  {
   "cell_type": "code",
   "execution_count": 94,
   "metadata": {},
   "outputs": [
    {
     "data": {
      "text/plain": [
       "<Axes: xlabel='sub_ID', ylabel='AUC'>"
      ]
     },
     "execution_count": 94,
     "metadata": {},
     "output_type": "execute_result"
    }
   ],
   "source": [
    "plt.figure()\n",
    "sns.boxplot(x='sub_ID', y='AUC', data=bursts_awake_low_AUC_all, showfliers=False)\n",
    "\n",
    "plt.figure()\n",
    "ax1 = sns.boxplot(x='sib', y='AUC', data=bursts_all_limbs_allSub[bursts_all_limbs_allSub[\"sib\"] == 0], hue = \"sub_ID\", showfliers=False)"
   ]
  },
  {
   "cell_type": "code",
   "execution_count": null,
   "metadata": {},
   "outputs": [],
   "source": []
  }
 ],
 "metadata": {
  "kernelspec": {
   "display_name": "base",
   "language": "python",
   "name": "python3"
  },
  "language_info": {
   "codemirror_mode": {
    "name": "ipython",
    "version": 3
   },
   "file_extension": ".py",
   "mimetype": "text/x-python",
   "name": "python",
   "nbconvert_exporter": "python",
   "pygments_lexer": "ipython3",
   "version": "3.10.13"
  }
 },
 "nbformat": 4,
 "nbformat_minor": 2
}
