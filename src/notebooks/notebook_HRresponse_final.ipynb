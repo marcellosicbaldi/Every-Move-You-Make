{
 "cells": [
  {
   "cell_type": "code",
   "execution_count": 11,
   "metadata": {},
   "outputs": [],
   "source": [
    "import numpy as np\n",
    "import pandas as pd\n",
    "import matplotlib as mpl\n",
    "import matplotlib.pyplot as plt\n",
    "\n",
    "import pickle\n",
    "\n",
    "import neurokit2 as nk\n",
    "\n",
    "import seaborn as sns\n",
    "\n",
    "%matplotlib qt\n",
    "mpl.rcParams['lines.linewidth'] = 0.91\n",
    "plt.style.use('ggplot')\n",
    "plt.style.use('seaborn-v0_8-whitegrid')"
   ]
  },
  {
   "cell_type": "code",
   "execution_count": 12,
   "metadata": {},
   "outputs": [],
   "source": [
    "import matplotlib.ticker as mtick"
   ]
  },
  {
   "cell_type": "code",
   "execution_count": 13,
   "metadata": {},
   "outputs": [],
   "source": [
    "sns.set_context(\"talk\")\n",
    "sns.set_palette(\"Set2\")"
   ]
  },
  {
   "cell_type": "code",
   "execution_count": 14,
   "metadata": {},
   "outputs": [],
   "source": [
    "subjects = [\"158\", \"098\", \"633\", \"279\", \"906\", \"547\", \"971\", \"958\", \"815\"]"
   ]
  },
  {
   "cell_type": "code",
   "execution_count": 24,
   "metadata": {},
   "outputs": [
    {
     "name": "stdout",
     "output_type": "stream",
     "text": [
      "(835, 14)\n"
     ]
    },
    {
     "data": {
      "text/html": [
       "<div>\n",
       "<style scoped>\n",
       "    .dataframe tbody tr th:only-of-type {\n",
       "        vertical-align: middle;\n",
       "    }\n",
       "\n",
       "    .dataframe tbody tr th {\n",
       "        vertical-align: top;\n",
       "    }\n",
       "\n",
       "    .dataframe thead th {\n",
       "        text-align: right;\n",
       "    }\n",
       "</style>\n",
       "<table border=\"1\" class=\"dataframe\">\n",
       "  <thead>\n",
       "    <tr style=\"text-align: right;\">\n",
       "      <th></th>\n",
       "      <th>Start</th>\n",
       "      <th>End</th>\n",
       "      <th>AUC</th>\n",
       "      <th>PC</th>\n",
       "      <th>transition</th>\n",
       "      <th>Limbs</th>\n",
       "      <th>SIB</th>\n",
       "      <th>sub_ID</th>\n",
       "      <th>ACC_response</th>\n",
       "      <th>HR_response</th>\n",
       "      <th>HR_response_normalized</th>\n",
       "      <th>HR_baseline</th>\n",
       "      <th>HR_peak</th>\n",
       "      <th>HR_peak_latency</th>\n",
       "    </tr>\n",
       "  </thead>\n",
       "  <tbody>\n",
       "    <tr>\n",
       "      <th>0</th>\n",
       "      <td>2024-02-28 23:02:28.765630007</td>\n",
       "      <td>2024-02-28 23:02:31.105629921</td>\n",
       "      <td>6.965556e+03</td>\n",
       "      <td>0.0</td>\n",
       "      <td>None</td>\n",
       "      <td>{LW, T}</td>\n",
       "      <td>1</td>\n",
       "      <td>158</td>\n",
       "      <td>None</td>\n",
       "      <td>[81.3763655605152, 79.31300702523212, 77.34783...</td>\n",
       "      <td>[2.9331696699604493, 0.32322226398649434, -2.1...</td>\n",
       "      <td>79.057476</td>\n",
       "      <td>2.933170</td>\n",
       "      <td>6.0</td>\n",
       "    </tr>\n",
       "    <tr>\n",
       "      <th>1</th>\n",
       "      <td>2024-02-28 23:03:30.215630054</td>\n",
       "      <td>2024-02-28 23:03:32.105629921</td>\n",
       "      <td>6.534732e+03</td>\n",
       "      <td>0.0</td>\n",
       "      <td>None</td>\n",
       "      <td>{LW, T}</td>\n",
       "      <td>1</td>\n",
       "      <td>158</td>\n",
       "      <td>[21.685460424790747, 28.13815298028861, 14.266...</td>\n",
       "      <td>[69.75336400943675, 75.84627452807841, 75.8488...</td>\n",
       "      <td>[-8.115480410659373, -0.08942799216255537, -0....</td>\n",
       "      <td>75.914163</td>\n",
       "      <td>3.951068</td>\n",
       "      <td>44.0</td>\n",
       "    </tr>\n",
       "    <tr>\n",
       "      <th>2</th>\n",
       "      <td>2024-02-28 23:08:15.275629997</td>\n",
       "      <td>2024-02-28 23:08:15.635629892</td>\n",
       "      <td>7.761742e+02</td>\n",
       "      <td>0.0</td>\n",
       "      <td>None</td>\n",
       "      <td>{LW}</td>\n",
       "      <td>1</td>\n",
       "      <td>158</td>\n",
       "      <td>[-20.92211175552717, -1.6028287851219574, 1.47...</td>\n",
       "      <td>[73.69902935823436, 78.12130225835978, 78.1519...</td>\n",
       "      <td>[1.685935815921141, 7.787548852055352, 7.82978...</td>\n",
       "      <td>72.477112</td>\n",
       "      <td>9.990368</td>\n",
       "      <td>28.0</td>\n",
       "    </tr>\n",
       "    <tr>\n",
       "      <th>3</th>\n",
       "      <td>2024-02-28 23:17:41.875629902</td>\n",
       "      <td>2024-02-28 23:17:42.445630074</td>\n",
       "      <td>1.330175e+03</td>\n",
       "      <td>0.0</td>\n",
       "      <td>None</td>\n",
       "      <td>{LW}</td>\n",
       "      <td>1</td>\n",
       "      <td>158</td>\n",
       "      <td>[-11.010669724082462, 13.495555903064954, 0.63...</td>\n",
       "      <td>[75.84328019638515, 78.12715965978558, 73.6972...</td>\n",
       "      <td>[1.36255449131464, 4.414899484319747, -1.50556...</td>\n",
       "      <td>74.823766</td>\n",
       "      <td>8.753980</td>\n",
       "      <td>7.0</td>\n",
       "    </tr>\n",
       "    <tr>\n",
       "      <th>4</th>\n",
       "      <td>2024-02-28 23:31:54.005630016</td>\n",
       "      <td>2024-02-28 23:32:11.155630112</td>\n",
       "      <td>1.179498e+06</td>\n",
       "      <td>0.0</td>\n",
       "      <td>None</td>\n",
       "      <td>{RW, T, LL, RL, LW}</td>\n",
       "      <td>1</td>\n",
       "      <td>158</td>\n",
       "      <td>[43.69190609430005, 14.230339833499826, 28.264...</td>\n",
       "      <td>[73.69810238588468, 72.33059595781911, 78.1514...</td>\n",
       "      <td>[-1.7699620455902618, -3.5926712332491917, 4.1...</td>\n",
       "      <td>75.026035</td>\n",
       "      <td>38.834153</td>\n",
       "      <td>20.0</td>\n",
       "    </tr>\n",
       "  </tbody>\n",
       "</table>\n",
       "</div>"
      ],
      "text/plain": [
       "                          Start                           End           AUC  \\\n",
       "0 2024-02-28 23:02:28.765630007 2024-02-28 23:02:31.105629921  6.965556e+03   \n",
       "1 2024-02-28 23:03:30.215630054 2024-02-28 23:03:32.105629921  6.534732e+03   \n",
       "2 2024-02-28 23:08:15.275629997 2024-02-28 23:08:15.635629892  7.761742e+02   \n",
       "3 2024-02-28 23:17:41.875629902 2024-02-28 23:17:42.445630074  1.330175e+03   \n",
       "4 2024-02-28 23:31:54.005630016 2024-02-28 23:32:11.155630112  1.179498e+06   \n",
       "\n",
       "    PC transition                Limbs  SIB sub_ID  \\\n",
       "0  0.0       None              {LW, T}    1    158   \n",
       "1  0.0       None              {LW, T}    1    158   \n",
       "2  0.0       None                 {LW}    1    158   \n",
       "3  0.0       None                 {LW}    1    158   \n",
       "4  0.0       None  {RW, T, LL, RL, LW}    1    158   \n",
       "\n",
       "                                        ACC_response  \\\n",
       "0                                               None   \n",
       "1  [21.685460424790747, 28.13815298028861, 14.266...   \n",
       "2  [-20.92211175552717, -1.6028287851219574, 1.47...   \n",
       "3  [-11.010669724082462, 13.495555903064954, 0.63...   \n",
       "4  [43.69190609430005, 14.230339833499826, 28.264...   \n",
       "\n",
       "                                         HR_response  \\\n",
       "0  [81.3763655605152, 79.31300702523212, 77.34783...   \n",
       "1  [69.75336400943675, 75.84627452807841, 75.8488...   \n",
       "2  [73.69902935823436, 78.12130225835978, 78.1519...   \n",
       "3  [75.84328019638515, 78.12715965978558, 73.6972...   \n",
       "4  [73.69810238588468, 72.33059595781911, 78.1514...   \n",
       "\n",
       "                              HR_response_normalized  HR_baseline    HR_peak  \\\n",
       "0  [2.9331696699604493, 0.32322226398649434, -2.1...    79.057476   2.933170   \n",
       "1  [-8.115480410659373, -0.08942799216255537, -0....    75.914163   3.951068   \n",
       "2  [1.685935815921141, 7.787548852055352, 7.82978...    72.477112   9.990368   \n",
       "3  [1.36255449131464, 4.414899484319747, -1.50556...    74.823766   8.753980   \n",
       "4  [-1.7699620455902618, -3.5926712332491917, 4.1...    75.026035  38.834153   \n",
       "\n",
       "   HR_peak_latency  \n",
       "0              6.0  \n",
       "1             44.0  \n",
       "2             28.0  \n",
       "3              7.0  \n",
       "4             20.0  "
      ]
     },
     "execution_count": 24,
     "metadata": {},
     "output_type": "execute_result"
    }
   ],
   "source": [
    "bursts_HR = pd.read_pickle(\"/Volumes/Untitled/rehab/data/bursts_HR_ACC.pkl\")\n",
    "bursts_HR[\"ACC_response\"] = bursts_HR[\"ACC_response\"].apply(lambda x: np.array(x))\n",
    "print(bursts_HR.shape)\n",
    "bursts_HR.head()"
   ]
  },
  {
   "cell_type": "markdown",
   "metadata": {},
   "source": [
    "# Subject-wise plots"
   ]
  },
  {
   "cell_type": "code",
   "execution_count": 56,
   "metadata": {},
   "outputs": [],
   "source": [
    "# Single limbs\n",
    "bursts_HR_single_limbs =  bursts_HR[(bursts_HR[\"Limbs\"] == {\"LW\"}) | (bursts_HR[\"Limbs\"] == {\"RW\"}) | (bursts_HR[\"Limbs\"] == {\"RL\"}) | (bursts_HR[\"Limbs\"] == {\"LL\"}) | (bursts_HR[\"Limbs\"] == {\"T\"})].reset_index(drop=True)\n",
    "# Whole SPT\n",
    "HR_response_mean_within_singleLimbs = bursts_HR_single_limbs.groupby(\"sub_ID\")[\"HR_response_normalized\"].mean()\n",
    "\n",
    "# t = np.arange(-19, 50)\n",
    "\n",
    "# for i in range(0, len(subjects)):\n",
    "#     plt.figure(figsize=(19, 11))\n",
    "#     plt.plot(t, HR_response_mean_within_singleLimbs[subjects[i]], label = subjects[i])\n",
    "#     plt.legend()\n",
    "\n",
    "# All limbs\n",
    "bursts_HR_all_limbs = bursts_HR[bursts_HR[\"Limbs\"] == set((\"LL\", \"LW\", \"RL\", \"RW\", \"T\"))].reset_index(drop=True)\n",
    "# divide in low, med and high HR response based on the 1/3 and 2/3 percentiles\n",
    "HR_response_percentiles = bursts_HR_all_limbs.groupby(\"sub_ID\")[\"AUC\"].describe(percentiles=[1/3, 2/3])\n",
    "AUC_33 = HR_response_percentiles[\"33.3%\"]\n",
    "AUC_66 = HR_response_percentiles[\"66.7%\"]\n",
    "\n",
    "bursts_HR_all_limbs[\"HR_response_category\"] = \"medium\"\n",
    "for i, sub in enumerate(subjects):\n",
    "    bursts_HR_all_limbs.loc[(bursts_HR_all_limbs[\"sub_ID\"] == sub) & (bursts_HR_all_limbs[\"AUC\"] < AUC_33.loc[sub]), \"HR_response_category\"] = \"low\"\n",
    "    bursts_HR_all_limbs.loc[(bursts_HR_all_limbs[\"sub_ID\"] == sub) & (bursts_HR_all_limbs[\"AUC\"] > AUC_66.loc[sub]), \"HR_response_category\"] = \"high\"\n",
    "\n",
    "HR_response_category_mean_within = bursts_HR_all_limbs.groupby([\"sub_ID\", \"HR_response_category\"])[\"HR_response_normalized\"].mean().unstack()\n",
    "\n",
    "for i in range(0, len(subjects)):\n",
    "    plt.figure(figsize=(19, 11))\n",
    "    plt.plot(t, HR_response_category_mean_within.loc[subjects[i]][\"high\"], label = \"high\")\n",
    "    plt.plot(t, HR_response_category_mean_within.loc[subjects[i]][\"medium\"], label = \"medium\")\n",
    "    plt.plot(t, HR_response_category_mean_within.loc[subjects[i]][\"low\"], label = \"low\")\n",
    "    plt.title(subjects[i])\n",
    "\n"
   ]
  },
  {
   "cell_type": "markdown",
   "metadata": {},
   "source": [
    "# EDA"
   ]
  },
  {
   "cell_type": "code",
   "execution_count": 17,
   "metadata": {},
   "outputs": [
    {
     "data": {
      "text/plain": [
       "Text(0, 0.5, 'Frequency')"
      ]
     },
     "execution_count": 17,
     "metadata": {},
     "output_type": "execute_result"
    }
   ],
   "source": [
    "# plot distribution of HR_peaks and latencies\n",
    "fig, ax = plt.subplots(1, 2, figsize=(16, 11))\n",
    "\n",
    "sns.histplot(bursts_HR[\"HR_peak\"], bins=50, kde=True, ax=ax[0])\n",
    "ax[0].set_title(\"Distribution of HR peaks\")\n",
    "ax[0].set_xlabel(\"HR peak (%)\")\n",
    "ax[0].set_ylabel(\"Frequency\")\n",
    "\n",
    "sns.histplot(bursts_HR[\"HR_peak_latency\"], bins=50, kde=True, ax=ax[1])\n",
    "ax[1].set_title(\"Distribution of HR latencies\")\n",
    "ax[1].set_xlabel(\"HR latency (s)\")\n",
    "ax[1].set_ylabel(\"Frequency\")"
   ]
  },
  {
   "cell_type": "code",
   "execution_count": 107,
   "metadata": {},
   "outputs": [
    {
     "data": {
      "text/plain": [
       "Text(0.5, 0, 'SIB')"
      ]
     },
     "execution_count": 107,
     "metadata": {},
     "output_type": "execute_result"
    }
   ],
   "source": [
    "# same but with SIB as hue\n",
    "\n",
    "df_melted = pd.melt(bursts_HR, id_vars=[\"SIB\"], value_vars=[\"HR_peak\", \"HR_peak_latency\"], var_name=\"variable\", value_name=\"value\")\n",
    "\n",
    "fig, ax = plt.subplots(1, 2, figsize=(16, 11))\n",
    "\n",
    "sns.histplot(df_melted, x=\"value\", hue=\"SIB\", bins=50, kde=True, ax=ax[0])\n",
    "ax[0].set_title(\"Distribution of HR peaks\")\n",
    "ax[0].set_xlabel(\"HR peak (%)\")\n",
    "ax[0].set_ylabel(\"Frequency\")\n",
    "\n",
    "sns.histplot(df_melted, x=\"value\", hue=\"SIB\", bins=50, kde=True, ax=ax[1])\n",
    "ax[1].set_title(\"Distribution of HR latencies\")\n",
    "ax[1].set_xlabel(\"HR latency (s)\")\n",
    "ax[1].set_ylabel(\"Frequency\")\n",
    "\n",
    "fig, ax = plt.subplots(1, 2, figsize=(16, 11))\n",
    "\n",
    "sns.boxplot(data=bursts_HR, x=\"SIB\", y=\"HR_peak\", ax=ax[0])\n",
    "ax[0].set_title(\"HR peak by SIB\")\n",
    "ax[0].set_ylabel(\"HR peak (%)\")\n",
    "ax[0].set_xlabel(\"SIB\")\n",
    "\n",
    "sns.boxplot(data=bursts_HR, x=\"SIB\", y=\"HR_peak_latency\", ax=ax[1])\n",
    "ax[1].set_title(\"HR latency by SIB\")\n",
    "ax[1].set_ylabel(\"HR latency (s)\")\n",
    "ax[1].set_xlabel(\"SIB\")"
   ]
  },
  {
   "cell_type": "code",
   "execution_count": 115,
   "metadata": {},
   "outputs": [
    {
     "data": {
      "text/plain": [
       "(772, 13)"
      ]
     },
     "execution_count": 115,
     "metadata": {},
     "output_type": "execute_result"
    }
   ],
   "source": [
    "# remove rows with negative HR_peaks\n",
    "to_remove = bursts_HR[bursts_HR[\"HR_peak\"] < 0].index\n",
    "bursts_HR = bursts_HR.drop(to_remove).reset_index(drop=True)\n",
    "\n",
    "# remove rows with HR_peak smaller than 10 and HR_peak_latency larger than 24\n",
    "to_remove = bursts_HR[(bursts_HR[\"HR_peak\"] < 10) & (bursts_HR[\"HR_peak_latency\"] > 24)].index\n",
    "bursts_HR = bursts_HR.drop(to_remove).reset_index(drop=True)\n",
    "\n",
    "bursts_HR.shape"
   ]
  },
  {
   "cell_type": "code",
   "execution_count": 96,
   "metadata": {},
   "outputs": [
    {
     "data": {
      "text/plain": [
       "Text(0.5, 0, 'SIB')"
      ]
     },
     "execution_count": 96,
     "metadata": {},
     "output_type": "execute_result"
    }
   ],
   "source": [
    "# plot distribution of AUC \n",
    "fig, ax = plt.subplots(1, 2, figsize=(16, 11))\n",
    "\n",
    "sns.histplot(bursts_HR[\"AUC\"], bins=50, kde=True, ax=ax[0])\n",
    "ax[0].set_title(\"Distribution of AUC\")\n",
    "ax[0].set_xlabel(\"AUC\")\n",
    "ax[0].set_ylabel(\"Frequency\")\n",
    "\n",
    "sns.boxplot(data=bursts_HR, x=\"SIB\", y=\"AUC\", ax=ax[1])\n",
    "ax[1].set_title(\"AUC by SIB\")\n",
    "ax[1].set_ylabel(\"AUC\")\n",
    "ax[1].set_xlabel(\"SIB\")"
   ]
  },
  {
   "cell_type": "code",
   "execution_count": 64,
   "metadata": {},
   "outputs": [],
   "source": [
    "# Remove too high AUC values\n",
    "to_remove = bursts_HR[bursts_HR[\"AUC\"] > 3e6].index\n",
    "bursts_HR = bursts_HR.drop(to_remove).reset_index(drop=True)"
   ]
  },
  {
   "cell_type": "markdown",
   "metadata": {},
   "source": [
    "# All limbs - Sleep vs Wake"
   ]
  },
  {
   "cell_type": "code",
   "execution_count": 10,
   "metadata": {},
   "outputs": [
    {
     "data": {
      "text/plain": [
       "(count     9.000000\n",
       " mean     32.908198\n",
       " std      10.395209\n",
       " min      20.242914\n",
       " 25%      24.385344\n",
       " 50%      28.349812\n",
       " 75%      42.366226\n",
       " max      48.449517\n",
       " Name: HR_peak, dtype: float64,\n",
       " count     9.000000\n",
       " mean     52.671251\n",
       " std      19.810720\n",
       " min      28.438842\n",
       " 25%      37.689244\n",
       " 50%      58.363721\n",
       " 75%      64.151162\n",
       " max      87.997540\n",
       " Name: HR_peak, dtype: float64)"
      ]
     },
     "execution_count": 10,
     "metadata": {},
     "output_type": "execute_result"
    }
   ],
   "source": [
    "bursts_HR_all_limbs = bursts_HR[bursts_HR[\"Limbs\"] == set((\"LL\", \"LW\", \"RL\", \"RW\", \"T\"))].reset_index(drop=True) # all limbs together\n",
    "# bursts_HR_all_limbs = bursts_HR # all limbs\n",
    "bursts_HR_all_limbs_sleep = bursts_HR_all_limbs[bursts_HR_all_limbs[\"SIB\"] == 1].reset_index(drop=True)\n",
    "bursts_HR_all_limbs_wake = bursts_HR_all_limbs[bursts_HR_all_limbs[\"SIB\"] == 0].reset_index(drop=True)\n",
    "\n",
    "HR_response_mean_within_sleep = bursts_HR_all_limbs_sleep.groupby(\"sub_ID\")[\"HR_response_normalized\"].mean()\n",
    "HR_response_mean_within_wake = bursts_HR_all_limbs_wake.groupby(\"sub_ID\")[\"HR_response_normalized\"].mean()\n",
    "\n",
    "sem_sleep = HR_response_mean_within_sleep.to_numpy().std() / np.sqrt(HR_response_mean_within_sleep.to_numpy().shape[0])\n",
    "sem_wake = HR_response_mean_within_wake.to_numpy().std() / np.sqrt(HR_response_mean_within_wake.to_numpy().shape[0])\n",
    "\n",
    "t = np.arange(-19, 50)\n",
    "\n",
    "f, (ax) = plt.subplots()\n",
    "f.set_figheight(9)\n",
    "f.set_figwidth(15)\n",
    "\n",
    "plt.plot(t, HR_response_mean_within_sleep.mean(), label = \"sleep\", color = 'blue')\n",
    "plt.errorbar(t, HR_response_mean_within_sleep.mean(), yerr = sem_sleep, fmt = '-o', color = 'blue', ecolor='blue', capsize=3)\n",
    "\n",
    "plt.plot(t, HR_response_mean_within_wake.mean(), label = \"wake\", color = 'red')\n",
    "plt.errorbar(t, HR_response_mean_within_wake.mean(), yerr = sem_wake, fmt = '-o', color = 'red', ecolor='red', capsize=3)\n",
    "\n",
    "ax.axvline(x=0, color='grey', linestyle='--', linewidth=1.2)\n",
    "ax.axhline(y=0, color='grey', linestyle='--', linewidth=1.2)\n",
    "ax.annotate('Movement\\nonset', xy=(0, plt.ylim()[1]-6), xytext=(-60, plt.ylim()[1]-66),\n",
    "             textcoords='offset points', ha='right', va='bottom', fontsize=19,\n",
    "             bbox=dict(boxstyle='round,pad=0.5', fc='gray', alpha=0.2, edgecolor='black'),\n",
    "             arrowprops=dict(facecolor='black', shrink=0.05, width=2))\n",
    "\n",
    "# plt.xticks(ticks = np.arange(-20, 40, 5), labels=np.arange(-20, 40, 5), fontsize=16)\n",
    "ax.yaxis.set_major_formatter(mtick.PercentFormatter(decimals=0))\n",
    "ax.set_xlabel('Time (seconds)', fontsize = 21)\n",
    "ax.set_ylabel('HR change', fontsize = 21)\n",
    "ax.set_label('')\n",
    "ax.xaxis.set_tick_params(labelsize=20)\n",
    "ax.yaxis.set_tick_params(labelsize=20)\n",
    "\n",
    "plt.legend(frameon = True, fancybox = True, shadow = True, fontsize = 18, loc = \"upper right\")\n",
    "\n",
    "HR_peak_all_limbs_sleep = bursts_HR_all_limbs_sleep.groupby(\"sub_ID\")[\"HR_peak\"].mean()\n",
    "HR_peak_all_limbs_wake = bursts_HR_all_limbs_wake.groupby(\"sub_ID\")[\"HR_peak\"].mean()\n",
    "\n",
    "HR_peak_all_limbs_sleep.describe(), HR_peak_all_limbs_wake.describe()"
   ]
  },
  {
   "cell_type": "markdown",
   "metadata": {},
   "source": [
    "# ALL limbs"
   ]
  },
  {
   "cell_type": "code",
   "execution_count": 6,
   "metadata": {},
   "outputs": [
    {
     "data": {
      "text/plain": [
       "count     9.000000\n",
       "mean     40.440675\n",
       "std      14.389471\n",
       "min      25.159911\n",
       "25%      30.088659\n",
       "50%      33.492819\n",
       "75%      49.929787\n",
       "max      60.705317\n",
       "Name: HR_peak, dtype: float64"
      ]
     },
     "execution_count": 6,
     "metadata": {},
     "output_type": "execute_result"
    }
   ],
   "source": [
    "bursts_HR_all_limbs = bursts_HR[bursts_HR[\"Limbs\"] == set((\"LL\", \"LW\", \"RL\", \"RW\", \"T\"))].reset_index(drop=True)\n",
    "\n",
    "HR_response_category_mean_within = bursts_HR_all_limbs.groupby(\"sub_ID\")[\"HR_response_normalized\"].mean()\n",
    "\n",
    "sem = HR_response_category_mean_within.to_numpy().std() / np.sqrt(HR_response_category_mean_within.to_numpy().shape[0])\n",
    "\n",
    "t = np.arange(-19, 50)\n",
    "plt.figure(figsize=(15, 9))\n",
    "plt.plot(t, HR_response_category_mean_within.mean(), color = 'blue')\n",
    "plt.errorbar(t, HR_response_category_mean_within.mean(), yerr = sem, fmt = '-o', color = 'blue', ecolor='blue', capsize=3)\n",
    "\n",
    "HR_peak_all_limbs = bursts_HR_all_limbs.groupby(\"sub_ID\")[\"HR_peak\"].mean()\n",
    "HR_peak_all_limbs.describe()"
   ]
  },
  {
   "cell_type": "markdown",
   "metadata": {},
   "source": [
    "# ALL limbs - HIGH vs MED vs LOW"
   ]
  },
  {
   "cell_type": "code",
   "execution_count": 20,
   "metadata": {},
   "outputs": [],
   "source": [
    "bursts_HR_all_limbs = bursts_HR#[bursts_HR[\"Limbs\"] == set((\"LL\", \"LW\", \"RL\", \"RW\", \"T\"))].reset_index(drop=True)"
   ]
  },
  {
   "cell_type": "markdown",
   "metadata": {},
   "source": [
    "## Whole SPT"
   ]
  },
  {
   "cell_type": "code",
   "execution_count": 8,
   "metadata": {},
   "outputs": [],
   "source": [
    "# divide in low, med and high HR response based on the 1/3 and 2/3 percentiles\n",
    "HR_response_percentiles = bursts_HR_all_limbs.groupby(\"sub_ID\")[\"AUC\"].describe(percentiles=[1/3, 2/3])\n",
    "AUC_33 = HR_response_percentiles[\"33.3%\"]\n",
    "AUC_66 = HR_response_percentiles[\"66.7%\"]\n",
    "\n",
    "bursts_HR_all_limbs[\"HR_response_category\"] = \"medium\"\n",
    "for i, sub in enumerate(subjects):\n",
    "    bursts_HR_all_limbs.loc[(bursts_HR_all_limbs[\"sub_ID\"] == sub) & (bursts_HR_all_limbs[\"AUC\"] < AUC_33.loc[sub]), \"HR_response_category\"] = \"low\"\n",
    "    bursts_HR_all_limbs.loc[(bursts_HR_all_limbs[\"sub_ID\"] == sub) & (bursts_HR_all_limbs[\"AUC\"] > AUC_66.loc[sub]), \"HR_response_category\"] = \"high\""
   ]
  },
  {
   "cell_type": "code",
   "execution_count": 9,
   "metadata": {},
   "outputs": [
    {
     "data": {
      "text/plain": [
       "<matplotlib.legend.Legend at 0x7fae11779c90>"
      ]
     },
     "execution_count": 9,
     "metadata": {},
     "output_type": "execute_result"
    }
   ],
   "source": [
    "# coherent averaging within subjects for each category\n",
    "HR_response_category_mean_within = bursts_HR_all_limbs.groupby([\"sub_ID\", \"HR_response_category\"])[\"HR_response_normalized\"].mean().unstack()\n",
    "\n",
    "sem_high = HR_response_category_mean_within[\"high\"].to_numpy().std() / np.sqrt(HR_response_category_mean_within[\"high\"].to_numpy().shape[0])\n",
    "sem_medium = HR_response_category_mean_within[\"medium\"].to_numpy().std() / np.sqrt(HR_response_category_mean_within[\"medium\"].to_numpy().shape[0])\n",
    "sem_low = HR_response_category_mean_within[\"low\"].to_numpy().std() / np.sqrt(HR_response_category_mean_within[\"low\"].to_numpy().shape[0])\n",
    "\n",
    "t = np.arange(-19, 50, 1)\n",
    "plt.figure(figsize=(15, 9))\n",
    "plt.plot(t, HR_response_category_mean_within[\"low\"].mean(), label = \"low\", color = 'blue')\n",
    "plt.errorbar(t, HR_response_category_mean_within[\"low\"].mean(), yerr = sem_low, fmt = '-o', color = 'blue', ecolor='blue', capsize=3)\n",
    "\n",
    "plt.plot(t, HR_response_category_mean_within[\"medium\"].mean(), label = \"medium\", color = 'orange')\n",
    "plt.errorbar(t, HR_response_category_mean_within[\"medium\"].mean(), yerr = sem_medium, fmt = '-o', color = 'orange', ecolor='orange', capsize=3)\n",
    "\n",
    "plt.plot(t, HR_response_category_mean_within[\"high\"].mean(), label = \"high\", color = 'red')\n",
    "plt.errorbar(t, HR_response_category_mean_within[\"high\"].mean(), yerr = sem_high, fmt = '-o', color = 'red', ecolor='red', capsize=3)\n",
    "\n",
    "plt.legend()"
   ]
  },
  {
   "cell_type": "markdown",
   "metadata": {},
   "source": [
    "### Statistics"
   ]
  },
  {
   "cell_type": "code",
   "execution_count": 44,
   "metadata": {},
   "outputs": [
    {
     "name": "stdout",
     "output_type": "stream",
     "text": [
      "HR peaks during sleep: p = 0.0003001851487690379\n",
      "True\n",
      "High vs Medium: p = 0.01171875\n",
      "False\n",
      "High vs Low: p = 0.00390625\n",
      "True\n",
      "Medium vs Low: p = 0.00390625\n",
      "True\n"
     ]
    },
    {
     "data": {
      "text/plain": [
       "Text(0.5, 0, 'HR response category')"
      ]
     },
     "execution_count": 44,
     "metadata": {},
     "output_type": "execute_result"
    }
   ],
   "source": [
    "HR_peak_category_mean_within = bursts_HR_all_limbs.groupby([\"sub_ID\", \"HR_response_category\"])[\"HR_peak\"].mean().unstack()\n",
    "HR_peak_category_mean_within\n",
    "\n",
    "# Friedman test\n",
    "from scipy.stats import friedmanchisquare\n",
    "\n",
    "stat, p = friedmanchisquare(list(HR_peak_category_mean_within[\"high\"].values), list(HR_peak_category_mean_within[\"medium\"].values), list(HR_peak_category_mean_within[\"low\"].values))\n",
    "print(f\"HR peaks during sleep: p = {p}\")\n",
    "print(p < 0.01)\n",
    "\n",
    "# Wilcoxon test\n",
    "from scipy.stats import wilcoxon\n",
    "\n",
    "stat, p = wilcoxon(list(HR_peak_category_mean_within[\"high\"].values), list(HR_peak_category_mean_within[\"medium\"].values))\n",
    "print(f\"High vs Medium: p = {p}\")\n",
    "print(p < 0.01)\n",
    "\n",
    "stat, p = wilcoxon(list(HR_peak_category_mean_within[\"high\"].values), list(HR_peak_category_mean_within[\"low\"].values))\n",
    "print(f\"High vs Low: p = {p}\")\n",
    "print(p < 0.01)\n",
    "\n",
    "stat, p = wilcoxon(list(HR_peak_category_mean_within[\"medium\"].values), list(HR_peak_category_mean_within[\"low\"].values))\n",
    "print(f\"Medium vs Low: p = {p}\")\n",
    "print(p < 0.01)\n",
    "\n",
    "# plot HR peaks\n",
    "fig, ax = plt.subplots(1, 2, figsize=(16, 11))\n",
    "\n",
    "sns.boxplot(data=HR_peak_category_mean_within, ax=ax[0], palette=sns.color_palette(\"Set2\", n_colors=3))\n",
    "ax[0].set_title(\"HR peak by HR response category\")\n",
    "ax[0].set_ylabel(\"HR peak (%)\")\n",
    "ax[0].set_xlabel(\"HR response category\")\n",
    "\n",
    "# HR_latency_category_mean_within = bursts_HR_all_limbs.groupby([\"sub_ID\", \"HR_response_category\"])[\"HR_peak_latency\"].mean().unstack()\n",
    "\n",
    "# sns.boxplot(data=HR_latency_category_mean_within, ax=ax[1], palette=sns.color_palette(\"Set2\", n_colors=3))\n",
    "# ax[1].set_title(\"HR latency by HR response category\")\n",
    "# ax[1].set_ylabel(\"HR latency (s)\")\n",
    "# ax[1].set_xlabel(\"HR response category\")\n"
   ]
  },
  {
   "cell_type": "markdown",
   "metadata": {},
   "source": [
    "## Sleep"
   ]
  },
  {
   "cell_type": "code",
   "execution_count": 21,
   "metadata": {},
   "outputs": [],
   "source": [
    "bursts_HR_all_limbs_sleep = bursts_HR_all_limbs[bursts_HR_all_limbs[\"SIB\"] == 1].reset_index(drop=True)"
   ]
  },
  {
   "cell_type": "code",
   "execution_count": 22,
   "metadata": {},
   "outputs": [],
   "source": [
    "# divide in low, med and high HR response based on the 1/3 and 2/3 percentiles\n",
    "HR_response_percentiles = bursts_HR_all_limbs_sleep.groupby(\"sub_ID\")[\"AUC\"].describe(percentiles=[1/3, 2/3])\n",
    "AUC_33_sleep = HR_response_percentiles[\"33.3%\"]\n",
    "AUC_66_sleep = HR_response_percentiles[\"66.7%\"]\n",
    "\n",
    "bursts_HR_all_limbs_sleep[\"HR_response_category\"] = \"medium\"\n",
    "for i, sub in enumerate(subjects):\n",
    "    bursts_HR_all_limbs_sleep.loc[(bursts_HR_all_limbs_sleep[\"sub_ID\"] == sub) & (bursts_HR_all_limbs_sleep[\"AUC\"] < AUC_33_sleep.loc[sub]), \"HR_response_category\"] = \"low\"\n",
    "    bursts_HR_all_limbs_sleep.loc[(bursts_HR_all_limbs_sleep[\"sub_ID\"] == sub) & (bursts_HR_all_limbs_sleep[\"AUC\"] > AUC_66_sleep.loc[sub]), \"HR_response_category\"] = \"high\""
   ]
  },
  {
   "cell_type": "code",
   "execution_count": 23,
   "metadata": {},
   "outputs": [
    {
     "data": {
      "text/plain": [
       "<matplotlib.legend.Legend at 0x7fd08509b910>"
      ]
     },
     "execution_count": 23,
     "metadata": {},
     "output_type": "execute_result"
    }
   ],
   "source": [
    "# coherent averaging within subjects for each category\n",
    "HR_response_category_mean_within_sleep = bursts_HR_all_limbs_sleep.groupby([\"sub_ID\", \"HR_response_category\"])[\"HR_response_normalized\"].mean().unstack()\n",
    "\n",
    "sem_high = HR_response_category_mean_within_sleep[\"high\"].to_numpy().std() / np.sqrt(HR_response_category_mean_within_sleep[\"high\"].to_numpy().shape[0])\n",
    "sem_medium = HR_response_category_mean_within_sleep[\"medium\"].to_numpy().std() / np.sqrt(HR_response_category_mean_within_sleep[\"medium\"].to_numpy().shape[0])\n",
    "sem_low = HR_response_category_mean_within_sleep[\"low\"].to_numpy().std() / np.sqrt(HR_response_category_mean_within_sleep[\"low\"].to_numpy().shape[0])\n",
    "\n",
    "t = np.arange(-19, 50, 1)\n",
    "plt.figure(figsize=(15, 9))\n",
    "plt.plot(t, HR_response_category_mean_within_sleep[\"low\"].mean(), label = \"low\", color = 'blue')\n",
    "plt.errorbar(t, HR_response_category_mean_within_sleep[\"low\"].mean(), yerr = sem_low, fmt = '-o', color = 'blue', ecolor='blue', capsize=3)\n",
    "\n",
    "plt.plot(t, HR_response_category_mean_within_sleep[\"medium\"].mean(), label = \"medium\", color = 'orange')\n",
    "plt.errorbar(t, HR_response_category_mean_within_sleep[\"medium\"].mean(), yerr = sem_medium, fmt = '-o', color = 'orange', ecolor='orange', capsize=3)\n",
    "\n",
    "plt.plot(t, HR_response_category_mean_within_sleep[\"high\"].mean(), label = \"high\", color = 'red')\n",
    "plt.errorbar(t, HR_response_category_mean_within_sleep[\"high\"].mean(), yerr = sem_high, fmt = '-o', color = 'red', ecolor='red', capsize=3)\n",
    "\n",
    "plt.legend()"
   ]
  },
  {
   "cell_type": "markdown",
   "metadata": {},
   "source": [
    "### Statistics"
   ]
  },
  {
   "cell_type": "code",
   "execution_count": 50,
   "metadata": {},
   "outputs": [
    {
     "name": "stdout",
     "output_type": "stream",
     "text": [
      "HR peaks during sleep: p = 0.00309558685236526\n",
      "True\n",
      "High vs Medium: p = 0.00390625\n",
      "True\n",
      "High vs Low: p = 0.0078125\n",
      "True\n",
      "Medium vs Low: p = 0.1640625\n",
      "False\n",
      "HR peak latencies during sleep: p = 0.04455142624448988\n",
      "False\n",
      "High vs Medium: p = 0.12890625\n",
      "False\n",
      "High vs Low: p = 0.1640625\n",
      "False\n",
      "Medium vs Low: p = 0.8203125\n",
      "False\n"
     ]
    },
    {
     "data": {
      "text/plain": [
       "Text(0.5, 0, 'HR response category')"
      ]
     },
     "execution_count": 50,
     "metadata": {},
     "output_type": "execute_result"
    }
   ],
   "source": [
    "HR_peak_category_mean_within = bursts_HR_all_limbs_sleep.groupby([\"sub_ID\", \"HR_response_category\"])[\"HR_peak\"].mean().unstack()\n",
    "HR_peak_latency_category_mean_within = bursts_HR_all_limbs_sleep.groupby([\"sub_ID\", \"HR_response_category\"])[\"HR_peak_latency\"].mean().unstack()\n",
    "\n",
    "# Friedman test\n",
    "from scipy.stats import friedmanchisquare\n",
    "\n",
    "stat, p = friedmanchisquare(list(HR_peak_category_mean_within[\"high\"].values), list(HR_peak_category_mean_within[\"medium\"].values), list(HR_peak_category_mean_within[\"low\"].values))\n",
    "print(f\"HR peaks during sleep: p = {p}\")\n",
    "print(p < 0.01)\n",
    "\n",
    "# Wilcoxon test\n",
    "from scipy.stats import wilcoxon\n",
    "\n",
    "stat, p = wilcoxon(list(HR_peak_category_mean_within[\"high\"].values), list(HR_peak_category_mean_within[\"medium\"].values))\n",
    "print(f\"High vs Medium: p = {p}\")\n",
    "print(p < 0.01)\n",
    "\n",
    "stat, p = wilcoxon(list(HR_peak_category_mean_within[\"high\"].values), list(HR_peak_category_mean_within[\"low\"].values))\n",
    "print(f\"High vs Low: p = {p}\")\n",
    "print(p < 0.01)\n",
    "\n",
    "stat, p = wilcoxon(list(HR_peak_category_mean_within[\"medium\"].values), list(HR_peak_category_mean_within[\"low\"].values))\n",
    "print(f\"Medium vs Low: p = {p}\")\n",
    "print(p < 0.01)\n",
    "\n",
    "# plot HR peaks\n",
    "fig, ax = plt.subplots(1, 2, figsize=(16, 11))\n",
    "\n",
    "sns.boxplot(data=HR_peak_category_mean_within, ax=ax[0], palette=sns.color_palette(\"Set2\", n_colors=3))\n",
    "sns.stripplot(data=HR_peak_category_mean_within, ax=ax[0], palette=sns.color_palette(\"Set2\", n_colors=3), alpha=0.5, size=8,\n",
    "              jitter=0.1, edgecolor='black', linewidth=0.5)\n",
    "ax[0].set_title(\"HR peak by HR response category\")\n",
    "ax[0].set_ylabel(\"HR peak (%)\")\n",
    "ax[0].set_xlabel(\"HR response category\")\n",
    "\n",
    "# Friedman test\n",
    "\n",
    "stat, p = friedmanchisquare(list(HR_peak_latency_category_mean_within[\"high\"].values), list(HR_peak_latency_category_mean_within[\"medium\"].values), list(HR_peak_latency_category_mean_within[\"low\"].values))\n",
    "print(f\"HR peak latencies during sleep: p = {p}\")\n",
    "print(p < 0.01)\n",
    "\n",
    "# Wilcoxon test\n",
    "\n",
    "stat, p = wilcoxon(list(HR_peak_latency_category_mean_within[\"high\"].values), list(HR_peak_latency_category_mean_within[\"medium\"].values))\n",
    "print(f\"High vs Medium: p = {p}\")\n",
    "print(p < 0.01)\n",
    "\n",
    "stat, p = wilcoxon(list(HR_peak_latency_category_mean_within[\"high\"].values), list(HR_peak_latency_category_mean_within[\"low\"].values))\n",
    "print(f\"High vs Low: p = {p}\")\n",
    "print(p < 0.01)\n",
    "\n",
    "stat, p = wilcoxon(list(HR_peak_latency_category_mean_within[\"medium\"].values), list(HR_peak_latency_category_mean_within[\"low\"].values))\n",
    "print(f\"Medium vs Low: p = {p}\")\n",
    "print(p < 0.01)\n",
    "\n",
    "# plot HR latencies\n",
    "sns.boxplot(data=HR_peak_latency_category_mean_within, palette=sns.color_palette(\"Set2\", n_colors=3), ax=ax[1])\n",
    "sns.stripplot(data=HR_peak_latency_category_mean_within, ax=ax[1], palette=sns.color_palette(\"Set2\", n_colors=3), alpha=0.5, size=8,\n",
    "              jitter=0.1, edgecolor='black', linewidth=0.5)\n",
    "ax[1].set_title(\"HR latency by HR response category\")\n",
    "ax[1].set_ylabel(\"HR latency (s)\")\n",
    "ax[1].set_xlabel(\"HR response category\")"
   ]
  },
  {
   "cell_type": "markdown",
   "metadata": {},
   "source": [
    "## Wake"
   ]
  },
  {
   "cell_type": "code",
   "execution_count": 13,
   "metadata": {},
   "outputs": [],
   "source": [
    "bursts_HR_all_limbs_wake = bursts_HR_all_limbs[bursts_HR_all_limbs[\"SIB\"] == 0].reset_index(drop=True)"
   ]
  },
  {
   "cell_type": "code",
   "execution_count": 14,
   "metadata": {},
   "outputs": [],
   "source": [
    "# divide in low, med and high HR response based on the 1/3 and 2/3 percentiles\n",
    "HR_response_percentiles = bursts_HR_all_limbs_wake.groupby(\"sub_ID\")[\"AUC\"].describe(percentiles=[1/3, 2/3])\n",
    "AUC_33_wake = HR_response_percentiles[\"33.3%\"]\n",
    "AUC_66_wake = HR_response_percentiles[\"66.7%\"]\n",
    "\n",
    "bursts_HR_all_limbs_wake[\"HR_response_category\"] = \"medium\"\n",
    "for i, sub in enumerate(subjects):\n",
    "    bursts_HR_all_limbs_wake.loc[(bursts_HR_all_limbs_wake[\"sub_ID\"] == sub) & (bursts_HR_all_limbs_wake[\"AUC\"] < AUC_33_wake.loc[sub]), \"HR_response_category\"] = \"low\"\n",
    "    bursts_HR_all_limbs_wake.loc[(bursts_HR_all_limbs_wake[\"sub_ID\"] == sub) & (bursts_HR_all_limbs_wake[\"AUC\"] > AUC_66_wake.loc[sub]), \"HR_response_category\"] = \"high\""
   ]
  },
  {
   "cell_type": "code",
   "execution_count": 15,
   "metadata": {},
   "outputs": [
    {
     "data": {
      "text/plain": [
       "<matplotlib.legend.Legend at 0x7fae111b8d00>"
      ]
     },
     "execution_count": 15,
     "metadata": {},
     "output_type": "execute_result"
    }
   ],
   "source": [
    "# coherent averaging within subjects for each category\n",
    "HR_response_category_mean_within_wake = bursts_HR_all_limbs_wake.groupby([\"sub_ID\", \"HR_response_category\"])[\"HR_response_normalized\"].mean().unstack()\n",
    "\n",
    "sem_high = HR_response_category_mean_within_wake[\"high\"].dropna().to_numpy().std() / np.sqrt(HR_response_category_mean_within_wake[\"high\"].dropna().to_numpy().shape[0])\n",
    "sem_medium = HR_response_category_mean_within_wake[\"medium\"].dropna().to_numpy().std() / np.sqrt(HR_response_category_mean_within_wake[\"medium\"].dropna().to_numpy().shape[0])\n",
    "sem_low = HR_response_category_mean_within_wake[\"low\"].dropna().to_numpy().std() / np.sqrt(HR_response_category_mean_within_wake[\"low\"].dropna().to_numpy().shape[0])\n",
    "\n",
    "t = np.arange(-19, 50, 1)\n",
    "plt.figure(figsize=(15, 9))\n",
    "plt.plot(t, HR_response_category_mean_within_wake[\"low\"].dropna().mean(), label = \"low\", color = 'blue')\n",
    "plt.errorbar(t, HR_response_category_mean_within_wake[\"low\"].dropna().mean(), yerr = sem_low, fmt = '-o', color = 'blue', ecolor='blue', capsize=3)\n",
    "\n",
    "plt.plot(t, HR_response_category_mean_within_wake[\"medium\"].dropna().mean(), label = \"medium\", color = 'orange')\n",
    "plt.errorbar(t, HR_response_category_mean_within_wake[\"medium\"].dropna().mean(), yerr = sem_medium, fmt = '-o', color = 'orange', ecolor='orange', capsize=3)\n",
    "\n",
    "plt.plot(t, HR_response_category_mean_within_wake[\"high\"].dropna().mean(), label = \"high\", color = 'red')\n",
    "plt.errorbar(t, HR_response_category_mean_within_wake[\"high\"].dropna().mean(), yerr = sem_high, fmt = '-o', color = 'red', ecolor='red', capsize=3)\n",
    "\n",
    "plt.legend()"
   ]
  },
  {
   "cell_type": "markdown",
   "metadata": {},
   "source": [
    "# Posture Changes"
   ]
  },
  {
   "cell_type": "code",
   "execution_count": 75,
   "metadata": {},
   "outputs": [],
   "source": [
    "bursts_HR_all_limbs_PC = bursts_HR[bursts_HR[\"PC\"] > 0].reset_index(drop=True)"
   ]
  },
  {
   "cell_type": "markdown",
   "metadata": {},
   "source": [
    "## All"
   ]
  },
  {
   "cell_type": "code",
   "execution_count": 76,
   "metadata": {},
   "outputs": [
    {
     "data": {
      "text/plain": [
       "<ErrorbarContainer object of 3 artists>"
      ]
     },
     "execution_count": 76,
     "metadata": {},
     "output_type": "execute_result"
    }
   ],
   "source": [
    "HR_response_mean_within_PC = bursts_HR_all_limbs_PC.groupby([\"sub_ID\"])[\"HR_response_normalized\"].mean()\n",
    "\n",
    "sem = HR_response_mean_within_PC.to_numpy().std() / np.sqrt(HR_response_mean_within_PC.to_numpy().shape[0])\n",
    "\n",
    "t = np.arange(-19, 50, 1)\n",
    "plt.figure(figsize=(15, 9))\n",
    "plt.plot(t, HR_response_mean_within_PC.mean(), label = \"PC\", color = 'blue')\n",
    "plt.errorbar(t, HR_response_mean_within_PC.mean(), yerr = sem, fmt = '-o', color = 'blue', ecolor='blue', capsize=3)"
   ]
  },
  {
   "cell_type": "markdown",
   "metadata": {},
   "source": [
    "## Stratify by transition type"
   ]
  },
  {
   "cell_type": "code",
   "execution_count": 77,
   "metadata": {},
   "outputs": [
    {
     "data": {
      "text/plain": [
       "<matplotlib.legend.Legend at 0x7fcaf03f99f0>"
      ]
     },
     "execution_count": 77,
     "metadata": {},
     "output_type": "execute_result"
    }
   ],
   "source": [
    "HR_response_mean_within_PC = bursts_HR_all_limbs_PC.groupby([\"sub_ID\", \"transition\"])[\"HR_response_normalized\"].mean()\n",
    "\n",
    "# average together responses to the same transition\n",
    "HR_response_mean_within_PC = HR_response_mean_within_PC.groupby(\"transition\").mean()\n",
    "HR_response_mean_within_PC\n",
    "\n",
    "# plot each one\n",
    "trans = bursts_HR_all_limbs_PC[\"transition\"].dropna().unique()\n",
    "t = np.arange(-19, 50, 1)\n",
    "plt.figure(figsize=(15, 9)) \n",
    "for i, transition in enumerate(trans):\n",
    "    plt.plot(t, HR_response_mean_within_PC.loc[transition], label = transition, color = sns.color_palette(\"Set2\", n_colors=12)[i])\n",
    "plt.legend()"
   ]
  },
  {
   "cell_type": "markdown",
   "metadata": {},
   "source": [
    "# Single Limbs (Either `LW`, `RW`, `LL`, `RL`)"
   ]
  },
  {
   "cell_type": "code",
   "execution_count": 16,
   "metadata": {},
   "outputs": [],
   "source": [
    "bursts_HR_single_limbs =  bursts_HR[(bursts_HR[\"Limbs\"] == {\"LW\"}) | (bursts_HR[\"Limbs\"] == {\"RW\"}) | (bursts_HR[\"Limbs\"] == {\"RL\"}) | (bursts_HR[\"Limbs\"] == {\"LL\"}) | (bursts_HR[\"Limbs\"] == {\"T\"})].reset_index(drop=True)\n",
    "bursts_HR_single_limbs.groupby(\"sub_ID\")[\"AUC\"].describe()\n",
    "\n",
    "to_remove = bursts_HR_single_limbs[bursts_HR_single_limbs[\"sub_ID\"] == \"633\"].index\n",
    "bursts_HR_single_limbs = bursts_HR_single_limbs.drop(to_remove).reset_index(drop=True)\n",
    "\n",
    "# discard subjects with AUC < 14\n",
    "# to_remove = bursts_HR_single_limbs[bursts_HR_single_limbs[\"AUC\"] < 14].index\n",
    "# bursts_HR_single_limbs = bursts_HR_single_limbs.drop(to_remove).reset_index(drop=True)"
   ]
  },
  {
   "cell_type": "code",
   "execution_count": 18,
   "metadata": {},
   "outputs": [
    {
     "data": {
      "text/plain": [
       "Text(0.5, 1.0, 'Wake')"
      ]
     },
     "execution_count": 18,
     "metadata": {},
     "output_type": "execute_result"
    }
   ],
   "source": [
    "# Whole SPT\n",
    "HR_response_mean_within_singleLimbs = bursts_HR_single_limbs.groupby(\"sub_ID\")[\"HR_response_normalized\"].mean()\n",
    "\n",
    "sem = HR_response_mean_within_singleLimbs.to_numpy().std() / np.sqrt(HR_response_mean_within_singleLimbs.to_numpy().shape[0])\n",
    "\n",
    "plt.figure(figsize=(15, 9))\n",
    "plt.plot(t, HR_response_mean_within_singleLimbs.mean(), label = \"single limb\", color = 'blue')\n",
    "plt.errorbar(t, HR_response_mean_within_singleLimbs.mean(), yerr = sem, fmt = '-o', color = 'blue', ecolor='blue', capsize=3)\n",
    "plt.title(\"Whole SPT\")\n",
    "\n",
    "# Sleep\n",
    "HR_response_mean_within_singleLimbs_sleep = bursts_HR_single_limbs[bursts_HR_single_limbs[\"SIB\"] == 1].groupby(\"sub_ID\")[\"HR_response_normalized\"].mean()\n",
    "\n",
    "sem = HR_response_mean_within_singleLimbs_sleep.to_numpy().std() / np.sqrt(HR_response_mean_within_singleLimbs_sleep.to_numpy().shape[0])\n",
    "\n",
    "plt.figure(figsize=(15, 9))\n",
    "plt.plot(t, HR_response_mean_within_singleLimbs_sleep.mean(), label = \"single limb\", color = 'blue')\n",
    "plt.errorbar(t, HR_response_mean_within_singleLimbs_sleep.mean(), yerr = sem, fmt = '-o', color = 'blue', ecolor='blue', capsize=3)\n",
    "plt.title(\"Sleep\")\n",
    "\n",
    "# Wake\n",
    "HR_response_mean_within_singleLimbs_wake = bursts_HR_single_limbs[bursts_HR_single_limbs[\"SIB\"] == 0].groupby(\"sub_ID\")[\"HR_response_normalized\"].mean()\n",
    "\n",
    "sem = HR_response_mean_within_singleLimbs_wake.to_numpy().std() / np.sqrt(HR_response_mean_within_singleLimbs_wake.to_numpy().shape[0])\n",
    "\n",
    "plt.figure(figsize=(15, 9))\n",
    "plt.plot(t, HR_response_mean_within_singleLimbs_wake.mean(), label = \"single limb\", color = 'blue')\n",
    "plt.errorbar(t, HR_response_mean_within_singleLimbs_wake.mean(), yerr = sem, fmt = '-o', color = 'blue', ecolor='blue', capsize=3)\n",
    "plt.title(\"Wake\")"
   ]
  },
  {
   "cell_type": "markdown",
   "metadata": {},
   "source": [
    "# Single limbs alone (Only `LW`, Only `RW`, Only `LL`, Only `RL`)"
   ]
  },
  {
   "cell_type": "code",
   "execution_count": 19,
   "metadata": {},
   "outputs": [],
   "source": [
    "bursts_LW = bursts_HR[bursts_HR[\"Limbs\"] == {\"LW\"}].reset_index(drop=True)\n",
    "bursts_RW = bursts_HR[bursts_HR[\"Limbs\"] == {\"RW\"}].reset_index(drop=True)\n",
    "bursts_LL = bursts_HR[bursts_HR[\"Limbs\"] == {\"LL\"}].reset_index(drop=True)\n",
    "bursts_RL = bursts_HR[bursts_HR[\"Limbs\"] == {\"RL\"}].reset_index(drop=True)\n",
    "bursts_T = bursts_HR[bursts_HR[\"Limbs\"] == {\"T\"}].reset_index(drop=True)\n",
    "\n",
    "HR_response_mean_within_LW = bursts_LW.groupby(\"sub_ID\")[\"HR_response_normalized\"].mean()\n",
    "HR_response_mean_within_RW = bursts_RW.groupby(\"sub_ID\")[\"HR_response_normalized\"].mean()\n",
    "HR_response_mean_within_LL = bursts_LL.groupby(\"sub_ID\")[\"HR_response_normalized\"].mean()\n",
    "HR_response_mean_within_RL = bursts_RL.groupby(\"sub_ID\")[\"HR_response_normalized\"].mean()\n",
    "HR_response_mean_within_T = bursts_T.groupby(\"sub_ID\")[\"HR_response_normalized\"].mean()\n",
    "\n",
    "sem_LW = HR_response_mean_within_LW.to_numpy().std() / np.sqrt(HR_response_mean_within_LW.to_numpy().shape[0])\n",
    "sem_RW = HR_response_mean_within_RW.to_numpy().std() / np.sqrt(HR_response_mean_within_RW.to_numpy().shape[0])\n",
    "sem_LL = HR_response_mean_within_LL.dropna().to_numpy().std() / np.sqrt(HR_response_mean_within_LL.dropna().to_numpy().shape[0])\n",
    "sem_RL = HR_response_mean_within_RL.to_numpy().std() / np.sqrt(HR_response_mean_within_RL.to_numpy().shape[0])\n",
    "sem_T = HR_response_mean_within_T.to_numpy().std() / np.sqrt(HR_response_mean_within_T.to_numpy().shape[0])\n",
    "\n",
    "plt.figure(figsize=(15, 9))\n",
    "plt.subplot(2, 2, 1)\n",
    "plt.plot(t, HR_response_mean_within_LW.mean(), label = \"LW\", color = 'blue')\n",
    "plt.errorbar(t, HR_response_mean_within_LW.mean(), yerr = sem_LW, fmt = '-o', color = 'blue', ecolor='blue', capsize=3)\n",
    "plt.xlim(-12, 28)\n",
    "plt.title(\"LW\")\n",
    "\n",
    "plt.subplot(2, 2, 2)\n",
    "plt.plot(t, HR_response_mean_within_RW.mean(), label = \"RW\", color = 'orange')\n",
    "plt.errorbar(t, HR_response_mean_within_RW.mean(), yerr = sem_RW, fmt = '-o', color = 'orange', ecolor='orange', capsize=3)\n",
    "plt.xlim(-12, 28)\n",
    "plt.title(\"RW\")\n",
    "\n",
    "plt.subplot(2, 2, 3)\n",
    "plt.plot(t, HR_response_mean_within_LL.mean(), label = \"LL\", color = 'green')\n",
    "plt.errorbar(t, HR_response_mean_within_LL.mean(), yerr = sem_LL, fmt = '-o', color = 'green', ecolor='green', capsize=3)\n",
    "plt.xlim(-12, 28)\n",
    "plt.title(\"LL\")\n",
    "\n",
    "plt.subplot(2, 2, 4)\n",
    "plt.plot(t, HR_response_mean_within_RL.mean(), label = \"RL\", color = 'red')\n",
    "plt.errorbar(t, HR_response_mean_within_RL.mean(), yerr = sem_RL, fmt = '-o', color = 'red', ecolor='red', capsize=3)\n",
    "plt.xlim(-12, 28)\n",
    "plt.title(\"RL\")\n",
    "\n",
    "plt.figure(figsize=(15, 9))\n",
    "plt.plot(t, HR_response_mean_within_T.mean(), label = \"T\", color = 'blue')\n",
    "plt.errorbar(t, HR_response_mean_within_T.mean(), yerr = sem_T, fmt = '-o', color = 'blue', ecolor='blue', capsize=3)\n",
    "plt.xlim(-12, 28)\n",
    "plt.title(\"T\")\n",
    "\n",
    "\n",
    "plt.tight_layout()"
   ]
  },
  {
   "cell_type": "markdown",
   "metadata": {},
   "source": [
    "# Lower Body Movements"
   ]
  },
  {
   "cell_type": "code",
   "execution_count": 20,
   "metadata": {},
   "outputs": [
    {
     "data": {
      "text/plain": [
       "<ErrorbarContainer object of 3 artists>"
      ]
     },
     "execution_count": 20,
     "metadata": {},
     "output_type": "execute_result"
    }
   ],
   "source": [
    "# With trunk\n",
    "bursts_lower_body = bursts_HR[(bursts_HR[\"Limbs\"] == {\"LL\", \"RL\"}) | (bursts_HR[\"Limbs\"] == {\"LL\", \"RL\", \"T\"})].reset_index(drop=True)\n",
    "\n",
    "HR_response_mean_within_lower_body = bursts_lower_body.groupby(\"sub_ID\")[\"HR_response_normalized\"].mean()\n",
    "\n",
    "sem = HR_response_mean_within_lower_body.to_numpy().std() / np.sqrt(HR_response_mean_within_lower_body.to_numpy().shape[0])\n",
    "\n",
    "plt.figure(figsize=(15, 9))\n",
    "plt.plot(t, HR_response_mean_within_lower_body.mean(), label = \"lower body\", color = 'blue')\n",
    "plt.errorbar(t, HR_response_mean_within_lower_body.mean(), yerr = sem, fmt = '-o', color = 'blue', ecolor='blue', capsize=3)\n",
    "\n",
    "# No trunk\n",
    "bursts_lower_body = bursts_HR[(bursts_HR[\"Limbs\"] == {\"LL\", \"RL\"})].reset_index(drop=True)\n",
    "\n",
    "HR_response_mean_within_lower_body = bursts_lower_body.groupby(\"sub_ID\")[\"HR_response_normalized\"].mean()\n",
    "\n",
    "sem = HR_response_mean_within_lower_body.to_numpy().std() / np.sqrt(HR_response_mean_within_lower_body.to_numpy().shape[0])\n",
    "\n",
    "plt.figure(figsize=(15, 9))\n",
    "plt.plot(t, HR_response_mean_within_lower_body.mean(), label = \"lower body\", color = 'blue')\n",
    "plt.errorbar(t, HR_response_mean_within_lower_body.mean(), yerr = sem, fmt = '-o', color = 'blue', ecolor='blue', capsize=3)"
   ]
  },
  {
   "cell_type": "markdown",
   "metadata": {},
   "source": [
    "# Upper Body Movements"
   ]
  },
  {
   "cell_type": "code",
   "execution_count": 21,
   "metadata": {},
   "outputs": [
    {
     "data": {
      "text/plain": [
       "<ErrorbarContainer object of 3 artists>"
      ]
     },
     "execution_count": 21,
     "metadata": {},
     "output_type": "execute_result"
    }
   ],
   "source": [
    "# With trunk\n",
    "bursts_upper_body = bursts_HR[(bursts_HR[\"Limbs\"] == {\"LW\", \"RW\"}) | (bursts_HR[\"Limbs\"] == {\"LW\", \"RW\", \"T\"})].reset_index(drop=True)\n",
    "\n",
    "HR_response_mean_within_upper_body = bursts_upper_body.groupby(\"sub_ID\")[\"HR_response_normalized\"].mean()\n",
    "\n",
    "sem = HR_response_mean_within_upper_body.to_numpy().std() / np.sqrt(HR_response_mean_within_upper_body.to_numpy().shape[0])\n",
    "\n",
    "plt.figure(figsize=(15, 9))\n",
    "plt.plot(t, HR_response_mean_within_upper_body.mean(), label = \"upper body\", color = 'blue')\n",
    "plt.errorbar(t, HR_response_mean_within_upper_body.mean(), yerr = sem, fmt = '-o', color = 'blue', ecolor='blue', capsize=3)\n",
    "\n",
    "# No trunk\n",
    "bursts_upper_body = bursts_HR[(bursts_HR[\"Limbs\"] == {\"LW\", \"RW\"})].reset_index(drop=True)\n",
    "\n",
    "HR_response_mean_within_upper_body = bursts_upper_body.groupby(\"sub_ID\")[\"HR_response_normalized\"].mean()\n",
    "\n",
    "sem = HR_response_mean_within_upper_body.to_numpy().std() / np.sqrt(HR_response_mean_within_upper_body.to_numpy().shape[0])\n",
    "\n",
    "plt.figure(figsize=(15, 9))\n",
    "plt.plot(t, HR_response_mean_within_upper_body.mean(), label = \"upper body\", color = 'blue')\n",
    "plt.errorbar(t, HR_response_mean_within_upper_body.mean(), yerr = sem, fmt = '-o', color = 'blue', ecolor='blue', capsize=3)"
   ]
  },
  {
   "cell_type": "markdown",
   "metadata": {},
   "source": [
    "# Unilateral movements"
   ]
  },
  {
   "cell_type": "code",
   "execution_count": 24,
   "metadata": {},
   "outputs": [
    {
     "data": {
      "text/plain": [
       "<ErrorbarContainer object of 3 artists>"
      ]
     },
     "execution_count": 24,
     "metadata": {},
     "output_type": "execute_result"
    }
   ],
   "source": [
    "bursts_left = bursts_HR[(bursts_HR[\"Limbs\"] == {\"LL\", \"LW\"}) | (bursts_HR[\"Limbs\"] == {\"LL\", \"LW\", \"T\"})].reset_index(drop=True)\n",
    "\n",
    "HR_response_mean_within_left = bursts_left.groupby(\"sub_ID\")[\"HR_response_normalized\"].mean()\n",
    "\n",
    "sem = HR_response_mean_within_left.dropna().to_numpy().std() / np.sqrt(HR_response_mean_within_left.dropna().to_numpy().shape[0])\n",
    "\n",
    "plt.figure(figsize=(15, 9))\n",
    "plt.plot(t, HR_response_mean_within_left.mean(), label = \"left\", color = 'blue')\n",
    "plt.errorbar(t, HR_response_mean_within_left.mean(), yerr = sem, fmt = '-o', color = 'blue', ecolor='blue', capsize=3)\n",
    "\n",
    "bursts_right = bursts_HR[(bursts_HR[\"Limbs\"] == {\"RL\", \"RW\"}) | (bursts_HR[\"Limbs\"] == {\"RL\", \"RW\", \"T\"})].reset_index(drop=True)\n",
    "\n",
    "HR_response_mean_within_right = bursts_right.groupby(\"sub_ID\")[\"HR_response_normalized\"].mean()\n",
    "\n",
    "sem = HR_response_mean_within_right.to_numpy().std() / np.sqrt(HR_response_mean_within_right.to_numpy().shape[0])\n",
    "\n",
    "plt.figure(figsize=(15, 9))\n",
    "plt.plot(t, HR_response_mean_within_right.mean(), label = \"right\", color = 'blue')\n",
    "plt.errorbar(t, HR_response_mean_within_right.mean(), yerr = sem, fmt = '-o', color = 'blue', ecolor='blue', capsize=3)"
   ]
  },
  {
   "cell_type": "markdown",
   "metadata": {},
   "source": [
    "# All movements except 5 limbs"
   ]
  },
  {
   "cell_type": "code",
   "execution_count": 26,
   "metadata": {},
   "outputs": [
    {
     "data": {
      "text/plain": [
       "count     9.000000\n",
       "mean     18.941544\n",
       "std       8.765316\n",
       "min      10.831330\n",
       "25%      13.632555\n",
       "50%      18.461241\n",
       "75%      19.442349\n",
       "max      40.367206\n",
       "Name: HR_peak, dtype: float64"
      ]
     },
     "execution_count": 26,
     "metadata": {},
     "output_type": "execute_result"
    }
   ],
   "source": [
    "bursts_HR_all_limbs = bursts_HR[bursts_HR[\"Limbs\"] != set((\"LL\", \"LW\", \"RL\", \"RW\", \"T\"))].reset_index(drop=True)\n",
    "\n",
    "HR_response_category_mean_within = bursts_HR_all_limbs.groupby(\"sub_ID\")[\"HR_response_normalized\"].mean()\n",
    "\n",
    "sem = HR_response_category_mean_within.to_numpy().std() / np.sqrt(HR_response_category_mean_within.to_numpy().shape[0])\n",
    "\n",
    "t = np.arange(-19, 50)\n",
    "plt.figure(figsize=(15, 9))\n",
    "plt.plot(t, HR_response_category_mean_within.mean(), color = 'blue')\n",
    "plt.errorbar(t, HR_response_category_mean_within.mean(), yerr = sem, fmt = '-o', color = 'blue', ecolor='blue', capsize=3)\n",
    "\n",
    "HR_peak_all_limbs = bursts_HR_all_limbs.groupby(\"sub_ID\")[\"HR_peak\"].mean()\n",
    "HR_peak_all_limbs.describe()"
   ]
  },
  {
   "cell_type": "markdown",
   "metadata": {},
   "source": [
    "# Acc "
   ]
  },
  {
   "cell_type": "markdown",
   "metadata": {},
   "source": [
    "## Subject-wise plots"
   ]
  },
  {
   "cell_type": "code",
   "execution_count": 95,
   "metadata": {},
   "outputs": [],
   "source": [
    "# Single limbs\n",
    "bursts_ACC_single_limbs =  bursts_HR[(bursts_HR[\"Limbs\"] == {\"LW\"}) | (bursts_HR[\"Limbs\"] == {\"RW\"}) | (bursts_HR[\"Limbs\"] == {\"RL\"}) | (bursts_HR[\"Limbs\"] == {\"LL\"}) | (bursts_HR[\"Limbs\"] == {\"T\"})].reset_index(drop=True)\n",
    "# Whole SPT\n",
    "ACC_response_mean_within_singleLimbs = bursts_ACC_single_limbs.groupby(\"sub_ID\")[\"HR_response_normalized\"].mean()\n",
    "\n",
    "# t = np.arange(-19, 50)\n",
    "\n",
    "# for i in range(0, len(subjects)):\n",
    "#     plt.figure(figsize=(19, 11))\n",
    "#     plt.plot(t, HR_response_mean_within_singleLimbs[subjects[i]], label = subjects[i])\n",
    "#     plt.legend()\n",
    "\n",
    "# All limbs\n",
    "bursts_ACC_all_limbs = bursts_HR[bursts_HR[\"Limbs\"] == set((\"LL\", \"LW\", \"RL\", \"RW\", \"T\"))].reset_index(drop=True)\n",
    "bursts_ACC_all_limbs_sleep = bursts_ACC_all_limbs[bursts_ACC_all_limbs[\"SIB\"] == 1].reset_index(drop=True)\n",
    "# divide in low, med and high HR response based on the 1/3 and 2/3 percentiles\n",
    "ACC_response_percentiles = bursts_ACC_all_limbs.groupby(\"sub_ID\")[\"AUC\"].describe(percentiles=[1/3, 2/3])\n",
    "AUC_33 = ACC_response_percentiles[\"33.3%\"]\n",
    "AUC_66 = ACC_response_percentiles[\"66.7%\"]\n",
    "\n",
    "bursts_ACC_all_limbs[\"ACC_response_category\"] = \"medium\"\n",
    "for i, sub in enumerate(subjects):\n",
    "    bursts_ACC_all_limbs.loc[(bursts_ACC_all_limbs[\"sub_ID\"] == sub) & (bursts_ACC_all_limbs[\"AUC\"] < AUC_33.loc[sub]), \"ACC_response_category\"] = \"low\"\n",
    "    bursts_ACC_all_limbs.loc[(bursts_ACC_all_limbs[\"sub_ID\"] == sub) & (bursts_ACC_all_limbs[\"AUC\"] > AUC_66.loc[sub]), \"ACC_response_category\"] = \"high\"\n",
    "\n",
    "ACC_response_category_mean_within = bursts_ACC_all_limbs.groupby([\"sub_ID\", \"ACC_response_category\"])[\"ACC_response\"].mean().unstack()\n",
    "\n",
    "for i in range(0, len(subjects)):\n",
    "    plt.figure(figsize=(19, 11))\n",
    "    plt.plot(t, ACC_response_category_mean_within.loc[subjects[i]][\"high\"], label = \"high\")\n",
    "    plt.plot(t, ACC_response_category_mean_within.loc[subjects[i]][\"medium\"], label = \"medium\")\n",
    "    plt.plot(t, ACC_response_category_mean_within.loc[subjects[i]][\"low\"], label = \"low\")\n",
    "    plt.title(subjects[i])"
   ]
  },
  {
   "cell_type": "markdown",
   "metadata": {},
   "source": [
    "## All limbs - Sleep vs Wake"
   ]
  },
  {
   "cell_type": "code",
   "execution_count": 60,
   "metadata": {},
   "outputs": [
    {
     "data": {
      "text/plain": [
       "<matplotlib.legend.Legend at 0x7fadea7a4130>"
      ]
     },
     "execution_count": 60,
     "metadata": {},
     "output_type": "execute_result"
    }
   ],
   "source": [
    "bursts_ACC_all_limbs = bursts_HR[bursts_HR[\"Limbs\"] == set((\"LL\", \"LW\", \"RL\", \"RW\", \"T\"))].reset_index(drop=True) # all limbs together\n",
    "# bursts_ACC_all_limbs = bursts_HR # all limbs\n",
    "bursts_ACC_all_limbs_sleep = bursts_ACC_all_limbs[bursts_ACC_all_limbs[\"SIB\"] == 1].reset_index(drop=True)\n",
    "bursts_ACC_all_limbs_wake = bursts_ACC_all_limbs[bursts_ACC_all_limbs[\"SIB\"] == 0].reset_index(drop=True)\n",
    "\n",
    "ACC_response_mean_within_sleep = bursts_ACC_all_limbs_sleep.groupby(\"sub_ID\")[\"ACC_response\"].mean()\n",
    "ACC_response_mean_within_wake = bursts_ACC_all_limbs_wake.groupby(\"sub_ID\")[\"ACC_response\"].mean()\n",
    "\n",
    "sem_sleep = ACC_response_mean_within_sleep.to_numpy().std() / np.sqrt(ACC_response_mean_within_sleep.to_numpy().shape[0])\n",
    "sem_wake = ACC_response_mean_within_wake.to_numpy().std() / np.sqrt(ACC_response_mean_within_wake.to_numpy().shape[0])\n",
    "\n",
    "t = np.arange(-19, 50)\n",
    "\n",
    "plt.figure(figsize=(15, 9))\n",
    "plt.plot(t, ACC_response_mean_within_sleep.mean(), label = \"sleep\", color = 'blue')\n",
    "plt.errorbar(t, ACC_response_mean_within_sleep.mean(), yerr = sem_sleep, fmt = '-o', color = 'blue', ecolor='blue', capsize=3)\n",
    "\n",
    "plt.plot(t, ACC_response_mean_within_wake.mean(), label = \"wake\", color = 'orange')\n",
    "plt.errorbar(t, ACC_response_mean_within_wake.mean(), yerr = sem_wake, fmt = '-o', color = 'orange', ecolor='orange', capsize=3)\n",
    "\n",
    "plt.legend()"
   ]
  },
  {
   "cell_type": "markdown",
   "metadata": {},
   "source": [
    "## ALL limbs - HIGH vs MED vs LOW"
   ]
  },
  {
   "cell_type": "code",
   "execution_count": 65,
   "metadata": {},
   "outputs": [],
   "source": [
    "bursts_ACC_all_limbs = bursts_HR[bursts_HR[\"Limbs\"] == set((\"LL\", \"LW\", \"RL\", \"RW\", \"T\"))].reset_index(drop=True)"
   ]
  },
  {
   "cell_type": "markdown",
   "metadata": {},
   "source": [
    "### Whole SPT"
   ]
  },
  {
   "cell_type": "code",
   "execution_count": 66,
   "metadata": {},
   "outputs": [],
   "source": [
    "# divide in low, med and high HR response based on the 1/3 and 2/3 percentiles\n",
    "ACC_response_percentiles = bursts_ACC_all_limbs.groupby(\"sub_ID\")[\"AUC\"].describe(percentiles=[1/3, 2/3])\n",
    "AUC_33 = ACC_response_percentiles[\"33.3%\"]\n",
    "AUC_66 = ACC_response_percentiles[\"66.7%\"]\n",
    "\n",
    "bursts_ACC_all_limbs[\"ACC_response_category\"] = \"medium\"\n",
    "for i, sub in enumerate(subjects):\n",
    "    bursts_ACC_all_limbs.loc[(bursts_ACC_all_limbs[\"sub_ID\"] == sub) & (bursts_ACC_all_limbs[\"AUC\"] < AUC_33.loc[sub]), \"ACC_response_category\"] = \"low\"\n",
    "    bursts_ACC_all_limbs.loc[(bursts_ACC_all_limbs[\"sub_ID\"] == sub) & (bursts_ACC_all_limbs[\"AUC\"] > AUC_66.loc[sub]), \"ACC_response_category\"] = \"high\""
   ]
  },
  {
   "cell_type": "code",
   "execution_count": 53,
   "metadata": {},
   "outputs": [
    {
     "data": {
      "text/plain": [
       "<matplotlib.legend.Legend at 0x7fae00337250>"
      ]
     },
     "execution_count": 53,
     "metadata": {},
     "output_type": "execute_result"
    }
   ],
   "source": [
    "# coherent averaging within subjects for each category\n",
    "ACC_response_category_mean_within = bursts_ACC_all_limbs.groupby([\"sub_ID\", \"ACC_response_category\"])[\"ACC_response\"].mean().unstack()\n",
    "\n",
    "sem_high = ACC_response_category_mean_within[\"high\"].to_numpy().std() / np.sqrt(ACC_response_category_mean_within[\"high\"].to_numpy().shape[0])\n",
    "sem_medium = ACC_response_category_mean_within[\"medium\"].to_numpy().std() / np.sqrt(ACC_response_category_mean_within[\"medium\"].to_numpy().shape[0])\n",
    "sem_low = ACC_response_category_mean_within[\"low\"].to_numpy().std() / np.sqrt(ACC_response_category_mean_within[\"low\"].to_numpy().shape[0])\n",
    "\n",
    "t = np.arange(-19, 50, 1)\n",
    "plt.figure(figsize=(15, 9))\n",
    "plt.plot(t, ACC_response_category_mean_within[\"low\"].mean(), label = \"low\", color = 'blue')\n",
    "plt.errorbar(t, ACC_response_category_mean_within[\"low\"].mean(), yerr = sem_low, fmt = '-o', color = 'blue', ecolor='blue', capsize=3)\n",
    "\n",
    "plt.plot(t, ACC_response_category_mean_within[\"medium\"].mean(), label = \"medium\", color = 'orange')\n",
    "plt.errorbar(t, ACC_response_category_mean_within[\"medium\"].mean(), yerr = sem_medium, fmt = '-o', color = 'orange', ecolor='orange', capsize=3)\n",
    "\n",
    "plt.plot(t, ACC_response_category_mean_within[\"high\"].mean(), label = \"high\", color = 'red')\n",
    "plt.errorbar(t, ACC_response_category_mean_within[\"high\"].mean(), yerr = sem_high, fmt = '-o', color = 'red', ecolor='red', capsize=3)\n",
    "\n",
    "plt.legend()"
   ]
  },
  {
   "cell_type": "markdown",
   "metadata": {},
   "source": [
    "## Sleep"
   ]
  },
  {
   "cell_type": "code",
   "execution_count": 67,
   "metadata": {},
   "outputs": [],
   "source": [
    "bursts_ACC_all_limbs_sleep = bursts_ACC_all_limbs[bursts_ACC_all_limbs[\"SIB\"] == 1].reset_index(drop=True)"
   ]
  },
  {
   "cell_type": "code",
   "execution_count": 68,
   "metadata": {},
   "outputs": [],
   "source": [
    "# divide in low, med and high HR response based on the 1/3 and 2/3 percentiles\n",
    "ACC_response_percentiles = bursts_ACC_all_limbs_sleep.groupby(\"sub_ID\")[\"AUC\"].describe(percentiles=[1/3, 2/3])\n",
    "AUC_33_sleep = ACC_response_percentiles[\"33.3%\"]\n",
    "AUC_66_sleep = ACC_response_percentiles[\"66.7%\"]\n",
    "\n",
    "bursts_ACC_all_limbs_sleep[\"ACC_response_category\"] = \"medium\"\n",
    "for i, sub in enumerate(subjects):\n",
    "    bursts_ACC_all_limbs_sleep.loc[(bursts_ACC_all_limbs_sleep[\"sub_ID\"] == sub) & (bursts_ACC_all_limbs_sleep[\"AUC\"] < AUC_33_sleep.loc[sub]), \"ACC_response_category\"] = \"low\"\n",
    "    bursts_ACC_all_limbs_sleep.loc[(bursts_ACC_all_limbs_sleep[\"sub_ID\"] == sub) & (bursts_ACC_all_limbs_sleep[\"AUC\"] > AUC_66_sleep.loc[sub]), \"ACC_response_category\"] = \"high\""
   ]
  },
  {
   "cell_type": "code",
   "execution_count": 69,
   "metadata": {},
   "outputs": [
    {
     "data": {
      "text/plain": [
       "<matplotlib.legend.Legend at 0x7fadf10cada0>"
      ]
     },
     "execution_count": 69,
     "metadata": {},
     "output_type": "execute_result"
    }
   ],
   "source": [
    "# coherent averaging within subjects for each category\n",
    "ACC_response_category_mean_within_sleep = bursts_ACC_all_limbs_sleep.groupby([\"sub_ID\", \"ACC_response_category\"])[\"ACC_response\"].mean().unstack()\n",
    "\n",
    "sem_high = ACC_response_category_mean_within_sleep[\"high\"].to_numpy().std() / np.sqrt(ACC_response_category_mean_within_sleep[\"high\"].to_numpy().shape[0])\n",
    "sem_medium = ACC_response_category_mean_within_sleep[\"medium\"].to_numpy().std() / np.sqrt(ACC_response_category_mean_within_sleep[\"medium\"].to_numpy().shape[0])\n",
    "sem_low = ACC_response_category_mean_within_sleep[\"low\"].to_numpy().std() / np.sqrt(ACC_response_category_mean_within_sleep[\"low\"].to_numpy().shape[0])\n",
    "\n",
    "t = np.arange(-19, 50, 1)\n",
    "plt.figure(figsize=(15, 9))\n",
    "plt.plot(t, ACC_response_category_mean_within_sleep[\"low\"].mean(), label = \"low\", color = 'blue')\n",
    "plt.errorbar(t, ACC_response_category_mean_within_sleep[\"low\"].mean(), yerr = sem_low, fmt = '-o', color = 'blue', ecolor='blue', capsize=3)\n",
    "\n",
    "plt.plot(t, ACC_response_category_mean_within_sleep[\"medium\"].mean(), label = \"medium\", color = 'orange')\n",
    "plt.errorbar(t, ACC_response_category_mean_within_sleep[\"medium\"].mean(), yerr = sem_medium, fmt = '-o', color = 'orange', ecolor='orange', capsize=3)\n",
    "\n",
    "plt.plot(t, ACC_response_category_mean_within_sleep[\"high\"].mean(), label = \"high\", color = 'red')\n",
    "plt.errorbar(t, ACC_response_category_mean_within_sleep[\"high\"].mean(), yerr = sem_high, fmt = '-o', color = 'red', ecolor='red', capsize=3)\n",
    "\n",
    "plt.legend()"
   ]
  },
  {
   "cell_type": "markdown",
   "metadata": {},
   "source": [
    "## Wake"
   ]
  },
  {
   "cell_type": "code",
   "execution_count": 50,
   "metadata": {},
   "outputs": [],
   "source": [
    "bursts_ACC_all_limbs_wake = bursts_ACC_all_limbs[bursts_ACC_all_limbs[\"SIB\"] == 0].reset_index(drop=True)"
   ]
  },
  {
   "cell_type": "code",
   "execution_count": 51,
   "metadata": {},
   "outputs": [],
   "source": [
    "# divide in low, med and high HR response based on the 1/3 and 2/3 percentiles\n",
    "ACC_response_percentiles = bursts_ACC_all_limbs_wake.groupby(\"sub_ID\")[\"AUC\"].describe(percentiles=[1/3, 2/3])\n",
    "AUC_33_wake = ACC_response_percentiles[\"33.3%\"]\n",
    "AUC_66_wake = ACC_response_percentiles[\"66.7%\"]\n",
    "\n",
    "bursts_ACC_all_limbs_wake[\"ACC_response_category\"] = \"medium\"\n",
    "for i, sub in enumerate(subjects):\n",
    "    bursts_ACC_all_limbs_wake.loc[(bursts_ACC_all_limbs_wake[\"sub_ID\"] == sub) & (bursts_ACC_all_limbs_wake[\"AUC\"] < AUC_33_wake.loc[sub]), \"ACC_response_category\"] = \"low\"\n",
    "    bursts_ACC_all_limbs_wake.loc[(bursts_ACC_all_limbs_wake[\"sub_ID\"] == sub) & (bursts_ACC_all_limbs_wake[\"AUC\"] > AUC_66_wake.loc[sub]), \"ACC_response_category\"] = \"high\""
   ]
  },
  {
   "cell_type": "code",
   "execution_count": 52,
   "metadata": {},
   "outputs": [
    {
     "data": {
      "text/plain": [
       "<matplotlib.legend.Legend at 0x7fadffd798a0>"
      ]
     },
     "execution_count": 52,
     "metadata": {},
     "output_type": "execute_result"
    }
   ],
   "source": [
    "# coherent averaging within subjects for each category\n",
    "ACC_response_category_mean_within_wake = bursts_ACC_all_limbs_wake.groupby([\"sub_ID\", \"ACC_response_category\"])[\"ACC_response\"].mean().unstack()\n",
    "\n",
    "sem_high = ACC_response_category_mean_within_wake[\"high\"].dropna().to_numpy().std() / np.sqrt(ACC_response_category_mean_within_wake[\"high\"].dropna().to_numpy().shape[0])\n",
    "sem_medium = ACC_response_category_mean_within_wake[\"medium\"].dropna().to_numpy().std() / np.sqrt(ACC_response_category_mean_within_wake[\"medium\"].dropna().to_numpy().shape[0])\n",
    "sem_low = ACC_response_category_mean_within_wake[\"low\"].dropna().to_numpy().std() / np.sqrt(ACC_response_category_mean_within_wake[\"low\"].dropna().to_numpy().shape[0])\n",
    "\n",
    "t = np.arange(-19, 50, 1)\n",
    "plt.figure(figsize=(15, 9))\n",
    "plt.plot(t, ACC_response_category_mean_within_wake[\"low\"].dropna().mean(), label = \"low\", color = 'blue')\n",
    "plt.errorbar(t, ACC_response_category_mean_within_wake[\"low\"].dropna().mean(), yerr = sem_low, fmt = '-o', color = 'blue', ecolor='blue', capsize=3)\n",
    "\n",
    "plt.plot(t, ACC_response_category_mean_within_wake[\"medium\"].dropna().mean(), label = \"medium\", color = 'orange')\n",
    "plt.errorbar(t, ACC_response_category_mean_within_wake[\"medium\"].dropna().mean(), yerr = sem_medium, fmt = '-o', color = 'orange', ecolor='orange', capsize=3)\n",
    "\n",
    "plt.plot(t, ACC_response_category_mean_within_wake[\"high\"].dropna().mean(), label = \"high\", color = 'red')\n",
    "plt.errorbar(t, ACC_response_category_mean_within_wake[\"high\"].dropna().mean(), yerr = sem_high, fmt = '-o', color = 'red', ecolor='red', capsize=3)\n",
    "\n",
    "plt.legend()"
   ]
  },
  {
   "cell_type": "markdown",
   "metadata": {},
   "source": [
    "# Regression"
   ]
  },
  {
   "cell_type": "code",
   "execution_count": 28,
   "metadata": {},
   "outputs": [
    {
     "data": {
      "text/html": [
       "<div>\n",
       "<style scoped>\n",
       "    .dataframe tbody tr th:only-of-type {\n",
       "        vertical-align: middle;\n",
       "    }\n",
       "\n",
       "    .dataframe tbody tr th {\n",
       "        vertical-align: top;\n",
       "    }\n",
       "\n",
       "    .dataframe thead th {\n",
       "        text-align: right;\n",
       "    }\n",
       "</style>\n",
       "<table border=\"1\" class=\"dataframe\">\n",
       "  <thead>\n",
       "    <tr style=\"text-align: right;\">\n",
       "      <th></th>\n",
       "      <th>Start</th>\n",
       "      <th>End</th>\n",
       "      <th>AUC</th>\n",
       "      <th>PC</th>\n",
       "      <th>transition</th>\n",
       "      <th>Limbs</th>\n",
       "      <th>SIB</th>\n",
       "      <th>sub_ID</th>\n",
       "      <th>ACC_response</th>\n",
       "      <th>HR_response</th>\n",
       "      <th>HR_response_normalized</th>\n",
       "      <th>HR_baseline</th>\n",
       "      <th>HR_peak</th>\n",
       "      <th>HR_peak_latency</th>\n",
       "    </tr>\n",
       "  </thead>\n",
       "  <tbody>\n",
       "    <tr>\n",
       "      <th>0</th>\n",
       "      <td>2024-02-28 23:02:28.765630007</td>\n",
       "      <td>2024-02-28 23:02:31.105629921</td>\n",
       "      <td>6.965556e+03</td>\n",
       "      <td>0.0</td>\n",
       "      <td>None</td>\n",
       "      <td>{LW, T}</td>\n",
       "      <td>1</td>\n",
       "      <td>158</td>\n",
       "      <td>None</td>\n",
       "      <td>[81.3763655605152, 79.31300702523212, 77.34783...</td>\n",
       "      <td>[2.9331696699604493, 0.32322226398649434, -2.1...</td>\n",
       "      <td>79.057476</td>\n",
       "      <td>2.933170</td>\n",
       "      <td>6.0</td>\n",
       "    </tr>\n",
       "    <tr>\n",
       "      <th>1</th>\n",
       "      <td>2024-02-28 23:03:30.215630054</td>\n",
       "      <td>2024-02-28 23:03:32.105629921</td>\n",
       "      <td>6.534732e+03</td>\n",
       "      <td>0.0</td>\n",
       "      <td>None</td>\n",
       "      <td>{LW, T}</td>\n",
       "      <td>1</td>\n",
       "      <td>158</td>\n",
       "      <td>[21.685460424790747, 28.13815298028861, 14.266...</td>\n",
       "      <td>[69.75336400943675, 75.84627452807841, 75.8488...</td>\n",
       "      <td>[-8.115480410659373, -0.08942799216255537, -0....</td>\n",
       "      <td>75.914163</td>\n",
       "      <td>3.951068</td>\n",
       "      <td>44.0</td>\n",
       "    </tr>\n",
       "    <tr>\n",
       "      <th>2</th>\n",
       "      <td>2024-02-28 23:08:15.275629997</td>\n",
       "      <td>2024-02-28 23:08:15.635629892</td>\n",
       "      <td>7.761742e+02</td>\n",
       "      <td>0.0</td>\n",
       "      <td>None</td>\n",
       "      <td>{LW}</td>\n",
       "      <td>1</td>\n",
       "      <td>158</td>\n",
       "      <td>[-20.92211175552717, -1.6028287851219574, 1.47...</td>\n",
       "      <td>[73.69902935823436, 78.12130225835978, 78.1519...</td>\n",
       "      <td>[1.685935815921141, 7.787548852055352, 7.82978...</td>\n",
       "      <td>72.477112</td>\n",
       "      <td>9.990368</td>\n",
       "      <td>28.0</td>\n",
       "    </tr>\n",
       "    <tr>\n",
       "      <th>3</th>\n",
       "      <td>2024-02-28 23:17:41.875629902</td>\n",
       "      <td>2024-02-28 23:17:42.445630074</td>\n",
       "      <td>1.330175e+03</td>\n",
       "      <td>0.0</td>\n",
       "      <td>None</td>\n",
       "      <td>{LW}</td>\n",
       "      <td>1</td>\n",
       "      <td>158</td>\n",
       "      <td>[-11.010669724082462, 13.495555903064954, 0.63...</td>\n",
       "      <td>[75.84328019638515, 78.12715965978558, 73.6972...</td>\n",
       "      <td>[1.36255449131464, 4.414899484319747, -1.50556...</td>\n",
       "      <td>74.823766</td>\n",
       "      <td>8.753980</td>\n",
       "      <td>7.0</td>\n",
       "    </tr>\n",
       "    <tr>\n",
       "      <th>4</th>\n",
       "      <td>2024-02-28 23:31:54.005630016</td>\n",
       "      <td>2024-02-28 23:32:11.155630112</td>\n",
       "      <td>1.179498e+06</td>\n",
       "      <td>0.0</td>\n",
       "      <td>None</td>\n",
       "      <td>{RW, T, LL, RL, LW}</td>\n",
       "      <td>1</td>\n",
       "      <td>158</td>\n",
       "      <td>[43.69190609430005, 14.230339833499826, 28.264...</td>\n",
       "      <td>[73.69810238588468, 72.33059595781911, 78.1514...</td>\n",
       "      <td>[-1.7699620455902618, -3.5926712332491917, 4.1...</td>\n",
       "      <td>75.026035</td>\n",
       "      <td>38.834153</td>\n",
       "      <td>20.0</td>\n",
       "    </tr>\n",
       "    <tr>\n",
       "      <th>...</th>\n",
       "      <td>...</td>\n",
       "      <td>...</td>\n",
       "      <td>...</td>\n",
       "      <td>...</td>\n",
       "      <td>...</td>\n",
       "      <td>...</td>\n",
       "      <td>...</td>\n",
       "      <td>...</td>\n",
       "      <td>...</td>\n",
       "      <td>...</td>\n",
       "      <td>...</td>\n",
       "      <td>...</td>\n",
       "      <td>...</td>\n",
       "      <td>...</td>\n",
       "    </tr>\n",
       "    <tr>\n",
       "      <th>123</th>\n",
       "      <td>2024-03-21 06:13:49.784266233</td>\n",
       "      <td>2024-03-21 06:13:56.332916498</td>\n",
       "      <td>1.883960e+05</td>\n",
       "      <td>0.0</td>\n",
       "      <td>None</td>\n",
       "      <td>{RW, T, LL, RL, LW}</td>\n",
       "      <td>1</td>\n",
       "      <td>815</td>\n",
       "      <td>[-17.099892658735612, -74.16368991996812, -23....</td>\n",
       "      <td>[52.76078177127652, 52.40690521209172, 51.9092...</td>\n",
       "      <td>[2.313332726315778, 1.6270978198491548, 0.6619...</td>\n",
       "      <td>51.567846</td>\n",
       "      <td>23.109392</td>\n",
       "      <td>6.0</td>\n",
       "    </tr>\n",
       "    <tr>\n",
       "      <th>124</th>\n",
       "      <td>2024-03-21 06:15:25.049737692</td>\n",
       "      <td>2024-03-21 06:15:32.442916155</td>\n",
       "      <td>2.045755e+05</td>\n",
       "      <td>0.0</td>\n",
       "      <td>None</td>\n",
       "      <td>{RW, T, LL, RL, LW}</td>\n",
       "      <td>1</td>\n",
       "      <td>815</td>\n",
       "      <td>[-26.520409609075372, 14.781811106203321, 48.1...</td>\n",
       "      <td>[43.84215753223191, 48.200524051521654, 48.803...</td>\n",
       "      <td>[-14.243553771483093, -5.718470949524331, -4.5...</td>\n",
       "      <td>51.124037</td>\n",
       "      <td>32.816904</td>\n",
       "      <td>12.0</td>\n",
       "    </tr>\n",
       "    <tr>\n",
       "      <th>125</th>\n",
       "      <td>2024-03-21 06:19:12.092283487</td>\n",
       "      <td>2024-03-21 06:19:22.612916231</td>\n",
       "      <td>1.041819e+06</td>\n",
       "      <td>0.0</td>\n",
       "      <td>None</td>\n",
       "      <td>{RW, T, LL, RL, LW}</td>\n",
       "      <td>0</td>\n",
       "      <td>815</td>\n",
       "      <td>[-2.8377879804390034, -17.07592119054293, -5.8...</td>\n",
       "      <td>[52.75976035869659, 52.40426872036993, 52.4045...</td>\n",
       "      <td>[-1.514259614286999, -2.1778497626027615, -2.1...</td>\n",
       "      <td>53.570964</td>\n",
       "      <td>30.140481</td>\n",
       "      <td>9.0</td>\n",
       "    </tr>\n",
       "    <tr>\n",
       "      <th>126</th>\n",
       "      <td>2024-03-21 06:20:17.472915888</td>\n",
       "      <td>2024-03-21 06:20:23.864266157</td>\n",
       "      <td>6.140845e+04</td>\n",
       "      <td>0.0</td>\n",
       "      <td>None</td>\n",
       "      <td>{LL, RW, T, RL}</td>\n",
       "      <td>0</td>\n",
       "      <td>815</td>\n",
       "      <td>[7.613976770865989, 10.286245303647604, 22.261...</td>\n",
       "      <td>[54.988910716309306, 54.988639786929134, 55.37...</td>\n",
       "      <td>[2.9338769839278456, 2.933369830555904, 3.6633...</td>\n",
       "      <td>53.421587</td>\n",
       "      <td>21.802132</td>\n",
       "      <td>10.0</td>\n",
       "    </tr>\n",
       "    <tr>\n",
       "      <th>127</th>\n",
       "      <td>2024-03-21 06:24:32.162916183</td>\n",
       "      <td>2024-03-21 06:24:41.732916117</td>\n",
       "      <td>7.773423e+05</td>\n",
       "      <td>0.0</td>\n",
       "      <td>None</td>\n",
       "      <td>{RW, T, LL, RL, LW}</td>\n",
       "      <td>1</td>\n",
       "      <td>815</td>\n",
       "      <td>[-66.22373779976728, -96.47789747929725, -53.4...</td>\n",
       "      <td>None</td>\n",
       "      <td>None</td>\n",
       "      <td>NaN</td>\n",
       "      <td>NaN</td>\n",
       "      <td>NaN</td>\n",
       "    </tr>\n",
       "  </tbody>\n",
       "</table>\n",
       "<p>835 rows × 14 columns</p>\n",
       "</div>"
      ],
      "text/plain": [
       "                            Start                           End           AUC  \\\n",
       "0   2024-02-28 23:02:28.765630007 2024-02-28 23:02:31.105629921  6.965556e+03   \n",
       "1   2024-02-28 23:03:30.215630054 2024-02-28 23:03:32.105629921  6.534732e+03   \n",
       "2   2024-02-28 23:08:15.275629997 2024-02-28 23:08:15.635629892  7.761742e+02   \n",
       "3   2024-02-28 23:17:41.875629902 2024-02-28 23:17:42.445630074  1.330175e+03   \n",
       "4   2024-02-28 23:31:54.005630016 2024-02-28 23:32:11.155630112  1.179498e+06   \n",
       "..                            ...                           ...           ...   \n",
       "123 2024-03-21 06:13:49.784266233 2024-03-21 06:13:56.332916498  1.883960e+05   \n",
       "124 2024-03-21 06:15:25.049737692 2024-03-21 06:15:32.442916155  2.045755e+05   \n",
       "125 2024-03-21 06:19:12.092283487 2024-03-21 06:19:22.612916231  1.041819e+06   \n",
       "126 2024-03-21 06:20:17.472915888 2024-03-21 06:20:23.864266157  6.140845e+04   \n",
       "127 2024-03-21 06:24:32.162916183 2024-03-21 06:24:41.732916117  7.773423e+05   \n",
       "\n",
       "      PC transition                Limbs  SIB sub_ID  \\\n",
       "0    0.0       None              {LW, T}    1    158   \n",
       "1    0.0       None              {LW, T}    1    158   \n",
       "2    0.0       None                 {LW}    1    158   \n",
       "3    0.0       None                 {LW}    1    158   \n",
       "4    0.0       None  {RW, T, LL, RL, LW}    1    158   \n",
       "..   ...        ...                  ...  ...    ...   \n",
       "123  0.0       None  {RW, T, LL, RL, LW}    1    815   \n",
       "124  0.0       None  {RW, T, LL, RL, LW}    1    815   \n",
       "125  0.0       None  {RW, T, LL, RL, LW}    0    815   \n",
       "126  0.0       None      {LL, RW, T, RL}    0    815   \n",
       "127  0.0       None  {RW, T, LL, RL, LW}    1    815   \n",
       "\n",
       "                                          ACC_response  \\\n",
       "0                                                 None   \n",
       "1    [21.685460424790747, 28.13815298028861, 14.266...   \n",
       "2    [-20.92211175552717, -1.6028287851219574, 1.47...   \n",
       "3    [-11.010669724082462, 13.495555903064954, 0.63...   \n",
       "4    [43.69190609430005, 14.230339833499826, 28.264...   \n",
       "..                                                 ...   \n",
       "123  [-17.099892658735612, -74.16368991996812, -23....   \n",
       "124  [-26.520409609075372, 14.781811106203321, 48.1...   \n",
       "125  [-2.8377879804390034, -17.07592119054293, -5.8...   \n",
       "126  [7.613976770865989, 10.286245303647604, 22.261...   \n",
       "127  [-66.22373779976728, -96.47789747929725, -53.4...   \n",
       "\n",
       "                                           HR_response  \\\n",
       "0    [81.3763655605152, 79.31300702523212, 77.34783...   \n",
       "1    [69.75336400943675, 75.84627452807841, 75.8488...   \n",
       "2    [73.69902935823436, 78.12130225835978, 78.1519...   \n",
       "3    [75.84328019638515, 78.12715965978558, 73.6972...   \n",
       "4    [73.69810238588468, 72.33059595781911, 78.1514...   \n",
       "..                                                 ...   \n",
       "123  [52.76078177127652, 52.40690521209172, 51.9092...   \n",
       "124  [43.84215753223191, 48.200524051521654, 48.803...   \n",
       "125  [52.75976035869659, 52.40426872036993, 52.4045...   \n",
       "126  [54.988910716309306, 54.988639786929134, 55.37...   \n",
       "127                                               None   \n",
       "\n",
       "                                HR_response_normalized  HR_baseline  \\\n",
       "0    [2.9331696699604493, 0.32322226398649434, -2.1...    79.057476   \n",
       "1    [-8.115480410659373, -0.08942799216255537, -0....    75.914163   \n",
       "2    [1.685935815921141, 7.787548852055352, 7.82978...    72.477112   \n",
       "3    [1.36255449131464, 4.414899484319747, -1.50556...    74.823766   \n",
       "4    [-1.7699620455902618, -3.5926712332491917, 4.1...    75.026035   \n",
       "..                                                 ...          ...   \n",
       "123  [2.313332726315778, 1.6270978198491548, 0.6619...    51.567846   \n",
       "124  [-14.243553771483093, -5.718470949524331, -4.5...    51.124037   \n",
       "125  [-1.514259614286999, -2.1778497626027615, -2.1...    53.570964   \n",
       "126  [2.9338769839278456, 2.933369830555904, 3.6633...    53.421587   \n",
       "127                                               None          NaN   \n",
       "\n",
       "       HR_peak  HR_peak_latency  \n",
       "0     2.933170              6.0  \n",
       "1     3.951068             44.0  \n",
       "2     9.990368             28.0  \n",
       "3     8.753980              7.0  \n",
       "4    38.834153             20.0  \n",
       "..         ...              ...  \n",
       "123  23.109392              6.0  \n",
       "124  32.816904             12.0  \n",
       "125  30.140481              9.0  \n",
       "126  21.802132             10.0  \n",
       "127        NaN              NaN  \n",
       "\n",
       "[835 rows x 14 columns]"
      ]
     },
     "execution_count": 28,
     "metadata": {},
     "output_type": "execute_result"
    }
   ],
   "source": [
    "bursts_HR"
   ]
  },
  {
   "cell_type": "code",
   "execution_count": 92,
   "metadata": {},
   "outputs": [],
   "source": [
    "bursts_HR_pairplot = bursts_HR[[\"HR_peak\", \"HR_peak_latency\", \"AUC\", \"sub_ID\", \"SIB\", \"Limbs\"]].reset_index(drop=True)"
   ]
  },
  {
   "cell_type": "code",
   "execution_count": 93,
   "metadata": {},
   "outputs": [],
   "source": [
    "# bursts_HR_pairplot = bursts_HR_pairplot[bursts_HR_pairplot[\"SIB\"] == 1].reset_index(drop=True)\n",
    "bursts_HR_pairplot = bursts_HR_pairplot[bursts_HR_pairplot[\"Limbs\"] == set((\"LL\", \"LW\", \"RL\", \"RW\", \"T\"))].reset_index(drop=True)\n",
    "bursts_HR_pairplot = bursts_HR_pairplot[bursts_HR_pairplot[\"sub_ID\"] == \"971\"].reset_index(drop=True)"
   ]
  },
  {
   "cell_type": "code",
   "execution_count": 90,
   "metadata": {},
   "outputs": [],
   "source": [
    "# drop outliers with AUC too high or too low based on the 5 and 95 percentiles\n",
    "AUC_percentiles = bursts_HR_pairplot[\"AUC\"].describe(percentiles=[0.05, 0.95])\n",
    "AUC_5 = AUC_percentiles[\"5%\"]\n",
    "AUC_95 = AUC_percentiles[\"95%\"]\n",
    "\n",
    "to_remove = bursts_HR_pairplot[(bursts_HR_pairplot[\"AUC\"] < AUC_5) | (bursts_HR_pairplot[\"AUC\"] > AUC_95)].index\n",
    "bursts_HR_pairplot = bursts_HR_pairplot.drop(to_remove).reset_index(drop=True)"
   ]
  },
  {
   "cell_type": "code",
   "execution_count": 94,
   "metadata": {},
   "outputs": [
    {
     "data": {
      "text/plain": [
       "<seaborn.axisgrid.FacetGrid at 0x7fd07a687a00>"
      ]
     },
     "execution_count": 94,
     "metadata": {},
     "output_type": "execute_result"
    }
   ],
   "source": [
    "import seaborn as sns\n",
    "\n",
    "sns.lmplot(bursts_HR_pairplot, x = \"AUC\", y = \"HR_peak_latency\", hue = \"sub_ID\", col = \"SIB\")"
   ]
  },
  {
   "cell_type": "markdown",
   "metadata": {},
   "source": []
  }
 ],
 "metadata": {
  "kernelspec": {
   "display_name": "base",
   "language": "python",
   "name": "python3"
  },
  "language_info": {
   "codemirror_mode": {
    "name": "ipython",
    "version": 3
   },
   "file_extension": ".py",
   "mimetype": "text/x-python",
   "name": "python",
   "nbconvert_exporter": "python",
   "pygments_lexer": "ipython3",
   "version": "3.10.13"
  }
 },
 "nbformat": 4,
 "nbformat_minor": 2
}
